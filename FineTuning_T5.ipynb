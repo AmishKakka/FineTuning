{
 "cells": [
  {
   "cell_type": "code",
   "execution_count": 1,
   "metadata": {
    "colab": {
     "base_uri": "https://localhost:8080/",
     "height": 276,
     "referenced_widgets": [
      "056dc2ed4ef146abac8da2d1f5ea0122",
      "3783c5a3c1db476e8a788c51695579d5",
      "424df08b7583448cbc087622fd18f2cd",
      "04a9cd5149e240b7b187b47dee51a62c",
      "c7735b6f8b6b46719bf18f0a5b82fb9a",
      "b90bbe098a1449ddb3673d0891b31217",
      "46f0d37036a641589dd2b1da2dc7ae66",
      "15664c5088b240c7ab322798640d142b",
      "1d52bada9dad4379a75493399127000b",
      "3d4d36edd5ce4021981a44c23deac409",
      "67f35f7275404de29e42e314328579a3",
      "12daee9f851a41129654bd45a6672d09",
      "611e70fb266f4be58b10479eb42bc518",
      "54296343cd8e45cf9cce120296b2d9a9",
      "de41f025b080447b86729dc0e6d41e9d",
      "c6c1f095da6645e580072e4a44d94850",
      "008352874253473bb69efd6ef6489de3",
      "45099e9be6bf4a70b14179e892fa7b0f",
      "6c7385d48293460fbec109d9dc5c5aa5",
      "6ad28199d20146d78d96fbc84c9221db",
      "919e5aa4ee9a4b15a03ef8ca524beaaf",
      "0933fbab3b72417481bee447c411d01d",
      "a0ad568979944c5ca6de1503a61e19d3",
      "8ff5ddf15d824dd39f64c72f380371bd",
      "04079a1b7b1e4ec99e56740ab42c981f",
      "f7e2ce99e1c2478ea5b3899f2c689265",
      "71b9770f5ea84ed498c99550f1ca3b52",
      "d1a310ef96e94ba2adf19f4bf2e5ded7",
      "e6b6df1adf4b443cb46777e2f06e053c",
      "9d6c7558c44149d4a19407e811d94383",
      "a55402c392bd43bc8888219ca33347a7",
      "dd9b2b417dcf4a9f8d70e21f01a57e6a",
      "5cd2ed77e3f5488fa6548b236a97f0fe",
      "641ffefb40d4481c94b9b35e2d7977e7",
      "639f16df786243bb9b096ceb4ef1c3d9",
      "ff7f715ead53453ab4f344dff7a5ae7f",
      "d5abdaedb0174ca38a71c68196308830",
      "46450b79736a49e2baf61b38fc0915a3",
      "fad9ecb355dc47a68dff731e7cf2a8b6",
      "8e229ab1b2b24cb8b705aeab98122700",
      "4ca3d37261914eae8e0157961295a4e0",
      "85fca20402ce44bc84fb751f5e41b155",
      "7d41ce7c04484b808ec7ab512b03a7c1",
      "268c0e42303f42dfbf60d4eb50886b8f",
      "801d89f1fc234146840802141feb227c",
      "326e5aa7fa79491e855c90c21b9899c0",
      "7007996f56dd4635b05b019ad6ad6512",
      "37c91df88b6d4b1abd95e60851e4eb38",
      "b14d257b16804f899e9839971fd7737c",
      "fafdc169075f4d3893f5f7c793ff5519",
      "c1d50fcaa31e4ad4ae6036976e517c7f",
      "4f55d0898ffc46c7878dec802458d4c7",
      "ffe98ec1f0d9411583e1e3de3637d2b1",
      "72be6ca89f2f4c58be80d72a07a9f0ff",
      "2610b2b8b21b4066a67ea484b624be88",
      "443ce329556c4c9dbadfc7cbb0296e06",
      "d18d5ad17d524951bb3e0c0e6a1bb148",
      "5abb62978173426a883b1f227541dd29",
      "f86db8fd00254838914cc15cf2d93ea1",
      "65612a59700d4486aa023618ae3fc932",
      "6fc39a580dad4a3f97ccf8e19ebf9456",
      "916e0ebeebbc493a888d6645cf784130",
      "cb02d94a88544747abbeda222a858e3b",
      "8877295a7ad84ac781a31e07cc8f3479",
      "128f8096dbaf45589f1aad81445ed902",
      "5843a4f025564adfa9955f2dfe13165a",
      "bc59e65de83241f3a1b91ee785b33dcd",
      "6cf2bed545804942ad7b7f5aa3c6110d",
      "6087b03959464f2c86a3f5a9f548de35",
      "9482e1c1c9574d849b43e4939c0fa54c",
      "4dbdf7225f98456ba015296689491471",
      "b853203c69ef423abd51184f1b67dc10",
      "5991c4a8608e402b89d7d5b83a788f4a",
      "f927fbd38e4b44268cb0203cccdbe60c",
      "bfcaab567483490399c5ab0c87892838",
      "19cce9235b4d47309c896b3d3df2a2ae",
      "95a0a00832774689855a8373ccab75d4"
     ]
    },
    "id": "scCkIQ9SMQXq",
    "outputId": "871323d7-b619-4667-ba22-5c0830a6f900"
   },
   "outputs": [
    {
     "name": "stdout",
     "output_type": "stream",
     "text": [
      "Embedding(32128, 512)\n",
      "After adding new tokens:  Embedding(32104, 512)\n"
     ]
    }
   ],
   "source": [
    "import torch\n",
    "import re\n",
    "import polars as pl\n",
    "from datasets import Dataset, NamedSplit, DatasetDict\n",
    "from peft import LoraConfig, get_peft_model\n",
    "from transformers import AutoTokenizer, AutoModelForSeq2SeqLM\n",
    "\n",
    "tokenizer = AutoTokenizer.from_pretrained(\"google/flan-t5-small\")\n",
    "tokenizer.add_tokens(['<think>', '</think>', '<answer>', '</answer>'])\n",
    "model = AutoModelForSeq2SeqLM.from_pretrained(\"google/flan-t5-small\")\n",
    "print(model.get_input_embeddings())\n",
    "model.resize_token_embeddings(len(tokenizer))\n",
    "print(\"After adding new tokens: \", model.get_input_embeddings())"
   ]
  },
  {
   "cell_type": "markdown",
   "metadata": {},
   "source": [
    "Parameters after creating a LoRA config get decreased to 86,016 parameters. Also, i convert the dtype of parameters from float32 to bfloat16.\\\n",
    "**Training the model using float32 params runs out of GPU memory when using mps.**\n",
    "\n",
    "Total params = 86,016\\\n",
    "bfloat16 = 2 bytes\\\n",
    "Params space = 86,016 x 2 = 132,032 bytes \\\n",
    "Also, the same amount of memory will be required during backpropogation to store the differentiated value of all the variable parameters. \\\n",
    "Toal Params space = 132,032 x 2 = 264,064 bytes = **264 KB**"
   ]
  },
  {
   "cell_type": "code",
   "execution_count": 2,
   "metadata": {
    "colab": {
     "base_uri": "https://localhost:8080/"
    },
    "id": "cPvmTp_gf_jb",
    "outputId": "ff52a974-3126-40b1-ec57-0f48d3953b83"
   },
   "outputs": [
    {
     "name": "stdout",
     "output_type": "stream",
     "text": [
      "'NoneType' object has no attribute 'cadam32bit_grad_fp32'\n",
      "trainable params: 86,016 || all params: 77,022,592 || trainable%: 0.1117\n",
      "None\n",
      "\n",
      "--- Changing Dtype of Trainable Parameters to bfloat16 ---\n"
     ]
    },
    {
     "name": "stderr",
     "output_type": "stream",
     "text": [
      "/Users/amish130437/Desktop/FineTuning/torchENV/lib/python3.13/site-packages/bitsandbytes/cextension.py:34: UserWarning: The installed version of bitsandbytes was compiled without GPU support. 8-bit optimizers, 8-bit multiplication, and GPU quantization are unavailable.\n",
      "  warn(\"The installed version of bitsandbytes was compiled without GPU support. \"\n"
     ]
    },
    {
     "name": "stdout",
     "output_type": "stream",
     "text": [
      "Parameter: base_model.model.encoder.block.0.layer.0.SelfAttention.q.lora_A.default.weight, Dtype: torch.bfloat16, Requires Grad: True\n",
      "Parameter: base_model.model.encoder.block.0.layer.0.SelfAttention.q.lora_B.default.weight, Dtype: torch.bfloat16, Requires Grad: True\n",
      "Parameter: base_model.model.encoder.block.0.layer.0.SelfAttention.v.lora_A.default.weight, Dtype: torch.bfloat16, Requires Grad: True\n",
      "Parameter: base_model.model.encoder.block.0.layer.0.SelfAttention.v.lora_B.default.weight, Dtype: torch.bfloat16, Requires Grad: True\n",
      "Parameter: base_model.model.encoder.block.1.layer.0.SelfAttention.q.lora_A.default.weight, Dtype: torch.bfloat16, Requires Grad: True\n",
      "Parameter: base_model.model.encoder.block.1.layer.0.SelfAttention.q.lora_B.default.weight, Dtype: torch.bfloat16, Requires Grad: True\n",
      "Parameter: base_model.model.encoder.block.1.layer.0.SelfAttention.v.lora_A.default.weight, Dtype: torch.bfloat16, Requires Grad: True\n",
      "Parameter: base_model.model.encoder.block.1.layer.0.SelfAttention.v.lora_B.default.weight, Dtype: torch.bfloat16, Requires Grad: True\n",
      "Parameter: base_model.model.encoder.block.2.layer.0.SelfAttention.q.lora_A.default.weight, Dtype: torch.bfloat16, Requires Grad: True\n",
      "Parameter: base_model.model.encoder.block.2.layer.0.SelfAttention.q.lora_B.default.weight, Dtype: torch.bfloat16, Requires Grad: True\n",
      "Parameter: base_model.model.encoder.block.2.layer.0.SelfAttention.v.lora_A.default.weight, Dtype: torch.bfloat16, Requires Grad: True\n",
      "Parameter: base_model.model.encoder.block.2.layer.0.SelfAttention.v.lora_B.default.weight, Dtype: torch.bfloat16, Requires Grad: True\n",
      "Parameter: base_model.model.encoder.block.3.layer.0.SelfAttention.q.lora_A.default.weight, Dtype: torch.bfloat16, Requires Grad: True\n",
      "Parameter: base_model.model.encoder.block.3.layer.0.SelfAttention.q.lora_B.default.weight, Dtype: torch.bfloat16, Requires Grad: True\n",
      "Parameter: base_model.model.encoder.block.3.layer.0.SelfAttention.v.lora_A.default.weight, Dtype: torch.bfloat16, Requires Grad: True\n",
      "Parameter: base_model.model.encoder.block.3.layer.0.SelfAttention.v.lora_B.default.weight, Dtype: torch.bfloat16, Requires Grad: True\n",
      "Parameter: base_model.model.encoder.block.4.layer.0.SelfAttention.q.lora_A.default.weight, Dtype: torch.bfloat16, Requires Grad: True\n",
      "Parameter: base_model.model.encoder.block.4.layer.0.SelfAttention.q.lora_B.default.weight, Dtype: torch.bfloat16, Requires Grad: True\n",
      "Parameter: base_model.model.encoder.block.4.layer.0.SelfAttention.v.lora_A.default.weight, Dtype: torch.bfloat16, Requires Grad: True\n",
      "Parameter: base_model.model.encoder.block.4.layer.0.SelfAttention.v.lora_B.default.weight, Dtype: torch.bfloat16, Requires Grad: True\n",
      "Parameter: base_model.model.encoder.block.5.layer.0.SelfAttention.q.lora_A.default.weight, Dtype: torch.bfloat16, Requires Grad: True\n",
      "Parameter: base_model.model.encoder.block.5.layer.0.SelfAttention.q.lora_B.default.weight, Dtype: torch.bfloat16, Requires Grad: True\n",
      "Parameter: base_model.model.encoder.block.5.layer.0.SelfAttention.v.lora_A.default.weight, Dtype: torch.bfloat16, Requires Grad: True\n",
      "Parameter: base_model.model.encoder.block.5.layer.0.SelfAttention.v.lora_B.default.weight, Dtype: torch.bfloat16, Requires Grad: True\n",
      "Parameter: base_model.model.encoder.block.6.layer.0.SelfAttention.q.lora_A.default.weight, Dtype: torch.bfloat16, Requires Grad: True\n",
      "Parameter: base_model.model.encoder.block.6.layer.0.SelfAttention.q.lora_B.default.weight, Dtype: torch.bfloat16, Requires Grad: True\n",
      "Parameter: base_model.model.encoder.block.6.layer.0.SelfAttention.v.lora_A.default.weight, Dtype: torch.bfloat16, Requires Grad: True\n",
      "Parameter: base_model.model.encoder.block.6.layer.0.SelfAttention.v.lora_B.default.weight, Dtype: torch.bfloat16, Requires Grad: True\n",
      "Parameter: base_model.model.encoder.block.7.layer.0.SelfAttention.q.lora_A.default.weight, Dtype: torch.bfloat16, Requires Grad: True\n",
      "Parameter: base_model.model.encoder.block.7.layer.0.SelfAttention.q.lora_B.default.weight, Dtype: torch.bfloat16, Requires Grad: True\n",
      "Parameter: base_model.model.encoder.block.7.layer.0.SelfAttention.v.lora_A.default.weight, Dtype: torch.bfloat16, Requires Grad: True\n",
      "Parameter: base_model.model.encoder.block.7.layer.0.SelfAttention.v.lora_B.default.weight, Dtype: torch.bfloat16, Requires Grad: True\n",
      "Parameter: base_model.model.decoder.block.0.layer.0.SelfAttention.q.lora_A.default.weight, Dtype: torch.bfloat16, Requires Grad: True\n",
      "Parameter: base_model.model.decoder.block.0.layer.0.SelfAttention.q.lora_B.default.weight, Dtype: torch.bfloat16, Requires Grad: True\n",
      "Parameter: base_model.model.decoder.block.0.layer.0.SelfAttention.v.lora_A.default.weight, Dtype: torch.bfloat16, Requires Grad: True\n",
      "Parameter: base_model.model.decoder.block.0.layer.0.SelfAttention.v.lora_B.default.weight, Dtype: torch.bfloat16, Requires Grad: True\n",
      "Parameter: base_model.model.decoder.block.0.layer.1.EncDecAttention.q.lora_A.default.weight, Dtype: torch.bfloat16, Requires Grad: True\n",
      "Parameter: base_model.model.decoder.block.0.layer.1.EncDecAttention.q.lora_B.default.weight, Dtype: torch.bfloat16, Requires Grad: True\n",
      "Parameter: base_model.model.decoder.block.0.layer.1.EncDecAttention.v.lora_A.default.weight, Dtype: torch.bfloat16, Requires Grad: True\n",
      "Parameter: base_model.model.decoder.block.0.layer.1.EncDecAttention.v.lora_B.default.weight, Dtype: torch.bfloat16, Requires Grad: True\n",
      "Parameter: base_model.model.decoder.block.1.layer.0.SelfAttention.q.lora_A.default.weight, Dtype: torch.bfloat16, Requires Grad: True\n",
      "Parameter: base_model.model.decoder.block.1.layer.0.SelfAttention.q.lora_B.default.weight, Dtype: torch.bfloat16, Requires Grad: True\n",
      "Parameter: base_model.model.decoder.block.1.layer.0.SelfAttention.v.lora_A.default.weight, Dtype: torch.bfloat16, Requires Grad: True\n",
      "Parameter: base_model.model.decoder.block.1.layer.0.SelfAttention.v.lora_B.default.weight, Dtype: torch.bfloat16, Requires Grad: True\n",
      "Parameter: base_model.model.decoder.block.1.layer.1.EncDecAttention.q.lora_A.default.weight, Dtype: torch.bfloat16, Requires Grad: True\n",
      "Parameter: base_model.model.decoder.block.1.layer.1.EncDecAttention.q.lora_B.default.weight, Dtype: torch.bfloat16, Requires Grad: True\n",
      "Parameter: base_model.model.decoder.block.1.layer.1.EncDecAttention.v.lora_A.default.weight, Dtype: torch.bfloat16, Requires Grad: True\n",
      "Parameter: base_model.model.decoder.block.1.layer.1.EncDecAttention.v.lora_B.default.weight, Dtype: torch.bfloat16, Requires Grad: True\n",
      "Parameter: base_model.model.decoder.block.2.layer.0.SelfAttention.q.lora_A.default.weight, Dtype: torch.bfloat16, Requires Grad: True\n",
      "Parameter: base_model.model.decoder.block.2.layer.0.SelfAttention.q.lora_B.default.weight, Dtype: torch.bfloat16, Requires Grad: True\n",
      "Parameter: base_model.model.decoder.block.2.layer.0.SelfAttention.v.lora_A.default.weight, Dtype: torch.bfloat16, Requires Grad: True\n",
      "Parameter: base_model.model.decoder.block.2.layer.0.SelfAttention.v.lora_B.default.weight, Dtype: torch.bfloat16, Requires Grad: True\n",
      "Parameter: base_model.model.decoder.block.2.layer.1.EncDecAttention.q.lora_A.default.weight, Dtype: torch.bfloat16, Requires Grad: True\n",
      "Parameter: base_model.model.decoder.block.2.layer.1.EncDecAttention.q.lora_B.default.weight, Dtype: torch.bfloat16, Requires Grad: True\n",
      "Parameter: base_model.model.decoder.block.2.layer.1.EncDecAttention.v.lora_A.default.weight, Dtype: torch.bfloat16, Requires Grad: True\n",
      "Parameter: base_model.model.decoder.block.2.layer.1.EncDecAttention.v.lora_B.default.weight, Dtype: torch.bfloat16, Requires Grad: True\n",
      "Parameter: base_model.model.decoder.block.3.layer.0.SelfAttention.q.lora_A.default.weight, Dtype: torch.bfloat16, Requires Grad: True\n",
      "Parameter: base_model.model.decoder.block.3.layer.0.SelfAttention.q.lora_B.default.weight, Dtype: torch.bfloat16, Requires Grad: True\n",
      "Parameter: base_model.model.decoder.block.3.layer.0.SelfAttention.v.lora_A.default.weight, Dtype: torch.bfloat16, Requires Grad: True\n",
      "Parameter: base_model.model.decoder.block.3.layer.0.SelfAttention.v.lora_B.default.weight, Dtype: torch.bfloat16, Requires Grad: True\n",
      "Parameter: base_model.model.decoder.block.3.layer.1.EncDecAttention.q.lora_A.default.weight, Dtype: torch.bfloat16, Requires Grad: True\n",
      "Parameter: base_model.model.decoder.block.3.layer.1.EncDecAttention.q.lora_B.default.weight, Dtype: torch.bfloat16, Requires Grad: True\n",
      "Parameter: base_model.model.decoder.block.3.layer.1.EncDecAttention.v.lora_A.default.weight, Dtype: torch.bfloat16, Requires Grad: True\n",
      "Parameter: base_model.model.decoder.block.3.layer.1.EncDecAttention.v.lora_B.default.weight, Dtype: torch.bfloat16, Requires Grad: True\n",
      "Parameter: base_model.model.decoder.block.4.layer.0.SelfAttention.q.lora_A.default.weight, Dtype: torch.bfloat16, Requires Grad: True\n",
      "Parameter: base_model.model.decoder.block.4.layer.0.SelfAttention.q.lora_B.default.weight, Dtype: torch.bfloat16, Requires Grad: True\n",
      "Parameter: base_model.model.decoder.block.4.layer.0.SelfAttention.v.lora_A.default.weight, Dtype: torch.bfloat16, Requires Grad: True\n",
      "Parameter: base_model.model.decoder.block.4.layer.0.SelfAttention.v.lora_B.default.weight, Dtype: torch.bfloat16, Requires Grad: True\n",
      "Parameter: base_model.model.decoder.block.4.layer.1.EncDecAttention.q.lora_A.default.weight, Dtype: torch.bfloat16, Requires Grad: True\n",
      "Parameter: base_model.model.decoder.block.4.layer.1.EncDecAttention.q.lora_B.default.weight, Dtype: torch.bfloat16, Requires Grad: True\n",
      "Parameter: base_model.model.decoder.block.4.layer.1.EncDecAttention.v.lora_A.default.weight, Dtype: torch.bfloat16, Requires Grad: True\n",
      "Parameter: base_model.model.decoder.block.4.layer.1.EncDecAttention.v.lora_B.default.weight, Dtype: torch.bfloat16, Requires Grad: True\n",
      "Parameter: base_model.model.decoder.block.5.layer.0.SelfAttention.q.lora_A.default.weight, Dtype: torch.bfloat16, Requires Grad: True\n",
      "Parameter: base_model.model.decoder.block.5.layer.0.SelfAttention.q.lora_B.default.weight, Dtype: torch.bfloat16, Requires Grad: True\n",
      "Parameter: base_model.model.decoder.block.5.layer.0.SelfAttention.v.lora_A.default.weight, Dtype: torch.bfloat16, Requires Grad: True\n",
      "Parameter: base_model.model.decoder.block.5.layer.0.SelfAttention.v.lora_B.default.weight, Dtype: torch.bfloat16, Requires Grad: True\n",
      "Parameter: base_model.model.decoder.block.5.layer.1.EncDecAttention.q.lora_A.default.weight, Dtype: torch.bfloat16, Requires Grad: True\n",
      "Parameter: base_model.model.decoder.block.5.layer.1.EncDecAttention.q.lora_B.default.weight, Dtype: torch.bfloat16, Requires Grad: True\n",
      "Parameter: base_model.model.decoder.block.5.layer.1.EncDecAttention.v.lora_A.default.weight, Dtype: torch.bfloat16, Requires Grad: True\n",
      "Parameter: base_model.model.decoder.block.5.layer.1.EncDecAttention.v.lora_B.default.weight, Dtype: torch.bfloat16, Requires Grad: True\n",
      "Parameter: base_model.model.decoder.block.6.layer.0.SelfAttention.q.lora_A.default.weight, Dtype: torch.bfloat16, Requires Grad: True\n",
      "Parameter: base_model.model.decoder.block.6.layer.0.SelfAttention.q.lora_B.default.weight, Dtype: torch.bfloat16, Requires Grad: True\n",
      "Parameter: base_model.model.decoder.block.6.layer.0.SelfAttention.v.lora_A.default.weight, Dtype: torch.bfloat16, Requires Grad: True\n",
      "Parameter: base_model.model.decoder.block.6.layer.0.SelfAttention.v.lora_B.default.weight, Dtype: torch.bfloat16, Requires Grad: True\n",
      "Parameter: base_model.model.decoder.block.6.layer.1.EncDecAttention.q.lora_A.default.weight, Dtype: torch.bfloat16, Requires Grad: True\n",
      "Parameter: base_model.model.decoder.block.6.layer.1.EncDecAttention.q.lora_B.default.weight, Dtype: torch.bfloat16, Requires Grad: True\n",
      "Parameter: base_model.model.decoder.block.6.layer.1.EncDecAttention.v.lora_A.default.weight, Dtype: torch.bfloat16, Requires Grad: True\n",
      "Parameter: base_model.model.decoder.block.6.layer.1.EncDecAttention.v.lora_B.default.weight, Dtype: torch.bfloat16, Requires Grad: True\n",
      "Parameter: base_model.model.decoder.block.7.layer.0.SelfAttention.q.lora_A.default.weight, Dtype: torch.bfloat16, Requires Grad: True\n",
      "Parameter: base_model.model.decoder.block.7.layer.0.SelfAttention.q.lora_B.default.weight, Dtype: torch.bfloat16, Requires Grad: True\n",
      "Parameter: base_model.model.decoder.block.7.layer.0.SelfAttention.v.lora_A.default.weight, Dtype: torch.bfloat16, Requires Grad: True\n",
      "Parameter: base_model.model.decoder.block.7.layer.0.SelfAttention.v.lora_B.default.weight, Dtype: torch.bfloat16, Requires Grad: True\n",
      "Parameter: base_model.model.decoder.block.7.layer.1.EncDecAttention.q.lora_A.default.weight, Dtype: torch.bfloat16, Requires Grad: True\n",
      "Parameter: base_model.model.decoder.block.7.layer.1.EncDecAttention.q.lora_B.default.weight, Dtype: torch.bfloat16, Requires Grad: True\n",
      "Parameter: base_model.model.decoder.block.7.layer.1.EncDecAttention.v.lora_A.default.weight, Dtype: torch.bfloat16, Requires Grad: True\n",
      "Parameter: base_model.model.decoder.block.7.layer.1.EncDecAttention.v.lora_B.default.weight, Dtype: torch.bfloat16, Requires Grad: True\n"
     ]
    }
   ],
   "source": [
    "lora_config = LoraConfig(\n",
    "    task_type=\"QUESTION_ANS\",\n",
    "    r=2,\n",
    "    target_modules=[\"q\", \"v\"])\n",
    "LoRA_model = get_peft_model(model, lora_config)\n",
    "print(LoRA_model.print_trainable_parameters())\n",
    "\n",
    "print(\"\\n--- Changing Dtype of Trainable Parameters to bfloat16 ---\")\n",
    "LoRA_model = LoRA_model.to(torch.bfloat16)\n",
    "\n",
    "for name, param in LoRA_model.named_parameters():\n",
    "    if param.requires_grad:\n",
    "        print(f\"Parameter: {name}, Dtype: {param.dtype}, Requires Grad: {param.requires_grad}\")\n",
    "        "
   ]
  },
  {
   "cell_type": "code",
   "execution_count": 3,
   "metadata": {},
   "outputs": [
    {
     "name": "stdout",
     "output_type": "stream",
     "text": [
      "Total GPU memory allocated by Metal driver for the process: 1166426112 bytes\n",
      "Current GPU memory occupied by tensors: 154045440 bytes\n"
     ]
    }
   ],
   "source": [
    "mpsDevice = torch.device(\"mps\")\n",
    "LoRA_model.to(device=mpsDevice)\n",
    "print(f\"Total GPU memory allocated by Metal driver for the process: {torch.mps.driver_allocated_memory()} bytes\")\n",
    "print(f\"Current GPU memory occupied by tensors: {torch.mps.current_allocated_memory()} bytes\")"
   ]
  },
  {
   "cell_type": "code",
   "execution_count": 4,
   "metadata": {
    "colab": {
     "base_uri": "https://localhost:8080/"
    },
    "id": "VpkV1UFaQADr",
    "outputId": "f7532c11-cf16-4c47-a802-e97bf14af06f"
   },
   "outputs": [
    {
     "name": "stdout",
     "output_type": "stream",
     "text": [
      "{'input_ids': [183, 1273, 3, 1258, 8511, 9, 3, 1], 'attention_mask': [1, 1, 1, 1, 1, 1, 1, 1]}\n"
     ]
    },
    {
     "data": {
      "text/plain": [
       "[183, 1273, 3, 1258, 8511, 9, 3, 1]"
      ]
     },
     "execution_count": 4,
     "metadata": {},
     "output_type": "execute_result"
    }
   ],
   "source": [
    "print(tokenizer(\"amish kakka \"))\n",
    "tokenizer.encode(\"amish kakka \")"
   ]
  },
  {
   "cell_type": "code",
   "execution_count": 50,
   "metadata": {},
   "outputs": [
    {
     "name": "stdout",
     "output_type": "stream",
     "text": [
      "tensor([[11801,     8, 11860,    10,  1661,    13,  2312,    58,     1]],\n",
      "       device='mps:0')\n",
      "tensor([[1, 1, 1, 1, 1, 1, 1, 1, 1]], device='mps:0')\n",
      "tensor([[  94,   19, 7459, 2523,    1]], device='mps:0')\n",
      "tensor([[1, 1, 1, 1, 1]], device='mps:0')\n"
     ]
    }
   ],
   "source": [
    "text = \"Answer the Question: President of USA?\"\n",
    "answer = \"It is Donald Trump\"\n",
    "encodedText = tokenizer(text, return_tensors='pt', padding=True)\n",
    "tensorInput = torch.Tensor(encodedText['input_ids']).view(1,-1)\n",
    "tensorInput = tensorInput.to(dtype=torch.long,\n",
    "                             device=mpsDevice)\n",
    "tensorMask = torch.Tensor(encodedText['attention_mask']).view(1,-1)\n",
    "tensorMask = tensorMask.to(dtype=torch.long,\n",
    "                           device=mpsDevice)\n",
    "encodedAns = tokenizer(answer, return_tensors='pt', padding=True)\n",
    "tensorAnswer = torch.Tensor(encodedAns['input_ids']).view(1,-1)\n",
    "tensorAnswer = tensorAnswer.to(dtype=torch.long,\n",
    "                             device=mpsDevice)\n",
    "tensorLabel = torch.Tensor(encodedAns['attention_mask']).view(1,-1)\n",
    "tensorLabel = tensorLabel.to(dtype=torch.long,\n",
    "                           device=mpsDevice)\n",
    "print(tensorInput)\n",
    "print(tensorMask)\n",
    "print(tensorAnswer)\n",
    "print(tensorLabel)"
   ]
  },
  {
   "cell_type": "code",
   "execution_count": 62,
   "metadata": {},
   "outputs": [
    {
     "name": "stdout",
     "output_type": "stream",
     "text": [
      "john d. kennedy\n"
     ]
    }
   ],
   "source": [
    "LoRA_model.eval()\n",
    "outputs = LoRA_model.generate(input_ids=tensorInput, \n",
    "                              attention_mask=tensorMask)\n",
    "print(tokenizer.decode(outputs[0].tolist(), skip_special_tokens=True))"
   ]
  },
  {
   "cell_type": "code",
   "execution_count": 57,
   "metadata": {},
   "outputs": [],
   "source": [
    "model.eval()\n",
    "model.to(device=mpsDevice)\n",
    "tensorOutput = model(input_ids=tensorInput,\n",
    "                     attention_mask=tensorMask,\n",
    "                     decoder_input_ids=tensorAnswer)"
   ]
  },
  {
   "cell_type": "code",
   "execution_count": 7,
   "metadata": {},
   "outputs": [
    {
     "name": "stdout",
     "output_type": "stream",
     "text": [
      "torch.Size([5, 32104])\n",
      "tensor([[7.5687e-23, 5.8984e-01, 2.0599e-03,  ..., 9.7607e-23, 9.7607e-23,\n",
      "         7.5687e-23],\n",
      "        [7.9823e-23, 5.9375e-01, 1.5411e-03,  ..., 7.9823e-23, 7.9823e-23,\n",
      "         7.9823e-23],\n",
      "        [1.8281e-22, 6.7188e-01, 3.1853e-04,  ..., 2.3492e-22, 1.8281e-22,\n",
      "         1.8281e-22],\n",
      "        [1.4641e-22, 4.3945e-01, 8.8215e-05,  ..., 1.8860e-22, 1.8860e-22,\n",
      "         1.8860e-22],\n",
      "        [1.7448e-25, 7.9102e-02, 1.3769e-05,  ..., 1.7448e-25, 1.7448e-25,\n",
      "         1.3652e-25]], device='mps:0', dtype=torch.bfloat16,\n",
      "       grad_fn=<SoftmaxBackward0>)\n",
      "tensor([  1,   1,   1,   1, 233], device='mps:0')\n"
     ]
    },
    {
     "data": {
      "text/plain": [
       "'</s></s></s></s>...'"
      ]
     },
     "execution_count": 7,
     "metadata": {},
     "output_type": "execute_result"
    }
   ],
   "source": [
    "logits = tensorOutput.logits\n",
    "logits = logits.view(5, -1)\n",
    "print(logits.size())\n",
    "softmax = torch.nn.Softmax(dim=1)\n",
    "probs = softmax(logits)\n",
    "print(probs)\n",
    "maxProbs = torch.argmax(probs, dim=1)\n",
    "print(maxProbs)\n",
    "tokenizer.decode(maxProbs)"
   ]
  },
  {
   "cell_type": "code",
   "execution_count": 8,
   "metadata": {
    "id": "ZBjMgxU6QKPG"
   },
   "outputs": [],
   "source": [
    "'''\n",
    "    Open your terminal and login to huggingface using the command :- huggingface-cli login\n",
    "    Enter your generated token from Hugging Face.\n",
    "'''\n",
    "\n",
    "splits = {'train': 'data/train-00000-of-00001.parquet',\n",
    "          'validation': 'data/validation-00000-of-00001.parquet',\n",
    "          'test': 'data/test-00000-of-00001.parquet'}\n",
    "\n",
    "df = pl.read_parquet('hf://datasets/allenai/sciq/' + splits['train'])\n",
    "val_df = pl.read_parquet('hf://datasets/allenai/sciq/' + splits['validation'])\n",
    "test_df = pl.read_parquet('hf://datasets/allenai/sciq/' + splits['test'])"
   ]
  },
  {
   "cell_type": "code",
   "execution_count": 9,
   "metadata": {
    "colab": {
     "base_uri": "https://localhost:8080/",
     "height": 254
    },
    "id": "qdEEvo6DaHgW",
    "outputId": "027ff789-d54a-4ddd-89f9-ecbb384be23f"
   },
   "outputs": [
    {
     "data": {
      "text/html": [
       "<div><style>\n",
       ".dataframe > thead > tr,\n",
       ".dataframe > tbody > tr {\n",
       "  text-align: right;\n",
       "  white-space: pre-wrap;\n",
       "}\n",
       "</style>\n",
       "<small>shape: (5, 6)</small><table border=\"1\" class=\"dataframe\"><thead><tr><th>question</th><th>distractor3</th><th>distractor1</th><th>distractor2</th><th>correct_answer</th><th>support</th></tr><tr><td>str</td><td>str</td><td>str</td><td>str</td><td>str</td><td>str</td></tr></thead><tbody><tr><td>&quot;What type of organism is commo…</td><td>&quot;viruses&quot;</td><td>&quot;protozoa&quot;</td><td>&quot;gymnosperms&quot;</td><td>&quot;mesophilic organisms&quot;</td><td>&quot;Mesophiles grow best in modera…</td></tr><tr><td>&quot;What phenomenon makes global w…</td><td>&quot;tropical effect&quot;</td><td>&quot;muon effect&quot;</td><td>&quot;centrifugal effect&quot;</td><td>&quot;coriolis effect&quot;</td><td>&quot;Without Coriolis Effect the gl…</td></tr><tr><td>&quot;Changes from a less-ordered st…</td><td>&quot;endothermic&quot;</td><td>&quot;unbalanced&quot;</td><td>&quot;reactive&quot;</td><td>&quot;exothermic&quot;</td><td>&quot;Summary Changes of state are e…</td></tr><tr><td>&quot;What is the least dangerous ra…</td><td>&quot;zeta decay&quot;</td><td>&quot;beta decay&quot;</td><td>&quot;gamma decay&quot;</td><td>&quot;alpha decay&quot;</td><td>&quot;All radioactive decay is dange…</td></tr><tr><td>&quot;Kilauea in hawaii is the world…</td><td>&quot;magma&quot;</td><td>&quot;greenhouse gases&quot;</td><td>&quot;carbon and smog&quot;</td><td>&quot;smoke and ash&quot;</td><td>&quot;Example 3.5 Calculating Projec…</td></tr></tbody></table></div>"
      ],
      "text/plain": [
       "shape: (5, 6)\n",
       "┌────────────────┬────────────────┬────────────────┬───────────────┬───────────────┬───────────────┐\n",
       "│ question       ┆ distractor3    ┆ distractor1    ┆ distractor2   ┆ correct_answe ┆ support       │\n",
       "│ ---            ┆ ---            ┆ ---            ┆ ---           ┆ r             ┆ ---           │\n",
       "│ str            ┆ str            ┆ str            ┆ str           ┆ ---           ┆ str           │\n",
       "│                ┆                ┆                ┆               ┆ str           ┆               │\n",
       "╞════════════════╪════════════════╪════════════════╪═══════════════╪═══════════════╪═══════════════╡\n",
       "│ What type of   ┆ viruses        ┆ protozoa       ┆ gymnosperms   ┆ mesophilic    ┆ Mesophiles    │\n",
       "│ organism is    ┆                ┆                ┆               ┆ organisms     ┆ grow best in  │\n",
       "│ commo…         ┆                ┆                ┆               ┆               ┆ modera…       │\n",
       "│ What           ┆ tropical       ┆ muon effect    ┆ centrifugal   ┆ coriolis      ┆ Without       │\n",
       "│ phenomenon     ┆ effect         ┆                ┆ effect        ┆ effect        ┆ Coriolis      │\n",
       "│ makes global   ┆                ┆                ┆               ┆               ┆ Effect the    │\n",
       "│ w…             ┆                ┆                ┆               ┆               ┆ gl…           │\n",
       "│ Changes from a ┆ endothermic    ┆ unbalanced     ┆ reactive      ┆ exothermic    ┆ Summary       │\n",
       "│ less-ordered   ┆                ┆                ┆               ┆               ┆ Changes of    │\n",
       "│ st…            ┆                ┆                ┆               ┆               ┆ state are e…  │\n",
       "│ What is the    ┆ zeta decay     ┆ beta decay     ┆ gamma decay   ┆ alpha decay   ┆ All           │\n",
       "│ least          ┆                ┆                ┆               ┆               ┆ radioactive   │\n",
       "│ dangerous ra…  ┆                ┆                ┆               ┆               ┆ decay is      │\n",
       "│                ┆                ┆                ┆               ┆               ┆ dange…        │\n",
       "│ Kilauea in     ┆ magma          ┆ greenhouse     ┆ carbon and    ┆ smoke and ash ┆ Example 3.5   │\n",
       "│ hawaii is the  ┆                ┆ gases          ┆ smog          ┆               ┆ Calculating   │\n",
       "│ world…         ┆                ┆                ┆               ┆               ┆ Projec…       │\n",
       "└────────────────┴────────────────┴────────────────┴───────────────┴───────────────┴───────────────┘"
      ]
     },
     "execution_count": 9,
     "metadata": {},
     "output_type": "execute_result"
    }
   ],
   "source": [
    "(df.head(5))"
   ]
  },
  {
   "cell_type": "code",
   "execution_count": 95,
   "metadata": {
    "id": "OaBTZrpLiYbp"
   },
   "outputs": [],
   "source": [
    "def restructureData(example):\n",
    "  '''\n",
    "    The purpose of \"restructuring\" is to have a clear format for the input and output data for the model.\n",
    "    Args:\n",
    "      example: A single row of the original dataset to format.\n",
    "  '''\n",
    "  re_input = f\"{example[0]}\\nOptions: {example[1]}\\n{example[2]}\\n{example[3]}\\n{example[4]}\"\n",
    "  re_reason = f\"<think>{example[5]}</think>\"\n",
    "  re_output = f\"{example[4]}\"\n",
    "  return re_input, re_reason, re_output\n",
    "\n",
    "newData = df.map_rows(lambda x: restructureData(x))\n",
    "valData = val_df.map_rows(lambda x: restructureData(x))\n",
    "testData = test_df.map_rows(lambda x: restructureData(x))"
   ]
  },
  {
   "cell_type": "code",
   "execution_count": 96,
   "metadata": {
    "id": "zLLv_cumjVmM"
   },
   "outputs": [],
   "source": [
    "newData.columns = ['questions', 'reasoning', 'answers']\n",
    "valData.columns = ['questions', 'reasoning', 'answers']\n",
    "testData.columns = ['questions', 'reasoning', 'answers']"
   ]
  },
  {
   "cell_type": "code",
   "execution_count": 97,
   "metadata": {
    "colab": {
     "base_uri": "https://localhost:8080/",
     "height": 35
    },
    "id": "10k7tilvTtwT",
    "outputId": "ae5d41b1-ccd3-4b05-f210-7af3fe1c5805"
   },
   "outputs": [
    {
     "name": "stdout",
     "output_type": "stream",
     "text": [
      "Why does water infiltrate the ground?\n",
      "Options: run-off from flooding\n",
      "gravity\n",
      "prolonged drought conditions\n",
      "because soil and rocks are porous\n",
      "<think>Water infiltrates the ground because soil and rock are porous. Between the grains are pores, or tiny holes. Since water can move through this rock it is permeable. Eventually, the water reaches a layer of rock that is not porous and so is impermeable. Water stops moving downward when it reaches this layer of rock.</think>\n",
      "because soil and rocks are porous\n"
     ]
    }
   ],
   "source": [
    "# Interestingly enough Dataset.from_polars() is not supported now.\n",
    "# So, I convert the newly formed polars dataset to pandas, and then in the cell below into an distinct Dataset object based on the splits.\n",
    "# Then, combining them into a master 'dataset_dict' object.\n",
    "Data_pd = newData.to_pandas()\n",
    "valData_pd = valData.to_pandas()\n",
    "testData_pd = testData.to_pandas()\n",
    "\n",
    "print(Data_pd.iloc[10000]['questions'])\n",
    "print(Data_pd.iloc[10000]['reasoning'])\n",
    "print(Data_pd.iloc[10000]['answers'])"
   ]
  },
  {
   "cell_type": "code",
   "execution_count": 98,
   "metadata": {
    "colab": {
     "base_uri": "https://localhost:8080/"
    },
    "id": "kZHOPZg4SzKi",
    "outputId": "619baaf3-a50e-439c-b52a-42971934742e"
   },
   "outputs": [
    {
     "data": {
      "text/plain": [
       "DatasetDict({\n",
       "    train: Dataset({\n",
       "        features: ['questions', 'reasoning', 'answers'],\n",
       "        num_rows: 11679\n",
       "    })\n",
       "    validation: Dataset({\n",
       "        features: ['questions', 'reasoning', 'answers'],\n",
       "        num_rows: 1000\n",
       "    })\n",
       "    test: Dataset({\n",
       "        features: ['questions', 'reasoning', 'answers'],\n",
       "        num_rows: 1000\n",
       "    })\n",
       "})"
      ]
     },
     "execution_count": 98,
     "metadata": {},
     "output_type": "execute_result"
    }
   ],
   "source": [
    "train_dataset = Dataset.from_pandas(Data_pd, split=NamedSplit('train'))\n",
    "val_dataset = Dataset.from_pandas(valData_pd, split=NamedSplit('validation'))\n",
    "test_dataset = Dataset.from_pandas(testData_pd, split=NamedSplit('test'))\n",
    "\n",
    "dataset_dict = DatasetDict({\n",
    "    'train': train_dataset,\n",
    "    'validation': val_dataset,\n",
    "    'test': test_dataset\n",
    "})\n",
    "\n",
    "dataset_dict"
   ]
  },
  {
   "cell_type": "markdown",
   "metadata": {},
   "source": [
    "From the below charts, we see that almost 10% of the questions have reasoning part with just 10-20 words."
   ]
  },
  {
   "cell_type": "code",
   "execution_count": 100,
   "metadata": {
    "id": "FQAceUSutDLp"
   },
   "outputs": [
    {
     "name": "stdout",
     "output_type": "stream",
     "text": [
      "Length info for questions in train dataset:\n",
      "Max length:  480\n",
      "Min length:  46\n",
      "tensor(132., dtype=torch.bfloat16)\n",
      "tensor(37.2500, dtype=torch.bfloat16)\n"
     ]
    },
    {
     "data": {
      "application/vnd.plotly.v1+json": {
       "config": {
        "plotlyServerURL": "https://plot.ly"
       },
       "data": [
        {
         "bingroup": "x",
         "hovertemplate": "variable=0<br>value=%{x}<br>count=%{y}<extra></extra>",
         "legendgroup": "0",
         "marker": {
          "color": "#636efa",
          "pattern": {
           "shape": ""
          }
         },
         "name": "0",
         "nbinsx": 500,
         "orientation": "v",
         "showlegend": true,
         "type": "histogram",
         "x": {
          "bdata": "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",
          "dtype": "i2"
         },
         "xaxis": "x",
         "yaxis": "y"
        }
       ],
       "layout": {
        "barmode": "relative",
        "legend": {
         "title": {
          "text": "variable"
         },
         "tracegroupgap": 0
        },
        "margin": {
         "t": 60
        },
        "template": {
         "data": {
          "bar": [
           {
            "error_x": {
             "color": "#2a3f5f"
            },
            "error_y": {
             "color": "#2a3f5f"
            },
            "marker": {
             "line": {
              "color": "#E5ECF6",
              "width": 0.5
             },
             "pattern": {
              "fillmode": "overlay",
              "size": 10,
              "solidity": 0.2
             }
            },
            "type": "bar"
           }
          ],
          "barpolar": [
           {
            "marker": {
             "line": {
              "color": "#E5ECF6",
              "width": 0.5
             },
             "pattern": {
              "fillmode": "overlay",
              "size": 10,
              "solidity": 0.2
             }
            },
            "type": "barpolar"
           }
          ],
          "carpet": [
           {
            "aaxis": {
             "endlinecolor": "#2a3f5f",
             "gridcolor": "white",
             "linecolor": "white",
             "minorgridcolor": "white",
             "startlinecolor": "#2a3f5f"
            },
            "baxis": {
             "endlinecolor": "#2a3f5f",
             "gridcolor": "white",
             "linecolor": "white",
             "minorgridcolor": "white",
             "startlinecolor": "#2a3f5f"
            },
            "type": "carpet"
           }
          ],
          "choropleth": [
           {
            "colorbar": {
             "outlinewidth": 0,
             "ticks": ""
            },
            "type": "choropleth"
           }
          ],
          "contour": [
           {
            "colorbar": {
             "outlinewidth": 0,
             "ticks": ""
            },
            "colorscale": [
             [
              0,
              "#0d0887"
             ],
             [
              0.1111111111111111,
              "#46039f"
             ],
             [
              0.2222222222222222,
              "#7201a8"
             ],
             [
              0.3333333333333333,
              "#9c179e"
             ],
             [
              0.4444444444444444,
              "#bd3786"
             ],
             [
              0.5555555555555556,
              "#d8576b"
             ],
             [
              0.6666666666666666,
              "#ed7953"
             ],
             [
              0.7777777777777778,
              "#fb9f3a"
             ],
             [
              0.8888888888888888,
              "#fdca26"
             ],
             [
              1,
              "#f0f921"
             ]
            ],
            "type": "contour"
           }
          ],
          "contourcarpet": [
           {
            "colorbar": {
             "outlinewidth": 0,
             "ticks": ""
            },
            "type": "contourcarpet"
           }
          ],
          "heatmap": [
           {
            "colorbar": {
             "outlinewidth": 0,
             "ticks": ""
            },
            "colorscale": [
             [
              0,
              "#0d0887"
             ],
             [
              0.1111111111111111,
              "#46039f"
             ],
             [
              0.2222222222222222,
              "#7201a8"
             ],
             [
              0.3333333333333333,
              "#9c179e"
             ],
             [
              0.4444444444444444,
              "#bd3786"
             ],
             [
              0.5555555555555556,
              "#d8576b"
             ],
             [
              0.6666666666666666,
              "#ed7953"
             ],
             [
              0.7777777777777778,
              "#fb9f3a"
             ],
             [
              0.8888888888888888,
              "#fdca26"
             ],
             [
              1,
              "#f0f921"
             ]
            ],
            "type": "heatmap"
           }
          ],
          "histogram": [
           {
            "marker": {
             "pattern": {
              "fillmode": "overlay",
              "size": 10,
              "solidity": 0.2
             }
            },
            "type": "histogram"
           }
          ],
          "histogram2d": [
           {
            "colorbar": {
             "outlinewidth": 0,
             "ticks": ""
            },
            "colorscale": [
             [
              0,
              "#0d0887"
             ],
             [
              0.1111111111111111,
              "#46039f"
             ],
             [
              0.2222222222222222,
              "#7201a8"
             ],
             [
              0.3333333333333333,
              "#9c179e"
             ],
             [
              0.4444444444444444,
              "#bd3786"
             ],
             [
              0.5555555555555556,
              "#d8576b"
             ],
             [
              0.6666666666666666,
              "#ed7953"
             ],
             [
              0.7777777777777778,
              "#fb9f3a"
             ],
             [
              0.8888888888888888,
              "#fdca26"
             ],
             [
              1,
              "#f0f921"
             ]
            ],
            "type": "histogram2d"
           }
          ],
          "histogram2dcontour": [
           {
            "colorbar": {
             "outlinewidth": 0,
             "ticks": ""
            },
            "colorscale": [
             [
              0,
              "#0d0887"
             ],
             [
              0.1111111111111111,
              "#46039f"
             ],
             [
              0.2222222222222222,
              "#7201a8"
             ],
             [
              0.3333333333333333,
              "#9c179e"
             ],
             [
              0.4444444444444444,
              "#bd3786"
             ],
             [
              0.5555555555555556,
              "#d8576b"
             ],
             [
              0.6666666666666666,
              "#ed7953"
             ],
             [
              0.7777777777777778,
              "#fb9f3a"
             ],
             [
              0.8888888888888888,
              "#fdca26"
             ],
             [
              1,
              "#f0f921"
             ]
            ],
            "type": "histogram2dcontour"
           }
          ],
          "mesh3d": [
           {
            "colorbar": {
             "outlinewidth": 0,
             "ticks": ""
            },
            "type": "mesh3d"
           }
          ],
          "parcoords": [
           {
            "line": {
             "colorbar": {
              "outlinewidth": 0,
              "ticks": ""
             }
            },
            "type": "parcoords"
           }
          ],
          "pie": [
           {
            "automargin": true,
            "type": "pie"
           }
          ],
          "scatter": [
           {
            "fillpattern": {
             "fillmode": "overlay",
             "size": 10,
             "solidity": 0.2
            },
            "type": "scatter"
           }
          ],
          "scatter3d": [
           {
            "line": {
             "colorbar": {
              "outlinewidth": 0,
              "ticks": ""
             }
            },
            "marker": {
             "colorbar": {
              "outlinewidth": 0,
              "ticks": ""
             }
            },
            "type": "scatter3d"
           }
          ],
          "scattercarpet": [
           {
            "marker": {
             "colorbar": {
              "outlinewidth": 0,
              "ticks": ""
             }
            },
            "type": "scattercarpet"
           }
          ],
          "scattergeo": [
           {
            "marker": {
             "colorbar": {
              "outlinewidth": 0,
              "ticks": ""
             }
            },
            "type": "scattergeo"
           }
          ],
          "scattergl": [
           {
            "marker": {
             "colorbar": {
              "outlinewidth": 0,
              "ticks": ""
             }
            },
            "type": "scattergl"
           }
          ],
          "scattermap": [
           {
            "marker": {
             "colorbar": {
              "outlinewidth": 0,
              "ticks": ""
             }
            },
            "type": "scattermap"
           }
          ],
          "scattermapbox": [
           {
            "marker": {
             "colorbar": {
              "outlinewidth": 0,
              "ticks": ""
             }
            },
            "type": "scattermapbox"
           }
          ],
          "scatterpolar": [
           {
            "marker": {
             "colorbar": {
              "outlinewidth": 0,
              "ticks": ""
             }
            },
            "type": "scatterpolar"
           }
          ],
          "scatterpolargl": [
           {
            "marker": {
             "colorbar": {
              "outlinewidth": 0,
              "ticks": ""
             }
            },
            "type": "scatterpolargl"
           }
          ],
          "scatterternary": [
           {
            "marker": {
             "colorbar": {
              "outlinewidth": 0,
              "ticks": ""
             }
            },
            "type": "scatterternary"
           }
          ],
          "surface": [
           {
            "colorbar": {
             "outlinewidth": 0,
             "ticks": ""
            },
            "colorscale": [
             [
              0,
              "#0d0887"
             ],
             [
              0.1111111111111111,
              "#46039f"
             ],
             [
              0.2222222222222222,
              "#7201a8"
             ],
             [
              0.3333333333333333,
              "#9c179e"
             ],
             [
              0.4444444444444444,
              "#bd3786"
             ],
             [
              0.5555555555555556,
              "#d8576b"
             ],
             [
              0.6666666666666666,
              "#ed7953"
             ],
             [
              0.7777777777777778,
              "#fb9f3a"
             ],
             [
              0.8888888888888888,
              "#fdca26"
             ],
             [
              1,
              "#f0f921"
             ]
            ],
            "type": "surface"
           }
          ],
          "table": [
           {
            "cells": {
             "fill": {
              "color": "#EBF0F8"
             },
             "line": {
              "color": "white"
             }
            },
            "header": {
             "fill": {
              "color": "#C8D4E3"
             },
             "line": {
              "color": "white"
             }
            },
            "type": "table"
           }
          ]
         },
         "layout": {
          "annotationdefaults": {
           "arrowcolor": "#2a3f5f",
           "arrowhead": 0,
           "arrowwidth": 1
          },
          "autotypenumbers": "strict",
          "coloraxis": {
           "colorbar": {
            "outlinewidth": 0,
            "ticks": ""
           }
          },
          "colorscale": {
           "diverging": [
            [
             0,
             "#8e0152"
            ],
            [
             0.1,
             "#c51b7d"
            ],
            [
             0.2,
             "#de77ae"
            ],
            [
             0.3,
             "#f1b6da"
            ],
            [
             0.4,
             "#fde0ef"
            ],
            [
             0.5,
             "#f7f7f7"
            ],
            [
             0.6,
             "#e6f5d0"
            ],
            [
             0.7,
             "#b8e186"
            ],
            [
             0.8,
             "#7fbc41"
            ],
            [
             0.9,
             "#4d9221"
            ],
            [
             1,
             "#276419"
            ]
           ],
           "sequential": [
            [
             0,
             "#0d0887"
            ],
            [
             0.1111111111111111,
             "#46039f"
            ],
            [
             0.2222222222222222,
             "#7201a8"
            ],
            [
             0.3333333333333333,
             "#9c179e"
            ],
            [
             0.4444444444444444,
             "#bd3786"
            ],
            [
             0.5555555555555556,
             "#d8576b"
            ],
            [
             0.6666666666666666,
             "#ed7953"
            ],
            [
             0.7777777777777778,
             "#fb9f3a"
            ],
            [
             0.8888888888888888,
             "#fdca26"
            ],
            [
             1,
             "#f0f921"
            ]
           ],
           "sequentialminus": [
            [
             0,
             "#0d0887"
            ],
            [
             0.1111111111111111,
             "#46039f"
            ],
            [
             0.2222222222222222,
             "#7201a8"
            ],
            [
             0.3333333333333333,
             "#9c179e"
            ],
            [
             0.4444444444444444,
             "#bd3786"
            ],
            [
             0.5555555555555556,
             "#d8576b"
            ],
            [
             0.6666666666666666,
             "#ed7953"
            ],
            [
             0.7777777777777778,
             "#fb9f3a"
            ],
            [
             0.8888888888888888,
             "#fdca26"
            ],
            [
             1,
             "#f0f921"
            ]
           ]
          },
          "colorway": [
           "#636efa",
           "#EF553B",
           "#00cc96",
           "#ab63fa",
           "#FFA15A",
           "#19d3f3",
           "#FF6692",
           "#B6E880",
           "#FF97FF",
           "#FECB52"
          ],
          "font": {
           "color": "#2a3f5f"
          },
          "geo": {
           "bgcolor": "white",
           "lakecolor": "white",
           "landcolor": "#E5ECF6",
           "showlakes": true,
           "showland": true,
           "subunitcolor": "white"
          },
          "hoverlabel": {
           "align": "left"
          },
          "hovermode": "closest",
          "mapbox": {
           "style": "light"
          },
          "paper_bgcolor": "white",
          "plot_bgcolor": "#E5ECF6",
          "polar": {
           "angularaxis": {
            "gridcolor": "white",
            "linecolor": "white",
            "ticks": ""
           },
           "bgcolor": "#E5ECF6",
           "radialaxis": {
            "gridcolor": "white",
            "linecolor": "white",
            "ticks": ""
           }
          },
          "scene": {
           "xaxis": {
            "backgroundcolor": "#E5ECF6",
            "gridcolor": "white",
            "gridwidth": 2,
            "linecolor": "white",
            "showbackground": true,
            "ticks": "",
            "zerolinecolor": "white"
           },
           "yaxis": {
            "backgroundcolor": "#E5ECF6",
            "gridcolor": "white",
            "gridwidth": 2,
            "linecolor": "white",
            "showbackground": true,
            "ticks": "",
            "zerolinecolor": "white"
           },
           "zaxis": {
            "backgroundcolor": "#E5ECF6",
            "gridcolor": "white",
            "gridwidth": 2,
            "linecolor": "white",
            "showbackground": true,
            "ticks": "",
            "zerolinecolor": "white"
           }
          },
          "shapedefaults": {
           "line": {
            "color": "#2a3f5f"
           }
          },
          "ternary": {
           "aaxis": {
            "gridcolor": "white",
            "linecolor": "white",
            "ticks": ""
           },
           "baxis": {
            "gridcolor": "white",
            "linecolor": "white",
            "ticks": ""
           },
           "bgcolor": "#E5ECF6",
           "caxis": {
            "gridcolor": "white",
            "linecolor": "white",
            "ticks": ""
           }
          },
          "title": {
           "x": 0.05
          },
          "xaxis": {
           "automargin": true,
           "gridcolor": "white",
           "linecolor": "white",
           "ticks": "",
           "title": {
            "standoff": 15
           },
           "zerolinecolor": "white",
           "zerolinewidth": 2
          },
          "yaxis": {
           "automargin": true,
           "gridcolor": "white",
           "linecolor": "white",
           "ticks": "",
           "title": {
            "standoff": 15
           },
           "zerolinecolor": "white",
           "zerolinewidth": 2
          }
         }
        },
        "xaxis": {
         "anchor": "y",
         "domain": [
          0,
          1
         ],
         "title": {
          "text": "value"
         }
        },
        "yaxis": {
         "anchor": "x",
         "domain": [
          0,
          1
         ],
         "title": {
          "text": "count"
         }
        }
       }
      }
     },
     "metadata": {},
     "output_type": "display_data"
    },
    {
     "name": "stdout",
     "output_type": "stream",
     "text": [
      "Length info for reasoning in train dataset:\n",
      "Max length:  3574\n",
      "Min length:  15\n",
      "tensor(432., dtype=torch.bfloat16)\n",
      "tensor(446., dtype=torch.bfloat16)\n"
     ]
    },
    {
     "data": {
      "application/vnd.plotly.v1+json": {
       "config": {
        "plotlyServerURL": "https://plot.ly"
       },
       "data": [
        {
         "bingroup": "x",
         "hovertemplate": "variable=0<br>value=%{x}<br>count=%{y}<extra></extra>",
         "legendgroup": "0",
         "marker": {
          "color": "#636efa",
          "pattern": {
           "shape": ""
          }
         },
         "name": "0",
         "nbinsx": 700,
         "orientation": "v",
         "showlegend": true,
         "type": "histogram",
         "x": {
          "bdata": "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",
          "dtype": "i2"
         },
         "xaxis": "x",
         "yaxis": "y"
        }
       ],
       "layout": {
        "barmode": "relative",
        "legend": {
         "title": {
          "text": "variable"
         },
         "tracegroupgap": 0
        },
        "margin": {
         "t": 60
        },
        "template": {
         "data": {
          "bar": [
           {
            "error_x": {
             "color": "#2a3f5f"
            },
            "error_y": {
             "color": "#2a3f5f"
            },
            "marker": {
             "line": {
              "color": "#E5ECF6",
              "width": 0.5
             },
             "pattern": {
              "fillmode": "overlay",
              "size": 10,
              "solidity": 0.2
             }
            },
            "type": "bar"
           }
          ],
          "barpolar": [
           {
            "marker": {
             "line": {
              "color": "#E5ECF6",
              "width": 0.5
             },
             "pattern": {
              "fillmode": "overlay",
              "size": 10,
              "solidity": 0.2
             }
            },
            "type": "barpolar"
           }
          ],
          "carpet": [
           {
            "aaxis": {
             "endlinecolor": "#2a3f5f",
             "gridcolor": "white",
             "linecolor": "white",
             "minorgridcolor": "white",
             "startlinecolor": "#2a3f5f"
            },
            "baxis": {
             "endlinecolor": "#2a3f5f",
             "gridcolor": "white",
             "linecolor": "white",
             "minorgridcolor": "white",
             "startlinecolor": "#2a3f5f"
            },
            "type": "carpet"
           }
          ],
          "choropleth": [
           {
            "colorbar": {
             "outlinewidth": 0,
             "ticks": ""
            },
            "type": "choropleth"
           }
          ],
          "contour": [
           {
            "colorbar": {
             "outlinewidth": 0,
             "ticks": ""
            },
            "colorscale": [
             [
              0,
              "#0d0887"
             ],
             [
              0.1111111111111111,
              "#46039f"
             ],
             [
              0.2222222222222222,
              "#7201a8"
             ],
             [
              0.3333333333333333,
              "#9c179e"
             ],
             [
              0.4444444444444444,
              "#bd3786"
             ],
             [
              0.5555555555555556,
              "#d8576b"
             ],
             [
              0.6666666666666666,
              "#ed7953"
             ],
             [
              0.7777777777777778,
              "#fb9f3a"
             ],
             [
              0.8888888888888888,
              "#fdca26"
             ],
             [
              1,
              "#f0f921"
             ]
            ],
            "type": "contour"
           }
          ],
          "contourcarpet": [
           {
            "colorbar": {
             "outlinewidth": 0,
             "ticks": ""
            },
            "type": "contourcarpet"
           }
          ],
          "heatmap": [
           {
            "colorbar": {
             "outlinewidth": 0,
             "ticks": ""
            },
            "colorscale": [
             [
              0,
              "#0d0887"
             ],
             [
              0.1111111111111111,
              "#46039f"
             ],
             [
              0.2222222222222222,
              "#7201a8"
             ],
             [
              0.3333333333333333,
              "#9c179e"
             ],
             [
              0.4444444444444444,
              "#bd3786"
             ],
             [
              0.5555555555555556,
              "#d8576b"
             ],
             [
              0.6666666666666666,
              "#ed7953"
             ],
             [
              0.7777777777777778,
              "#fb9f3a"
             ],
             [
              0.8888888888888888,
              "#fdca26"
             ],
             [
              1,
              "#f0f921"
             ]
            ],
            "type": "heatmap"
           }
          ],
          "histogram": [
           {
            "marker": {
             "pattern": {
              "fillmode": "overlay",
              "size": 10,
              "solidity": 0.2
             }
            },
            "type": "histogram"
           }
          ],
          "histogram2d": [
           {
            "colorbar": {
             "outlinewidth": 0,
             "ticks": ""
            },
            "colorscale": [
             [
              0,
              "#0d0887"
             ],
             [
              0.1111111111111111,
              "#46039f"
             ],
             [
              0.2222222222222222,
              "#7201a8"
             ],
             [
              0.3333333333333333,
              "#9c179e"
             ],
             [
              0.4444444444444444,
              "#bd3786"
             ],
             [
              0.5555555555555556,
              "#d8576b"
             ],
             [
              0.6666666666666666,
              "#ed7953"
             ],
             [
              0.7777777777777778,
              "#fb9f3a"
             ],
             [
              0.8888888888888888,
              "#fdca26"
             ],
             [
              1,
              "#f0f921"
             ]
            ],
            "type": "histogram2d"
           }
          ],
          "histogram2dcontour": [
           {
            "colorbar": {
             "outlinewidth": 0,
             "ticks": ""
            },
            "colorscale": [
             [
              0,
              "#0d0887"
             ],
             [
              0.1111111111111111,
              "#46039f"
             ],
             [
              0.2222222222222222,
              "#7201a8"
             ],
             [
              0.3333333333333333,
              "#9c179e"
             ],
             [
              0.4444444444444444,
              "#bd3786"
             ],
             [
              0.5555555555555556,
              "#d8576b"
             ],
             [
              0.6666666666666666,
              "#ed7953"
             ],
             [
              0.7777777777777778,
              "#fb9f3a"
             ],
             [
              0.8888888888888888,
              "#fdca26"
             ],
             [
              1,
              "#f0f921"
             ]
            ],
            "type": "histogram2dcontour"
           }
          ],
          "mesh3d": [
           {
            "colorbar": {
             "outlinewidth": 0,
             "ticks": ""
            },
            "type": "mesh3d"
           }
          ],
          "parcoords": [
           {
            "line": {
             "colorbar": {
              "outlinewidth": 0,
              "ticks": ""
             }
            },
            "type": "parcoords"
           }
          ],
          "pie": [
           {
            "automargin": true,
            "type": "pie"
           }
          ],
          "scatter": [
           {
            "fillpattern": {
             "fillmode": "overlay",
             "size": 10,
             "solidity": 0.2
            },
            "type": "scatter"
           }
          ],
          "scatter3d": [
           {
            "line": {
             "colorbar": {
              "outlinewidth": 0,
              "ticks": ""
             }
            },
            "marker": {
             "colorbar": {
              "outlinewidth": 0,
              "ticks": ""
             }
            },
            "type": "scatter3d"
           }
          ],
          "scattercarpet": [
           {
            "marker": {
             "colorbar": {
              "outlinewidth": 0,
              "ticks": ""
             }
            },
            "type": "scattercarpet"
           }
          ],
          "scattergeo": [
           {
            "marker": {
             "colorbar": {
              "outlinewidth": 0,
              "ticks": ""
             }
            },
            "type": "scattergeo"
           }
          ],
          "scattergl": [
           {
            "marker": {
             "colorbar": {
              "outlinewidth": 0,
              "ticks": ""
             }
            },
            "type": "scattergl"
           }
          ],
          "scattermap": [
           {
            "marker": {
             "colorbar": {
              "outlinewidth": 0,
              "ticks": ""
             }
            },
            "type": "scattermap"
           }
          ],
          "scattermapbox": [
           {
            "marker": {
             "colorbar": {
              "outlinewidth": 0,
              "ticks": ""
             }
            },
            "type": "scattermapbox"
           }
          ],
          "scatterpolar": [
           {
            "marker": {
             "colorbar": {
              "outlinewidth": 0,
              "ticks": ""
             }
            },
            "type": "scatterpolar"
           }
          ],
          "scatterpolargl": [
           {
            "marker": {
             "colorbar": {
              "outlinewidth": 0,
              "ticks": ""
             }
            },
            "type": "scatterpolargl"
           }
          ],
          "scatterternary": [
           {
            "marker": {
             "colorbar": {
              "outlinewidth": 0,
              "ticks": ""
             }
            },
            "type": "scatterternary"
           }
          ],
          "surface": [
           {
            "colorbar": {
             "outlinewidth": 0,
             "ticks": ""
            },
            "colorscale": [
             [
              0,
              "#0d0887"
             ],
             [
              0.1111111111111111,
              "#46039f"
             ],
             [
              0.2222222222222222,
              "#7201a8"
             ],
             [
              0.3333333333333333,
              "#9c179e"
             ],
             [
              0.4444444444444444,
              "#bd3786"
             ],
             [
              0.5555555555555556,
              "#d8576b"
             ],
             [
              0.6666666666666666,
              "#ed7953"
             ],
             [
              0.7777777777777778,
              "#fb9f3a"
             ],
             [
              0.8888888888888888,
              "#fdca26"
             ],
             [
              1,
              "#f0f921"
             ]
            ],
            "type": "surface"
           }
          ],
          "table": [
           {
            "cells": {
             "fill": {
              "color": "#EBF0F8"
             },
             "line": {
              "color": "white"
             }
            },
            "header": {
             "fill": {
              "color": "#C8D4E3"
             },
             "line": {
              "color": "white"
             }
            },
            "type": "table"
           }
          ]
         },
         "layout": {
          "annotationdefaults": {
           "arrowcolor": "#2a3f5f",
           "arrowhead": 0,
           "arrowwidth": 1
          },
          "autotypenumbers": "strict",
          "coloraxis": {
           "colorbar": {
            "outlinewidth": 0,
            "ticks": ""
           }
          },
          "colorscale": {
           "diverging": [
            [
             0,
             "#8e0152"
            ],
            [
             0.1,
             "#c51b7d"
            ],
            [
             0.2,
             "#de77ae"
            ],
            [
             0.3,
             "#f1b6da"
            ],
            [
             0.4,
             "#fde0ef"
            ],
            [
             0.5,
             "#f7f7f7"
            ],
            [
             0.6,
             "#e6f5d0"
            ],
            [
             0.7,
             "#b8e186"
            ],
            [
             0.8,
             "#7fbc41"
            ],
            [
             0.9,
             "#4d9221"
            ],
            [
             1,
             "#276419"
            ]
           ],
           "sequential": [
            [
             0,
             "#0d0887"
            ],
            [
             0.1111111111111111,
             "#46039f"
            ],
            [
             0.2222222222222222,
             "#7201a8"
            ],
            [
             0.3333333333333333,
             "#9c179e"
            ],
            [
             0.4444444444444444,
             "#bd3786"
            ],
            [
             0.5555555555555556,
             "#d8576b"
            ],
            [
             0.6666666666666666,
             "#ed7953"
            ],
            [
             0.7777777777777778,
             "#fb9f3a"
            ],
            [
             0.8888888888888888,
             "#fdca26"
            ],
            [
             1,
             "#f0f921"
            ]
           ],
           "sequentialminus": [
            [
             0,
             "#0d0887"
            ],
            [
             0.1111111111111111,
             "#46039f"
            ],
            [
             0.2222222222222222,
             "#7201a8"
            ],
            [
             0.3333333333333333,
             "#9c179e"
            ],
            [
             0.4444444444444444,
             "#bd3786"
            ],
            [
             0.5555555555555556,
             "#d8576b"
            ],
            [
             0.6666666666666666,
             "#ed7953"
            ],
            [
             0.7777777777777778,
             "#fb9f3a"
            ],
            [
             0.8888888888888888,
             "#fdca26"
            ],
            [
             1,
             "#f0f921"
            ]
           ]
          },
          "colorway": [
           "#636efa",
           "#EF553B",
           "#00cc96",
           "#ab63fa",
           "#FFA15A",
           "#19d3f3",
           "#FF6692",
           "#B6E880",
           "#FF97FF",
           "#FECB52"
          ],
          "font": {
           "color": "#2a3f5f"
          },
          "geo": {
           "bgcolor": "white",
           "lakecolor": "white",
           "landcolor": "#E5ECF6",
           "showlakes": true,
           "showland": true,
           "subunitcolor": "white"
          },
          "hoverlabel": {
           "align": "left"
          },
          "hovermode": "closest",
          "mapbox": {
           "style": "light"
          },
          "paper_bgcolor": "white",
          "plot_bgcolor": "#E5ECF6",
          "polar": {
           "angularaxis": {
            "gridcolor": "white",
            "linecolor": "white",
            "ticks": ""
           },
           "bgcolor": "#E5ECF6",
           "radialaxis": {
            "gridcolor": "white",
            "linecolor": "white",
            "ticks": ""
           }
          },
          "scene": {
           "xaxis": {
            "backgroundcolor": "#E5ECF6",
            "gridcolor": "white",
            "gridwidth": 2,
            "linecolor": "white",
            "showbackground": true,
            "ticks": "",
            "zerolinecolor": "white"
           },
           "yaxis": {
            "backgroundcolor": "#E5ECF6",
            "gridcolor": "white",
            "gridwidth": 2,
            "linecolor": "white",
            "showbackground": true,
            "ticks": "",
            "zerolinecolor": "white"
           },
           "zaxis": {
            "backgroundcolor": "#E5ECF6",
            "gridcolor": "white",
            "gridwidth": 2,
            "linecolor": "white",
            "showbackground": true,
            "ticks": "",
            "zerolinecolor": "white"
           }
          },
          "shapedefaults": {
           "line": {
            "color": "#2a3f5f"
           }
          },
          "ternary": {
           "aaxis": {
            "gridcolor": "white",
            "linecolor": "white",
            "ticks": ""
           },
           "baxis": {
            "gridcolor": "white",
            "linecolor": "white",
            "ticks": ""
           },
           "bgcolor": "#E5ECF6",
           "caxis": {
            "gridcolor": "white",
            "linecolor": "white",
            "ticks": ""
           }
          },
          "title": {
           "x": 0.05
          },
          "xaxis": {
           "automargin": true,
           "gridcolor": "white",
           "linecolor": "white",
           "ticks": "",
           "title": {
            "standoff": 15
           },
           "zerolinecolor": "white",
           "zerolinewidth": 2
          },
          "yaxis": {
           "automargin": true,
           "gridcolor": "white",
           "linecolor": "white",
           "ticks": "",
           "title": {
            "standoff": 15
           },
           "zerolinecolor": "white",
           "zerolinewidth": 2
          }
         }
        },
        "xaxis": {
         "anchor": "y",
         "domain": [
          0,
          1
         ],
         "title": {
          "text": "value"
         }
        },
        "yaxis": {
         "anchor": "x",
         "domain": [
          0,
          1
         ],
         "title": {
          "text": "count"
         }
        }
       }
      }
     },
     "metadata": {},
     "output_type": "display_data"
    },
    {
     "name": "stdout",
     "output_type": "stream",
     "text": [
      "Length info for questions in test dataset:\n",
      "Max length:  312\n",
      "Min length:  51\n",
      "tensor(130., dtype=torch.bfloat16)\n",
      "tensor(36., dtype=torch.bfloat16)\n"
     ]
    },
    {
     "data": {
      "application/vnd.plotly.v1+json": {
       "config": {
        "plotlyServerURL": "https://plot.ly"
       },
       "data": [
        {
         "bingroup": "x",
         "hovertemplate": "variable=0<br>value=%{x}<br>count=%{y}<extra></extra>",
         "legendgroup": "0",
         "marker": {
          "color": "#636efa",
          "pattern": {
           "shape": ""
          }
         },
         "name": "0",
         "nbinsx": 500,
         "orientation": "v",
         "showlegend": true,
         "type": "histogram",
         "x": {
          "bdata": "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",
          "dtype": "i2"
         },
         "xaxis": "x",
         "yaxis": "y"
        }
       ],
       "layout": {
        "barmode": "relative",
        "legend": {
         "title": {
          "text": "variable"
         },
         "tracegroupgap": 0
        },
        "margin": {
         "t": 60
        },
        "template": {
         "data": {
          "bar": [
           {
            "error_x": {
             "color": "#2a3f5f"
            },
            "error_y": {
             "color": "#2a3f5f"
            },
            "marker": {
             "line": {
              "color": "#E5ECF6",
              "width": 0.5
             },
             "pattern": {
              "fillmode": "overlay",
              "size": 10,
              "solidity": 0.2
             }
            },
            "type": "bar"
           }
          ],
          "barpolar": [
           {
            "marker": {
             "line": {
              "color": "#E5ECF6",
              "width": 0.5
             },
             "pattern": {
              "fillmode": "overlay",
              "size": 10,
              "solidity": 0.2
             }
            },
            "type": "barpolar"
           }
          ],
          "carpet": [
           {
            "aaxis": {
             "endlinecolor": "#2a3f5f",
             "gridcolor": "white",
             "linecolor": "white",
             "minorgridcolor": "white",
             "startlinecolor": "#2a3f5f"
            },
            "baxis": {
             "endlinecolor": "#2a3f5f",
             "gridcolor": "white",
             "linecolor": "white",
             "minorgridcolor": "white",
             "startlinecolor": "#2a3f5f"
            },
            "type": "carpet"
           }
          ],
          "choropleth": [
           {
            "colorbar": {
             "outlinewidth": 0,
             "ticks": ""
            },
            "type": "choropleth"
           }
          ],
          "contour": [
           {
            "colorbar": {
             "outlinewidth": 0,
             "ticks": ""
            },
            "colorscale": [
             [
              0,
              "#0d0887"
             ],
             [
              0.1111111111111111,
              "#46039f"
             ],
             [
              0.2222222222222222,
              "#7201a8"
             ],
             [
              0.3333333333333333,
              "#9c179e"
             ],
             [
              0.4444444444444444,
              "#bd3786"
             ],
             [
              0.5555555555555556,
              "#d8576b"
             ],
             [
              0.6666666666666666,
              "#ed7953"
             ],
             [
              0.7777777777777778,
              "#fb9f3a"
             ],
             [
              0.8888888888888888,
              "#fdca26"
             ],
             [
              1,
              "#f0f921"
             ]
            ],
            "type": "contour"
           }
          ],
          "contourcarpet": [
           {
            "colorbar": {
             "outlinewidth": 0,
             "ticks": ""
            },
            "type": "contourcarpet"
           }
          ],
          "heatmap": [
           {
            "colorbar": {
             "outlinewidth": 0,
             "ticks": ""
            },
            "colorscale": [
             [
              0,
              "#0d0887"
             ],
             [
              0.1111111111111111,
              "#46039f"
             ],
             [
              0.2222222222222222,
              "#7201a8"
             ],
             [
              0.3333333333333333,
              "#9c179e"
             ],
             [
              0.4444444444444444,
              "#bd3786"
             ],
             [
              0.5555555555555556,
              "#d8576b"
             ],
             [
              0.6666666666666666,
              "#ed7953"
             ],
             [
              0.7777777777777778,
              "#fb9f3a"
             ],
             [
              0.8888888888888888,
              "#fdca26"
             ],
             [
              1,
              "#f0f921"
             ]
            ],
            "type": "heatmap"
           }
          ],
          "histogram": [
           {
            "marker": {
             "pattern": {
              "fillmode": "overlay",
              "size": 10,
              "solidity": 0.2
             }
            },
            "type": "histogram"
           }
          ],
          "histogram2d": [
           {
            "colorbar": {
             "outlinewidth": 0,
             "ticks": ""
            },
            "colorscale": [
             [
              0,
              "#0d0887"
             ],
             [
              0.1111111111111111,
              "#46039f"
             ],
             [
              0.2222222222222222,
              "#7201a8"
             ],
             [
              0.3333333333333333,
              "#9c179e"
             ],
             [
              0.4444444444444444,
              "#bd3786"
             ],
             [
              0.5555555555555556,
              "#d8576b"
             ],
             [
              0.6666666666666666,
              "#ed7953"
             ],
             [
              0.7777777777777778,
              "#fb9f3a"
             ],
             [
              0.8888888888888888,
              "#fdca26"
             ],
             [
              1,
              "#f0f921"
             ]
            ],
            "type": "histogram2d"
           }
          ],
          "histogram2dcontour": [
           {
            "colorbar": {
             "outlinewidth": 0,
             "ticks": ""
            },
            "colorscale": [
             [
              0,
              "#0d0887"
             ],
             [
              0.1111111111111111,
              "#46039f"
             ],
             [
              0.2222222222222222,
              "#7201a8"
             ],
             [
              0.3333333333333333,
              "#9c179e"
             ],
             [
              0.4444444444444444,
              "#bd3786"
             ],
             [
              0.5555555555555556,
              "#d8576b"
             ],
             [
              0.6666666666666666,
              "#ed7953"
             ],
             [
              0.7777777777777778,
              "#fb9f3a"
             ],
             [
              0.8888888888888888,
              "#fdca26"
             ],
             [
              1,
              "#f0f921"
             ]
            ],
            "type": "histogram2dcontour"
           }
          ],
          "mesh3d": [
           {
            "colorbar": {
             "outlinewidth": 0,
             "ticks": ""
            },
            "type": "mesh3d"
           }
          ],
          "parcoords": [
           {
            "line": {
             "colorbar": {
              "outlinewidth": 0,
              "ticks": ""
             }
            },
            "type": "parcoords"
           }
          ],
          "pie": [
           {
            "automargin": true,
            "type": "pie"
           }
          ],
          "scatter": [
           {
            "fillpattern": {
             "fillmode": "overlay",
             "size": 10,
             "solidity": 0.2
            },
            "type": "scatter"
           }
          ],
          "scatter3d": [
           {
            "line": {
             "colorbar": {
              "outlinewidth": 0,
              "ticks": ""
             }
            },
            "marker": {
             "colorbar": {
              "outlinewidth": 0,
              "ticks": ""
             }
            },
            "type": "scatter3d"
           }
          ],
          "scattercarpet": [
           {
            "marker": {
             "colorbar": {
              "outlinewidth": 0,
              "ticks": ""
             }
            },
            "type": "scattercarpet"
           }
          ],
          "scattergeo": [
           {
            "marker": {
             "colorbar": {
              "outlinewidth": 0,
              "ticks": ""
             }
            },
            "type": "scattergeo"
           }
          ],
          "scattergl": [
           {
            "marker": {
             "colorbar": {
              "outlinewidth": 0,
              "ticks": ""
             }
            },
            "type": "scattergl"
           }
          ],
          "scattermap": [
           {
            "marker": {
             "colorbar": {
              "outlinewidth": 0,
              "ticks": ""
             }
            },
            "type": "scattermap"
           }
          ],
          "scattermapbox": [
           {
            "marker": {
             "colorbar": {
              "outlinewidth": 0,
              "ticks": ""
             }
            },
            "type": "scattermapbox"
           }
          ],
          "scatterpolar": [
           {
            "marker": {
             "colorbar": {
              "outlinewidth": 0,
              "ticks": ""
             }
            },
            "type": "scatterpolar"
           }
          ],
          "scatterpolargl": [
           {
            "marker": {
             "colorbar": {
              "outlinewidth": 0,
              "ticks": ""
             }
            },
            "type": "scatterpolargl"
           }
          ],
          "scatterternary": [
           {
            "marker": {
             "colorbar": {
              "outlinewidth": 0,
              "ticks": ""
             }
            },
            "type": "scatterternary"
           }
          ],
          "surface": [
           {
            "colorbar": {
             "outlinewidth": 0,
             "ticks": ""
            },
            "colorscale": [
             [
              0,
              "#0d0887"
             ],
             [
              0.1111111111111111,
              "#46039f"
             ],
             [
              0.2222222222222222,
              "#7201a8"
             ],
             [
              0.3333333333333333,
              "#9c179e"
             ],
             [
              0.4444444444444444,
              "#bd3786"
             ],
             [
              0.5555555555555556,
              "#d8576b"
             ],
             [
              0.6666666666666666,
              "#ed7953"
             ],
             [
              0.7777777777777778,
              "#fb9f3a"
             ],
             [
              0.8888888888888888,
              "#fdca26"
             ],
             [
              1,
              "#f0f921"
             ]
            ],
            "type": "surface"
           }
          ],
          "table": [
           {
            "cells": {
             "fill": {
              "color": "#EBF0F8"
             },
             "line": {
              "color": "white"
             }
            },
            "header": {
             "fill": {
              "color": "#C8D4E3"
             },
             "line": {
              "color": "white"
             }
            },
            "type": "table"
           }
          ]
         },
         "layout": {
          "annotationdefaults": {
           "arrowcolor": "#2a3f5f",
           "arrowhead": 0,
           "arrowwidth": 1
          },
          "autotypenumbers": "strict",
          "coloraxis": {
           "colorbar": {
            "outlinewidth": 0,
            "ticks": ""
           }
          },
          "colorscale": {
           "diverging": [
            [
             0,
             "#8e0152"
            ],
            [
             0.1,
             "#c51b7d"
            ],
            [
             0.2,
             "#de77ae"
            ],
            [
             0.3,
             "#f1b6da"
            ],
            [
             0.4,
             "#fde0ef"
            ],
            [
             0.5,
             "#f7f7f7"
            ],
            [
             0.6,
             "#e6f5d0"
            ],
            [
             0.7,
             "#b8e186"
            ],
            [
             0.8,
             "#7fbc41"
            ],
            [
             0.9,
             "#4d9221"
            ],
            [
             1,
             "#276419"
            ]
           ],
           "sequential": [
            [
             0,
             "#0d0887"
            ],
            [
             0.1111111111111111,
             "#46039f"
            ],
            [
             0.2222222222222222,
             "#7201a8"
            ],
            [
             0.3333333333333333,
             "#9c179e"
            ],
            [
             0.4444444444444444,
             "#bd3786"
            ],
            [
             0.5555555555555556,
             "#d8576b"
            ],
            [
             0.6666666666666666,
             "#ed7953"
            ],
            [
             0.7777777777777778,
             "#fb9f3a"
            ],
            [
             0.8888888888888888,
             "#fdca26"
            ],
            [
             1,
             "#f0f921"
            ]
           ],
           "sequentialminus": [
            [
             0,
             "#0d0887"
            ],
            [
             0.1111111111111111,
             "#46039f"
            ],
            [
             0.2222222222222222,
             "#7201a8"
            ],
            [
             0.3333333333333333,
             "#9c179e"
            ],
            [
             0.4444444444444444,
             "#bd3786"
            ],
            [
             0.5555555555555556,
             "#d8576b"
            ],
            [
             0.6666666666666666,
             "#ed7953"
            ],
            [
             0.7777777777777778,
             "#fb9f3a"
            ],
            [
             0.8888888888888888,
             "#fdca26"
            ],
            [
             1,
             "#f0f921"
            ]
           ]
          },
          "colorway": [
           "#636efa",
           "#EF553B",
           "#00cc96",
           "#ab63fa",
           "#FFA15A",
           "#19d3f3",
           "#FF6692",
           "#B6E880",
           "#FF97FF",
           "#FECB52"
          ],
          "font": {
           "color": "#2a3f5f"
          },
          "geo": {
           "bgcolor": "white",
           "lakecolor": "white",
           "landcolor": "#E5ECF6",
           "showlakes": true,
           "showland": true,
           "subunitcolor": "white"
          },
          "hoverlabel": {
           "align": "left"
          },
          "hovermode": "closest",
          "mapbox": {
           "style": "light"
          },
          "paper_bgcolor": "white",
          "plot_bgcolor": "#E5ECF6",
          "polar": {
           "angularaxis": {
            "gridcolor": "white",
            "linecolor": "white",
            "ticks": ""
           },
           "bgcolor": "#E5ECF6",
           "radialaxis": {
            "gridcolor": "white",
            "linecolor": "white",
            "ticks": ""
           }
          },
          "scene": {
           "xaxis": {
            "backgroundcolor": "#E5ECF6",
            "gridcolor": "white",
            "gridwidth": 2,
            "linecolor": "white",
            "showbackground": true,
            "ticks": "",
            "zerolinecolor": "white"
           },
           "yaxis": {
            "backgroundcolor": "#E5ECF6",
            "gridcolor": "white",
            "gridwidth": 2,
            "linecolor": "white",
            "showbackground": true,
            "ticks": "",
            "zerolinecolor": "white"
           },
           "zaxis": {
            "backgroundcolor": "#E5ECF6",
            "gridcolor": "white",
            "gridwidth": 2,
            "linecolor": "white",
            "showbackground": true,
            "ticks": "",
            "zerolinecolor": "white"
           }
          },
          "shapedefaults": {
           "line": {
            "color": "#2a3f5f"
           }
          },
          "ternary": {
           "aaxis": {
            "gridcolor": "white",
            "linecolor": "white",
            "ticks": ""
           },
           "baxis": {
            "gridcolor": "white",
            "linecolor": "white",
            "ticks": ""
           },
           "bgcolor": "#E5ECF6",
           "caxis": {
            "gridcolor": "white",
            "linecolor": "white",
            "ticks": ""
           }
          },
          "title": {
           "x": 0.05
          },
          "xaxis": {
           "automargin": true,
           "gridcolor": "white",
           "linecolor": "white",
           "ticks": "",
           "title": {
            "standoff": 15
           },
           "zerolinecolor": "white",
           "zerolinewidth": 2
          },
          "yaxis": {
           "automargin": true,
           "gridcolor": "white",
           "linecolor": "white",
           "ticks": "",
           "title": {
            "standoff": 15
           },
           "zerolinecolor": "white",
           "zerolinewidth": 2
          }
         }
        },
        "xaxis": {
         "anchor": "y",
         "domain": [
          0,
          1
         ],
         "title": {
          "text": "value"
         }
        },
        "yaxis": {
         "anchor": "x",
         "domain": [
          0,
          1
         ],
         "title": {
          "text": "count"
         }
        }
       }
      }
     },
     "metadata": {},
     "output_type": "display_data"
    },
    {
     "name": "stdout",
     "output_type": "stream",
     "text": [
      "Length info for reasoning in test dataset:\n",
      "Max length:  2955\n",
      "Min length:  15\n",
      "tensor(438., dtype=torch.bfloat16)\n",
      "tensor(450., dtype=torch.bfloat16)\n"
     ]
    },
    {
     "data": {
      "application/vnd.plotly.v1+json": {
       "config": {
        "plotlyServerURL": "https://plot.ly"
       },
       "data": [
        {
         "bingroup": "x",
         "hovertemplate": "variable=0<br>value=%{x}<br>count=%{y}<extra></extra>",
         "legendgroup": "0",
         "marker": {
          "color": "#636efa",
          "pattern": {
           "shape": ""
          }
         },
         "name": "0",
         "nbinsx": 700,
         "orientation": "v",
         "showlegend": true,
         "type": "histogram",
         "x": {
          "bdata": "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",
          "dtype": "i2"
         },
         "xaxis": "x",
         "yaxis": "y"
        }
       ],
       "layout": {
        "barmode": "relative",
        "legend": {
         "title": {
          "text": "variable"
         },
         "tracegroupgap": 0
        },
        "margin": {
         "t": 60
        },
        "template": {
         "data": {
          "bar": [
           {
            "error_x": {
             "color": "#2a3f5f"
            },
            "error_y": {
             "color": "#2a3f5f"
            },
            "marker": {
             "line": {
              "color": "#E5ECF6",
              "width": 0.5
             },
             "pattern": {
              "fillmode": "overlay",
              "size": 10,
              "solidity": 0.2
             }
            },
            "type": "bar"
           }
          ],
          "barpolar": [
           {
            "marker": {
             "line": {
              "color": "#E5ECF6",
              "width": 0.5
             },
             "pattern": {
              "fillmode": "overlay",
              "size": 10,
              "solidity": 0.2
             }
            },
            "type": "barpolar"
           }
          ],
          "carpet": [
           {
            "aaxis": {
             "endlinecolor": "#2a3f5f",
             "gridcolor": "white",
             "linecolor": "white",
             "minorgridcolor": "white",
             "startlinecolor": "#2a3f5f"
            },
            "baxis": {
             "endlinecolor": "#2a3f5f",
             "gridcolor": "white",
             "linecolor": "white",
             "minorgridcolor": "white",
             "startlinecolor": "#2a3f5f"
            },
            "type": "carpet"
           }
          ],
          "choropleth": [
           {
            "colorbar": {
             "outlinewidth": 0,
             "ticks": ""
            },
            "type": "choropleth"
           }
          ],
          "contour": [
           {
            "colorbar": {
             "outlinewidth": 0,
             "ticks": ""
            },
            "colorscale": [
             [
              0,
              "#0d0887"
             ],
             [
              0.1111111111111111,
              "#46039f"
             ],
             [
              0.2222222222222222,
              "#7201a8"
             ],
             [
              0.3333333333333333,
              "#9c179e"
             ],
             [
              0.4444444444444444,
              "#bd3786"
             ],
             [
              0.5555555555555556,
              "#d8576b"
             ],
             [
              0.6666666666666666,
              "#ed7953"
             ],
             [
              0.7777777777777778,
              "#fb9f3a"
             ],
             [
              0.8888888888888888,
              "#fdca26"
             ],
             [
              1,
              "#f0f921"
             ]
            ],
            "type": "contour"
           }
          ],
          "contourcarpet": [
           {
            "colorbar": {
             "outlinewidth": 0,
             "ticks": ""
            },
            "type": "contourcarpet"
           }
          ],
          "heatmap": [
           {
            "colorbar": {
             "outlinewidth": 0,
             "ticks": ""
            },
            "colorscale": [
             [
              0,
              "#0d0887"
             ],
             [
              0.1111111111111111,
              "#46039f"
             ],
             [
              0.2222222222222222,
              "#7201a8"
             ],
             [
              0.3333333333333333,
              "#9c179e"
             ],
             [
              0.4444444444444444,
              "#bd3786"
             ],
             [
              0.5555555555555556,
              "#d8576b"
             ],
             [
              0.6666666666666666,
              "#ed7953"
             ],
             [
              0.7777777777777778,
              "#fb9f3a"
             ],
             [
              0.8888888888888888,
              "#fdca26"
             ],
             [
              1,
              "#f0f921"
             ]
            ],
            "type": "heatmap"
           }
          ],
          "histogram": [
           {
            "marker": {
             "pattern": {
              "fillmode": "overlay",
              "size": 10,
              "solidity": 0.2
             }
            },
            "type": "histogram"
           }
          ],
          "histogram2d": [
           {
            "colorbar": {
             "outlinewidth": 0,
             "ticks": ""
            },
            "colorscale": [
             [
              0,
              "#0d0887"
             ],
             [
              0.1111111111111111,
              "#46039f"
             ],
             [
              0.2222222222222222,
              "#7201a8"
             ],
             [
              0.3333333333333333,
              "#9c179e"
             ],
             [
              0.4444444444444444,
              "#bd3786"
             ],
             [
              0.5555555555555556,
              "#d8576b"
             ],
             [
              0.6666666666666666,
              "#ed7953"
             ],
             [
              0.7777777777777778,
              "#fb9f3a"
             ],
             [
              0.8888888888888888,
              "#fdca26"
             ],
             [
              1,
              "#f0f921"
             ]
            ],
            "type": "histogram2d"
           }
          ],
          "histogram2dcontour": [
           {
            "colorbar": {
             "outlinewidth": 0,
             "ticks": ""
            },
            "colorscale": [
             [
              0,
              "#0d0887"
             ],
             [
              0.1111111111111111,
              "#46039f"
             ],
             [
              0.2222222222222222,
              "#7201a8"
             ],
             [
              0.3333333333333333,
              "#9c179e"
             ],
             [
              0.4444444444444444,
              "#bd3786"
             ],
             [
              0.5555555555555556,
              "#d8576b"
             ],
             [
              0.6666666666666666,
              "#ed7953"
             ],
             [
              0.7777777777777778,
              "#fb9f3a"
             ],
             [
              0.8888888888888888,
              "#fdca26"
             ],
             [
              1,
              "#f0f921"
             ]
            ],
            "type": "histogram2dcontour"
           }
          ],
          "mesh3d": [
           {
            "colorbar": {
             "outlinewidth": 0,
             "ticks": ""
            },
            "type": "mesh3d"
           }
          ],
          "parcoords": [
           {
            "line": {
             "colorbar": {
              "outlinewidth": 0,
              "ticks": ""
             }
            },
            "type": "parcoords"
           }
          ],
          "pie": [
           {
            "automargin": true,
            "type": "pie"
           }
          ],
          "scatter": [
           {
            "fillpattern": {
             "fillmode": "overlay",
             "size": 10,
             "solidity": 0.2
            },
            "type": "scatter"
           }
          ],
          "scatter3d": [
           {
            "line": {
             "colorbar": {
              "outlinewidth": 0,
              "ticks": ""
             }
            },
            "marker": {
             "colorbar": {
              "outlinewidth": 0,
              "ticks": ""
             }
            },
            "type": "scatter3d"
           }
          ],
          "scattercarpet": [
           {
            "marker": {
             "colorbar": {
              "outlinewidth": 0,
              "ticks": ""
             }
            },
            "type": "scattercarpet"
           }
          ],
          "scattergeo": [
           {
            "marker": {
             "colorbar": {
              "outlinewidth": 0,
              "ticks": ""
             }
            },
            "type": "scattergeo"
           }
          ],
          "scattergl": [
           {
            "marker": {
             "colorbar": {
              "outlinewidth": 0,
              "ticks": ""
             }
            },
            "type": "scattergl"
           }
          ],
          "scattermap": [
           {
            "marker": {
             "colorbar": {
              "outlinewidth": 0,
              "ticks": ""
             }
            },
            "type": "scattermap"
           }
          ],
          "scattermapbox": [
           {
            "marker": {
             "colorbar": {
              "outlinewidth": 0,
              "ticks": ""
             }
            },
            "type": "scattermapbox"
           }
          ],
          "scatterpolar": [
           {
            "marker": {
             "colorbar": {
              "outlinewidth": 0,
              "ticks": ""
             }
            },
            "type": "scatterpolar"
           }
          ],
          "scatterpolargl": [
           {
            "marker": {
             "colorbar": {
              "outlinewidth": 0,
              "ticks": ""
             }
            },
            "type": "scatterpolargl"
           }
          ],
          "scatterternary": [
           {
            "marker": {
             "colorbar": {
              "outlinewidth": 0,
              "ticks": ""
             }
            },
            "type": "scatterternary"
           }
          ],
          "surface": [
           {
            "colorbar": {
             "outlinewidth": 0,
             "ticks": ""
            },
            "colorscale": [
             [
              0,
              "#0d0887"
             ],
             [
              0.1111111111111111,
              "#46039f"
             ],
             [
              0.2222222222222222,
              "#7201a8"
             ],
             [
              0.3333333333333333,
              "#9c179e"
             ],
             [
              0.4444444444444444,
              "#bd3786"
             ],
             [
              0.5555555555555556,
              "#d8576b"
             ],
             [
              0.6666666666666666,
              "#ed7953"
             ],
             [
              0.7777777777777778,
              "#fb9f3a"
             ],
             [
              0.8888888888888888,
              "#fdca26"
             ],
             [
              1,
              "#f0f921"
             ]
            ],
            "type": "surface"
           }
          ],
          "table": [
           {
            "cells": {
             "fill": {
              "color": "#EBF0F8"
             },
             "line": {
              "color": "white"
             }
            },
            "header": {
             "fill": {
              "color": "#C8D4E3"
             },
             "line": {
              "color": "white"
             }
            },
            "type": "table"
           }
          ]
         },
         "layout": {
          "annotationdefaults": {
           "arrowcolor": "#2a3f5f",
           "arrowhead": 0,
           "arrowwidth": 1
          },
          "autotypenumbers": "strict",
          "coloraxis": {
           "colorbar": {
            "outlinewidth": 0,
            "ticks": ""
           }
          },
          "colorscale": {
           "diverging": [
            [
             0,
             "#8e0152"
            ],
            [
             0.1,
             "#c51b7d"
            ],
            [
             0.2,
             "#de77ae"
            ],
            [
             0.3,
             "#f1b6da"
            ],
            [
             0.4,
             "#fde0ef"
            ],
            [
             0.5,
             "#f7f7f7"
            ],
            [
             0.6,
             "#e6f5d0"
            ],
            [
             0.7,
             "#b8e186"
            ],
            [
             0.8,
             "#7fbc41"
            ],
            [
             0.9,
             "#4d9221"
            ],
            [
             1,
             "#276419"
            ]
           ],
           "sequential": [
            [
             0,
             "#0d0887"
            ],
            [
             0.1111111111111111,
             "#46039f"
            ],
            [
             0.2222222222222222,
             "#7201a8"
            ],
            [
             0.3333333333333333,
             "#9c179e"
            ],
            [
             0.4444444444444444,
             "#bd3786"
            ],
            [
             0.5555555555555556,
             "#d8576b"
            ],
            [
             0.6666666666666666,
             "#ed7953"
            ],
            [
             0.7777777777777778,
             "#fb9f3a"
            ],
            [
             0.8888888888888888,
             "#fdca26"
            ],
            [
             1,
             "#f0f921"
            ]
           ],
           "sequentialminus": [
            [
             0,
             "#0d0887"
            ],
            [
             0.1111111111111111,
             "#46039f"
            ],
            [
             0.2222222222222222,
             "#7201a8"
            ],
            [
             0.3333333333333333,
             "#9c179e"
            ],
            [
             0.4444444444444444,
             "#bd3786"
            ],
            [
             0.5555555555555556,
             "#d8576b"
            ],
            [
             0.6666666666666666,
             "#ed7953"
            ],
            [
             0.7777777777777778,
             "#fb9f3a"
            ],
            [
             0.8888888888888888,
             "#fdca26"
            ],
            [
             1,
             "#f0f921"
            ]
           ]
          },
          "colorway": [
           "#636efa",
           "#EF553B",
           "#00cc96",
           "#ab63fa",
           "#FFA15A",
           "#19d3f3",
           "#FF6692",
           "#B6E880",
           "#FF97FF",
           "#FECB52"
          ],
          "font": {
           "color": "#2a3f5f"
          },
          "geo": {
           "bgcolor": "white",
           "lakecolor": "white",
           "landcolor": "#E5ECF6",
           "showlakes": true,
           "showland": true,
           "subunitcolor": "white"
          },
          "hoverlabel": {
           "align": "left"
          },
          "hovermode": "closest",
          "mapbox": {
           "style": "light"
          },
          "paper_bgcolor": "white",
          "plot_bgcolor": "#E5ECF6",
          "polar": {
           "angularaxis": {
            "gridcolor": "white",
            "linecolor": "white",
            "ticks": ""
           },
           "bgcolor": "#E5ECF6",
           "radialaxis": {
            "gridcolor": "white",
            "linecolor": "white",
            "ticks": ""
           }
          },
          "scene": {
           "xaxis": {
            "backgroundcolor": "#E5ECF6",
            "gridcolor": "white",
            "gridwidth": 2,
            "linecolor": "white",
            "showbackground": true,
            "ticks": "",
            "zerolinecolor": "white"
           },
           "yaxis": {
            "backgroundcolor": "#E5ECF6",
            "gridcolor": "white",
            "gridwidth": 2,
            "linecolor": "white",
            "showbackground": true,
            "ticks": "",
            "zerolinecolor": "white"
           },
           "zaxis": {
            "backgroundcolor": "#E5ECF6",
            "gridcolor": "white",
            "gridwidth": 2,
            "linecolor": "white",
            "showbackground": true,
            "ticks": "",
            "zerolinecolor": "white"
           }
          },
          "shapedefaults": {
           "line": {
            "color": "#2a3f5f"
           }
          },
          "ternary": {
           "aaxis": {
            "gridcolor": "white",
            "linecolor": "white",
            "ticks": ""
           },
           "baxis": {
            "gridcolor": "white",
            "linecolor": "white",
            "ticks": ""
           },
           "bgcolor": "#E5ECF6",
           "caxis": {
            "gridcolor": "white",
            "linecolor": "white",
            "ticks": ""
           }
          },
          "title": {
           "x": 0.05
          },
          "xaxis": {
           "automargin": true,
           "gridcolor": "white",
           "linecolor": "white",
           "ticks": "",
           "title": {
            "standoff": 15
           },
           "zerolinecolor": "white",
           "zerolinewidth": 2
          },
          "yaxis": {
           "automargin": true,
           "gridcolor": "white",
           "linecolor": "white",
           "ticks": "",
           "title": {
            "standoff": 15
           },
           "zerolinecolor": "white",
           "zerolinewidth": 2
          }
         }
        },
        "xaxis": {
         "anchor": "y",
         "domain": [
          0,
          1
         ],
         "title": {
          "text": "value"
         }
        },
        "yaxis": {
         "anchor": "x",
         "domain": [
          0,
          1
         ],
         "title": {
          "text": "count"
         }
        }
       }
      }
     },
     "metadata": {},
     "output_type": "display_data"
    }
   ],
   "source": [
    "def getLengthInfo(data, column, bins=500):\n",
    "  lengths = [len(i) for i in data.iloc[:, column]]\n",
    "  print(\"Max length: \", max(lengths))\n",
    "  print(\"Min length: \", min(lengths))\n",
    "\n",
    "  length_pt = torch.tensor(lengths, dtype=torch.bfloat16)\n",
    "  print(length_pt.mean())\n",
    "  print(length_pt.std())\n",
    "\n",
    "  import plotly.express as px\n",
    "  fig = px.histogram(lengths, nbins=bins)\n",
    "  fig.show()\n",
    "\n",
    "print('Length info for questions in train dataset:')\n",
    "getLengthInfo(data=Data_pd, column=0)\n",
    "print('Length info for reasoning in train dataset:')\n",
    "getLengthInfo(data=Data_pd, column=1, bins=700)\n",
    "\n",
    "print('Length info for questions in test dataset:')\n",
    "getLengthInfo(data=testData_pd, column=0)\n",
    "print('Length info for reasoning in test dataset:')\n",
    "getLengthInfo(data=testData_pd, column=1, bins=700)"
   ]
  },
  {
   "cell_type": "code",
   "execution_count": 101,
   "metadata": {
    "id": "FiMY7IY9rBNN"
   },
   "outputs": [],
   "source": [
    "def tokenize(examples):\n",
    "  model_inputs = tokenizer.batch_encode_plus(examples['questions'], padding='max_length', truncation=True, return_tensors='pt')\n",
    "  print(\"Input questions tokenized!\")\n",
    "  reasoning = tokenizer.batch_encode_plus(examples['reasoning'], padding='max_length', truncation=True, return_tensors='pt')\n",
    "  print(\"Reasoning parts tokenized!\")\n",
    "  labels = tokenizer.batch_encode_plus(examples['answers'], padding='max_length', truncation=True, return_tensors='pt')\n",
    "  print(\"Labels tokenized!\")\n",
    "  model_inputs['input_ids'] = torch.tensor(model_inputs['input_ids'], dtype=torch.long)\n",
    "  model_inputs['labels'] = torch.tensor(labels['input_ids'], dtype=torch.long)\n",
    "  model_inputs['reasoning'] = torch.tensor(reasoning['input_ids'], dtype=torch.long)\n",
    "  return model_inputs"
   ]
  },
  {
   "cell_type": "code",
   "execution_count": 102,
   "metadata": {
    "colab": {
     "base_uri": "https://localhost:8080/",
     "height": 842,
     "referenced_widgets": [
      "99dc208e4b564bfc81de614b57badb40",
      "dcb022d465e244f48c211a3345529e5f",
      "7f38c5379b9e40c6a7e2bd1a26a4ca00",
      "c1c248e4375a458da5e08fc847277b36",
      "5469d22cd59c4bcbb8da71bfc1b82285",
      "7a743bf7607e415eaed43a39c9949c36",
      "ce9981c9e66c44fc8af8eb7ed4dcbf8c",
      "5833c42a1ed44ba483d5903e42339939",
      "5de2b55d55774dda8ca6e7084d40a908",
      "dbddf31267cb4f008f69593963da771b",
      "31a0d8d2ff1a4b5a8b74ff9d75b86320",
      "74ec1820f112475486c8abb4f0344fbf",
      "32ecc4b42f72410f9a7c17edc9392f76",
      "4ffcb1ef942f40e8b8834b42a490f69f",
      "271c60cc570942d3b4248e8de65b873f",
      "22859348aaf34fea935fd852c05e38cb",
      "3158a6b4154a43d0b59c77628a81c605",
      "f252c2ac939848c0a92222a5ccdd7f3a",
      "c45c7c24ee44458eb40e85129549f631",
      "374e31ca39e84120af34aa63597fb908",
      "028f29726a1843739ed920313ecffb91",
      "d8e99c1b37b1434080334497912fed64",
      "ad45e8fe2d494d5089440e87dc3a1355",
      "c488f5bc088b452b91e3e525da823d39",
      "607d1c4b698044af8d190da34f8b45cd",
      "90e45ada50f74961a21762cf16944074",
      "a2a1b09197ba4e9aaeeddf340295a354",
      "9ee57aa21a68415cad52ea86b97030bb",
      "36a1efd66de44c72b42ac3906f105163",
      "c35211e4609445368f4996155b68f082",
      "d0e0e2dfdc2e4b84a885b8b435791216",
      "efb22bf08a4340788c1b48ae811542de",
      "dd299ddd078743328e4950c64beacefd"
     ]
    },
    "id": "poa5ezfBWbnm",
    "outputId": "8481a6e1-ec32-44d4-a85f-ed0ba6f1f9f5"
   },
   "outputs": [
    {
     "data": {
      "application/vnd.jupyter.widget-view+json": {
       "model_id": "790597525dd949cb907dade6e3aadc7f",
       "version_major": 2,
       "version_minor": 0
      },
      "text/plain": [
       "Map:   0%|          | 0/11679 [00:00<?, ? examples/s]"
      ]
     },
     "metadata": {},
     "output_type": "display_data"
    },
    {
     "name": "stdout",
     "output_type": "stream",
     "text": [
      "Input questions tokenized!\n",
      "Reasoning parts tokenized!\n",
      "Labels tokenized!\n"
     ]
    },
    {
     "name": "stderr",
     "output_type": "stream",
     "text": [
      "/var/folders/k2/yqlt87156k17x32rmffq7jfr0000gn/T/ipykernel_76682/1956301803.py:8: UserWarning:\n",
      "\n",
      "To copy construct from a tensor, it is recommended to use sourceTensor.detach().clone() or sourceTensor.detach().clone().requires_grad_(True), rather than torch.tensor(sourceTensor).\n",
      "\n",
      "/var/folders/k2/yqlt87156k17x32rmffq7jfr0000gn/T/ipykernel_76682/1956301803.py:9: UserWarning:\n",
      "\n",
      "To copy construct from a tensor, it is recommended to use sourceTensor.detach().clone() or sourceTensor.detach().clone().requires_grad_(True), rather than torch.tensor(sourceTensor).\n",
      "\n",
      "/var/folders/k2/yqlt87156k17x32rmffq7jfr0000gn/T/ipykernel_76682/1956301803.py:10: UserWarning:\n",
      "\n",
      "To copy construct from a tensor, it is recommended to use sourceTensor.detach().clone() or sourceTensor.detach().clone().requires_grad_(True), rather than torch.tensor(sourceTensor).\n",
      "\n"
     ]
    },
    {
     "name": "stdout",
     "output_type": "stream",
     "text": [
      "Input questions tokenized!\n",
      "Reasoning parts tokenized!\n",
      "Labels tokenized!\n",
      "Input questions tokenized!\n",
      "Reasoning parts tokenized!\n",
      "Labels tokenized!\n",
      "Input questions tokenized!\n",
      "Reasoning parts tokenized!\n",
      "Labels tokenized!\n",
      "Input questions tokenized!\n",
      "Reasoning parts tokenized!\n",
      "Labels tokenized!\n",
      "Input questions tokenized!\n",
      "Reasoning parts tokenized!\n",
      "Labels tokenized!\n",
      "Input questions tokenized!\n",
      "Reasoning parts tokenized!\n",
      "Labels tokenized!\n",
      "Input questions tokenized!\n",
      "Reasoning parts tokenized!\n",
      "Labels tokenized!\n",
      "Input questions tokenized!\n",
      "Reasoning parts tokenized!\n",
      "Labels tokenized!\n",
      "Input questions tokenized!\n",
      "Reasoning parts tokenized!\n",
      "Labels tokenized!\n",
      "Input questions tokenized!\n",
      "Reasoning parts tokenized!\n",
      "Labels tokenized!\n",
      "Input questions tokenized!\n",
      "Reasoning parts tokenized!\n",
      "Labels tokenized!\n"
     ]
    },
    {
     "data": {
      "application/vnd.jupyter.widget-view+json": {
       "model_id": "c5f508ee821d4d36a7eebd15fcc3ca82",
       "version_major": 2,
       "version_minor": 0
      },
      "text/plain": [
       "Map:   0%|          | 0/1000 [00:00<?, ? examples/s]"
      ]
     },
     "metadata": {},
     "output_type": "display_data"
    },
    {
     "name": "stdout",
     "output_type": "stream",
     "text": [
      "Input questions tokenized!\n",
      "Reasoning parts tokenized!\n",
      "Labels tokenized!\n"
     ]
    },
    {
     "data": {
      "application/vnd.jupyter.widget-view+json": {
       "model_id": "653eef1d54024b128415843c7b43a087",
       "version_major": 2,
       "version_minor": 0
      },
      "text/plain": [
       "Map:   0%|          | 0/1000 [00:00<?, ? examples/s]"
      ]
     },
     "metadata": {},
     "output_type": "display_data"
    },
    {
     "name": "stdout",
     "output_type": "stream",
     "text": [
      "Input questions tokenized!\n",
      "Reasoning parts tokenized!\n",
      "Labels tokenized!\n"
     ]
    },
    {
     "data": {
      "text/plain": [
       "DatasetDict({\n",
       "    train: Dataset({\n",
       "        features: ['questions', 'reasoning', 'answers', 'input_ids', 'attention_mask', 'labels'],\n",
       "        num_rows: 11679\n",
       "    })\n",
       "    validation: Dataset({\n",
       "        features: ['questions', 'reasoning', 'answers', 'input_ids', 'attention_mask', 'labels'],\n",
       "        num_rows: 1000\n",
       "    })\n",
       "    test: Dataset({\n",
       "        features: ['questions', 'reasoning', 'answers', 'input_ids', 'attention_mask', 'labels'],\n",
       "        num_rows: 1000\n",
       "    })\n",
       "})"
      ]
     },
     "execution_count": 102,
     "metadata": {},
     "output_type": "execute_result"
    }
   ],
   "source": [
    "tokenized_dataset = dataset_dict.map(tokenize, batched=True)\n",
    "tokenized_dataset"
   ]
  },
  {
   "cell_type": "markdown",
   "metadata": {
    "id": "Oex6TfriHyPQ"
   },
   "source": [
    "# Now, we define the Rewards to be given to the Model during training.\n"
   ]
  },
  {
   "cell_type": "code",
   "execution_count": 108,
   "metadata": {
    "colab": {
     "base_uri": "https://localhost:8080/"
    },
    "id": "BL4rcpl2d_Fy",
    "outputId": "831b5437-5713-4c0a-860d-376a12ecad96"
   },
   "outputs": [
    {
     "name": "stdout",
     "output_type": "stream",
     "text": [
      "In a chemical reaction, the amounts of reactants and products will be constant when what state is attained?\n",
      "Options: homogeneity\n",
      "saturation\n",
      "peak\n",
      "equilibrium \n",
      " <think>The amount of reactants and products do not have to be equal. However, after equilibrium is attained, the amounts of reactants and products will be constant.</think>\n"
     ]
    }
   ],
   "source": [
    "s1 = Data_pd.iloc[100]['questions']\n",
    "s2 = Data_pd.iloc[100]['reasoning']\n",
    "\n",
    "print(s1,\"\\n\",s2)"
   ]
  },
  {
   "cell_type": "code",
   "execution_count": 109,
   "metadata": {
    "colab": {
     "base_uri": "https://localhost:8080/"
    },
    "id": "V5iBx6LENlHA",
    "outputId": "946e8f7c-e7cd-4697-ae28-d7b7bbef781b"
   },
   "outputs": [
    {
     "data": {
      "text/plain": [
       "[0.25]"
      ]
     },
     "execution_count": 109,
     "metadata": {},
     "output_type": "execute_result"
    }
   ],
   "source": [
    "def ResponseStructureReward(completions):\n",
    "  rewards = []\n",
    "  for completion in completions:\n",
    "    match1 = re.search(r\"^<think>.*?</think>.*?\", completion)\n",
    "    match2 = re.search(r\"<answer>.*?</answer>.*?\", completion)\n",
    "    # if match1:\n",
    "    #   print(\"match1:\", match1.group(0))\n",
    "    #   print(len(match1.group(0).split(\" \")))\n",
    "    # if match2:\n",
    "    #   print(\"match2:\", match2.group(0),\"\\n\")\n",
    "    #   print(len(match2.group(0).split(\" \")))\n",
    "    if match1 and match2:\n",
    "      rewards.append(1.0)\n",
    "    else:\n",
    "      rewards.append(0.5)  # Partial reward for correct format but limited content\n",
    "  # print(rewards)\n",
    "  return rewards\n",
    "\n",
    "# ResponseStructureReward([\"The energy is sun. Correct answer: sun\"])\n",
    "# ResponseStructureReward([\"<think>The nu#$%^&*([]/[;'/mber of molecular orbi875676rbtals </> produced is the same as the number. <answer>energy </answer>\"])\n",
    "ResponseStructureReward([s2])\n",
    "\n",
    "\n",
    "def ResponseLengthReward(completions):\n",
    "  rewards = []\n",
    "  for completion in completions:\n",
    "    if len(completion) > 100:\n",
    "      if len(completion) > 200:\n",
    "        rewards.append(0.5)\n",
    "      elif len(completion) > 400:\n",
    "        rewards.append(1.0)\n",
    "      else:\n",
    "        rewards.append(0.25)\n",
    "    else:\n",
    "      rewards.append(0.0)\n",
    "  # print(rewards)\n",
    "  return rewards\n",
    "\n",
    "ResponseLengthReward([s2])"
   ]
  },
  {
   "cell_type": "markdown",
   "metadata": {
    "id": "QqtWzv5_Ah_G"
   },
   "source": [
    "# Here, we create batches of input_ids, attention_mask, and labels.\n",
    "**Batch size = 8, for loading data along with the model on GPU**\n",
    "\n",
    "-------------------------------\n",
    "\n",
    "1 long value = 8 bytes of memory \\\n",
    "512 long values = 1 tensor in our case \\\n",
    "3 such tensors at each input instance = 3 x 512 x 8 = 12,288 bytes\n",
    "\n",
    "For a single batch, \\\n",
    "8 instances = 8 x 12,288 = 98,304 bytes \n",
    "\n",
    "Memory for a single batch during training = 98.3 KB \n",
    "\n",
    "-------------------------------\n",
    "\n",
    "1 bfloat value = 2 bytes of memory \\\n",
    "512 bfloat values = 1 tensor in our case \\\n",
    "3 such tensors at each input instance = 3 x 512 x 2 = 3072 bytes\n",
    "\n",
    "For a single batch, \\\n",
    "8 instances = 8 x 3072 = 24,576 bytes\n",
    "\n",
    "Memory for a single batch during training = 24.5 KB"
   ]
  },
  {
   "cell_type": "code",
   "execution_count": 110,
   "metadata": {
    "id": "f4Z_q8Gozcon"
   },
   "outputs": [],
   "source": [
    "DataLoader = torch.utils.data.DataLoader\n",
    "data = torch.utils.data.TensorDataset(torch.tensor(tokenized_dataset['train']['input_ids']),\n",
    "                                      torch.tensor(tokenized_dataset['train']['attention_mask']),\n",
    "                                      torch.tensor(tokenized_dataset['train']['reasoning']),\n",
    "                                      torch.tensor(tokenized_dataset['train']['labels']))\n",
    "batched_data = DataLoader(dataset=data,\n",
    "                          batch_size=8)\n",
    "\n",
    "val_data = torch.utils.data.TensorDataset(torch.tensor(tokenized_dataset['validation']['input_ids']),\n",
    "                                      torch.tensor(tokenized_dataset['validation']['attention_mask']),\n",
    "                                      torch.tensor(tokenized_dataset['validation']['reasoning']),\n",
    "                                      torch.tensor(tokenized_dataset['validation']['labels']))\n",
    "batched_val_data = DataLoader(dataset=val_data,\n",
    "                          batch_size=10)\n",
    "\n",
    "test_data = torch.utils.data.TensorDataset(torch.tensor(tokenized_dataset['test']['input_ids']),\n",
    "                                      torch.tensor(tokenized_dataset['test']['attention_mask']),\n",
    "                                      torch.tensor(tokenized_dataset['test']['reasoning']),\n",
    "                                      torch.tensor(tokenized_dataset['test']['labels']))\n",
    "batched_test_data = DataLoader(dataset=test_data,\n",
    "                          batch_size=10)"
   ]
  },
  {
   "cell_type": "code",
   "execution_count": null,
   "metadata": {},
   "outputs": [
    {
     "name": "stdout",
     "output_type": "stream",
     "text": [
      "Question:  What type of organism is commonly used in preparation of foods such as cheese and yogurt? Options: viruses protozoa gymnosperms mesophilic organisms\n",
      "Actual answer:  mesophilic organisms\n",
      "Predicted output:  fungi\n",
      "Question:  What phenomenon makes global winds blow northeast to southwest or the reverse in the northern hemisphere and northwest to southeast or the reverse in the southern hemisphere? Options: tropical effect muon effect centrifugal effect coriolis effect\n",
      "Actual answer:  coriolis effect\n",
      "Predicted output:  tropical effect muon effect\n",
      "Question:  Changes from a less-ordered state to a more-ordered state (such as a liquid to a solid) are always what? Options: endothermic unbalanced reactive exothermic\n",
      "Actual answer:  exothermic\n",
      "Predicted output:  unbalanced\n",
      "Question:  What is the least dangerous radioactive decay? Options: zeta decay beta decay gamma decay alpha decay\n",
      "Actual answer:  alpha decay\n",
      "Predicted output:  Gamma decay is the least dangerous radioactive decay. The answer is gamma decay\n",
      "Question:  Kilauea in hawaii is the world’s most continuously active volcano. very active volcanoes characteristically eject red-hot rocks and lava rather than this? Options: magma greenhouse gases carbon and smog smoke and ash\n",
      "Actual answer:  smoke and ash\n",
      "Predicted output:  Kilauea is the world’s most continuously active volcano. very active volcanoes characteristic\n",
      "Question:  When a meteoroid reaches earth, what is the remaining object called? Options: orbit comet meteor meteorite\n",
      "Actual answer:  meteorite\n",
      "Predicted output:  Earth is the only object that can reach the earth. The meteoroid is the last object\n",
      "Question:  What kind of a reaction occurs when a substance reacts quickly with oxygen? Options: nitrogen reaction invention reaction Fluid Reaction combustion reaction\n",
      "Actual answer:  combustion reaction\n",
      "Predicted output:  Nitrogen reaction occurs when a substance reacts quickly with oxygen.\n",
      "Question:  Organisms categorized by what species descriptor demonstrate a version of allopatric speciation and have limited regions of overlap with one another, but where they overlap they interbreed successfully?. Options: species complex surface species fitting species ring species\n",
      "Actual answer:  ring species\n",
      "Predicted output:  ring species\n"
     ]
    }
   ],
   "source": [
    "LoRA_model.eval()\n",
    "input_id, attn_mask, _, target = next(iter(batched_data))\n",
    "mps1 = input_id.to(mpsDevice)\n",
    "mps2 = attn_mask.to(mpsDevice)\n",
    "mps3 = target.to(mpsDevice)\n",
    "outputs = LoRA_model.generate(input_ids=mps1,\n",
    "                              attention_mask=mps2)\n",
    "questions = tokenizer.batch_decode(input_id, skip_special_tokens=True)\n",
    "answers = tokenizer.batch_decode(target, skip_special_tokens=True)\n",
    "\n",
    "for q, a, output in zip(questions, answers, outputs):\n",
    "    print(\"Question: \", q)\n",
    "    print(\"Actual answer: \", a)\n",
    "    print(\"Predicted output: \", tokenizer.decode(output, skip_special_tokens=True))"
   ]
  },
  {
   "cell_type": "markdown",
   "metadata": {
    "id": "tzlCyPfMBAOG"
   },
   "source": [
    "**Define the optimizer we are gonna use and the parameters for LoRA model. Also, moving the model to cuda**"
   ]
  },
  {
   "cell_type": "code",
   "execution_count": 21,
   "metadata": {
    "id": "zGIEY6g5hDNe"
   },
   "outputs": [],
   "source": [
    "optimizer = torch.optim.Adam(LoRA_model.parameters(), lr=1e-3, eps=1e-4)\n",
    "training_loss = []\n",
    "metrics = []"
   ]
  },
  {
   "cell_type": "code",
   "execution_count": null,
   "metadata": {
    "colab": {
     "base_uri": "https://localhost:8080/",
     "height": 1000
    },
    "id": "JU7wX8Jn3aMb",
    "outputId": "55da1991-fec9-4765-cdc7-41c99d393caf"
   },
   "outputs": [],
   "source": [
    "def SupervisedTraining(epochs, model_dir=''):\n",
    "  for epoch in range(epochs):\n",
    "    print(f\"Epoch: {epoch}\")\n",
    "    epoch_losses = []\n",
    "    b = 0\n",
    "    train_iterator = iter(batched_data)\n",
    "    val_iterator = iter(batched_val_data)\n",
    "    \n",
    "    input_id, attn_mask, target = next(train_iterator)\n",
    "    target_ids = target.contiguous()\n",
    "    labels = target.clone().detach()\n",
    "    labels[target[:, :] == tokenizer.pad_token_type_id] = -100\n",
    "    \n",
    "    mps_input_ids = input_id.to(device=mpsDevice)\n",
    "    mps_target_ids = target_ids.to(device=mpsDevice)\n",
    "    mps_attnMask_ids = attn_mask.to(device=mpsDevice)\n",
    "    mps_labels_ids = labels.to(device=mpsDevice)\n",
    "    print(\"Data into MPS.\")\n",
    "    \n",
    "    LoRA_model.train()\n",
    "    output = LoRA_model.generate(input_ids=mps_input_ids,\n",
    "                        attention_mask=mps_target_ids,\n",
    "                        decoder_input_ids=mps_attnMask_ids,\n",
    "                        labels=mps_labels_ids)\n",
    "    loss = output[0]\n",
    "    print(output)\n",
    "    \n",
    "    optimizer.zero_grad()\n",
    "    loss.backward()\n",
    "    optimizer.step()\n",
    "    \n",
    "    epoch_losses.append(loss)\n",
    "    print(f\"Epoch loss: {sum(epoch_losses)/len(epoch_losses)}\")\n",
    "    training_loss.append(sum(epoch_losses)/len(epoch_losses))\n",
    "    \n",
    "  print(f'Training loss: {training_loss:.4f}')\n",
    "  torch.save(LoRA_model.state_dict(), model_dir)\n",
    "  print(\"Model saved.\")\n",
    "\n",
    "SupervisedTraining(epochs=1, model_dir='./T5_Model1.pt')"
   ]
  },
  {
   "cell_type": "code",
   "execution_count": null,
   "metadata": {
    "id": "HumAcEE8Cmcj"
   },
   "outputs": [],
   "source": [
    "# LoRA_model.eval()\n",
    "# for i, m, o in batched_test_data:\n",
    "#   outputs = LoRA_model.generate(input_ids=i, attention_mask=m)\n",
    "#   break\n",
    "# print(outputs)"
   ]
  }
 ],
 "metadata": {
  "accelerator": "GPU",
  "colab": {
   "gpuType": "T4",
   "provenance": []
  },
  "kernelspec": {
   "display_name": "torchENV",
   "language": "python",
   "name": "python3"
  },
  "language_info": {
   "codemirror_mode": {
    "name": "ipython",
    "version": 3
   },
   "file_extension": ".py",
   "mimetype": "text/x-python",
   "name": "python",
   "nbconvert_exporter": "python",
   "pygments_lexer": "ipython3",
   "version": "3.13.3"
  },
  "widgets": {
   "application/vnd.jupyter.widget-state+json": {
    "008352874253473bb69efd6ef6489de3": {
     "model_module": "@jupyter-widgets/base",
     "model_module_version": "1.2.0",
     "model_name": "LayoutModel",
     "state": {
      "_model_module": "@jupyter-widgets/base",
      "_model_module_version": "1.2.0",
      "_model_name": "LayoutModel",
      "_view_count": null,
      "_view_module": "@jupyter-widgets/base",
      "_view_module_version": "1.2.0",
      "_view_name": "LayoutView",
      "align_content": null,
      "align_items": null,
      "align_self": null,
      "border": null,
      "bottom": null,
      "display": null,
      "flex": null,
      "flex_flow": null,
      "grid_area": null,
      "grid_auto_columns": null,
      "grid_auto_flow": null,
      "grid_auto_rows": null,
      "grid_column": null,
      "grid_gap": null,
      "grid_row": null,
      "grid_template_areas": null,
      "grid_template_columns": null,
      "grid_template_rows": null,
      "height": null,
      "justify_content": null,
      "justify_items": null,
      "left": null,
      "margin": null,
      "max_height": null,
      "max_width": null,
      "min_height": null,
      "min_width": null,
      "object_fit": null,
      "object_position": null,
      "order": null,
      "overflow": null,
      "overflow_x": null,
      "overflow_y": null,
      "padding": null,
      "right": null,
      "top": null,
      "visibility": null,
      "width": null
     }
    },
    "028f29726a1843739ed920313ecffb91": {
     "model_module": "@jupyter-widgets/base",
     "model_module_version": "1.2.0",
     "model_name": "LayoutModel",
     "state": {
      "_model_module": "@jupyter-widgets/base",
      "_model_module_version": "1.2.0",
      "_model_name": "LayoutModel",
      "_view_count": null,
      "_view_module": "@jupyter-widgets/base",
      "_view_module_version": "1.2.0",
      "_view_name": "LayoutView",
      "align_content": null,
      "align_items": null,
      "align_self": null,
      "border": null,
      "bottom": null,
      "display": null,
      "flex": null,
      "flex_flow": null,
      "grid_area": null,
      "grid_auto_columns": null,
      "grid_auto_flow": null,
      "grid_auto_rows": null,
      "grid_column": null,
      "grid_gap": null,
      "grid_row": null,
      "grid_template_areas": null,
      "grid_template_columns": null,
      "grid_template_rows": null,
      "height": null,
      "justify_content": null,
      "justify_items": null,
      "left": null,
      "margin": null,
      "max_height": null,
      "max_width": null,
      "min_height": null,
      "min_width": null,
      "object_fit": null,
      "object_position": null,
      "order": null,
      "overflow": null,
      "overflow_x": null,
      "overflow_y": null,
      "padding": null,
      "right": null,
      "top": null,
      "visibility": null,
      "width": null
     }
    },
    "04079a1b7b1e4ec99e56740ab42c981f": {
     "model_module": "@jupyter-widgets/controls",
     "model_module_version": "1.5.0",
     "model_name": "FloatProgressModel",
     "state": {
      "_dom_classes": [],
      "_model_module": "@jupyter-widgets/controls",
      "_model_module_version": "1.5.0",
      "_model_name": "FloatProgressModel",
      "_view_count": null,
      "_view_module": "@jupyter-widgets/controls",
      "_view_module_version": "1.5.0",
      "_view_name": "ProgressView",
      "bar_style": "success",
      "description": "",
      "description_tooltip": null,
      "layout": "IPY_MODEL_9d6c7558c44149d4a19407e811d94383",
      "max": 2424064,
      "min": 0,
      "orientation": "horizontal",
      "style": "IPY_MODEL_a55402c392bd43bc8888219ca33347a7",
      "value": 2424064
     }
    },
    "04a9cd5149e240b7b187b47dee51a62c": {
     "model_module": "@jupyter-widgets/controls",
     "model_module_version": "1.5.0",
     "model_name": "HTMLModel",
     "state": {
      "_dom_classes": [],
      "_model_module": "@jupyter-widgets/controls",
      "_model_module_version": "1.5.0",
      "_model_name": "HTMLModel",
      "_view_count": null,
      "_view_module": "@jupyter-widgets/controls",
      "_view_module_version": "1.5.0",
      "_view_name": "HTMLView",
      "description": "",
      "description_tooltip": null,
      "layout": "IPY_MODEL_3d4d36edd5ce4021981a44c23deac409",
      "placeholder": "​",
      "style": "IPY_MODEL_67f35f7275404de29e42e314328579a3",
      "value": " 2.54k/2.54k [00:00&lt;00:00, 271kB/s]"
     }
    },
    "056dc2ed4ef146abac8da2d1f5ea0122": {
     "model_module": "@jupyter-widgets/controls",
     "model_module_version": "1.5.0",
     "model_name": "HBoxModel",
     "state": {
      "_dom_classes": [],
      "_model_module": "@jupyter-widgets/controls",
      "_model_module_version": "1.5.0",
      "_model_name": "HBoxModel",
      "_view_count": null,
      "_view_module": "@jupyter-widgets/controls",
      "_view_module_version": "1.5.0",
      "_view_name": "HBoxView",
      "box_style": "",
      "children": [
       "IPY_MODEL_3783c5a3c1db476e8a788c51695579d5",
       "IPY_MODEL_424df08b7583448cbc087622fd18f2cd",
       "IPY_MODEL_04a9cd5149e240b7b187b47dee51a62c"
      ],
      "layout": "IPY_MODEL_c7735b6f8b6b46719bf18f0a5b82fb9a"
     }
    },
    "0933fbab3b72417481bee447c411d01d": {
     "model_module": "@jupyter-widgets/controls",
     "model_module_version": "1.5.0",
     "model_name": "DescriptionStyleModel",
     "state": {
      "_model_module": "@jupyter-widgets/controls",
      "_model_module_version": "1.5.0",
      "_model_name": "DescriptionStyleModel",
      "_view_count": null,
      "_view_module": "@jupyter-widgets/base",
      "_view_module_version": "1.2.0",
      "_view_name": "StyleView",
      "description_width": ""
     }
    },
    "128f8096dbaf45589f1aad81445ed902": {
     "model_module": "@jupyter-widgets/base",
     "model_module_version": "1.2.0",
     "model_name": "LayoutModel",
     "state": {
      "_model_module": "@jupyter-widgets/base",
      "_model_module_version": "1.2.0",
      "_model_name": "LayoutModel",
      "_view_count": null,
      "_view_module": "@jupyter-widgets/base",
      "_view_module_version": "1.2.0",
      "_view_name": "LayoutView",
      "align_content": null,
      "align_items": null,
      "align_self": null,
      "border": null,
      "bottom": null,
      "display": null,
      "flex": null,
      "flex_flow": null,
      "grid_area": null,
      "grid_auto_columns": null,
      "grid_auto_flow": null,
      "grid_auto_rows": null,
      "grid_column": null,
      "grid_gap": null,
      "grid_row": null,
      "grid_template_areas": null,
      "grid_template_columns": null,
      "grid_template_rows": null,
      "height": null,
      "justify_content": null,
      "justify_items": null,
      "left": null,
      "margin": null,
      "max_height": null,
      "max_width": null,
      "min_height": null,
      "min_width": null,
      "object_fit": null,
      "object_position": null,
      "order": null,
      "overflow": null,
      "overflow_x": null,
      "overflow_y": null,
      "padding": null,
      "right": null,
      "top": null,
      "visibility": null,
      "width": null
     }
    },
    "12daee9f851a41129654bd45a6672d09": {
     "model_module": "@jupyter-widgets/controls",
     "model_module_version": "1.5.0",
     "model_name": "HBoxModel",
     "state": {
      "_dom_classes": [],
      "_model_module": "@jupyter-widgets/controls",
      "_model_module_version": "1.5.0",
      "_model_name": "HBoxModel",
      "_view_count": null,
      "_view_module": "@jupyter-widgets/controls",
      "_view_module_version": "1.5.0",
      "_view_name": "HBoxView",
      "box_style": "",
      "children": [
       "IPY_MODEL_611e70fb266f4be58b10479eb42bc518",
       "IPY_MODEL_54296343cd8e45cf9cce120296b2d9a9",
       "IPY_MODEL_de41f025b080447b86729dc0e6d41e9d"
      ],
      "layout": "IPY_MODEL_c6c1f095da6645e580072e4a44d94850"
     }
    },
    "15664c5088b240c7ab322798640d142b": {
     "model_module": "@jupyter-widgets/base",
     "model_module_version": "1.2.0",
     "model_name": "LayoutModel",
     "state": {
      "_model_module": "@jupyter-widgets/base",
      "_model_module_version": "1.2.0",
      "_model_name": "LayoutModel",
      "_view_count": null,
      "_view_module": "@jupyter-widgets/base",
      "_view_module_version": "1.2.0",
      "_view_name": "LayoutView",
      "align_content": null,
      "align_items": null,
      "align_self": null,
      "border": null,
      "bottom": null,
      "display": null,
      "flex": null,
      "flex_flow": null,
      "grid_area": null,
      "grid_auto_columns": null,
      "grid_auto_flow": null,
      "grid_auto_rows": null,
      "grid_column": null,
      "grid_gap": null,
      "grid_row": null,
      "grid_template_areas": null,
      "grid_template_columns": null,
      "grid_template_rows": null,
      "height": null,
      "justify_content": null,
      "justify_items": null,
      "left": null,
      "margin": null,
      "max_height": null,
      "max_width": null,
      "min_height": null,
      "min_width": null,
      "object_fit": null,
      "object_position": null,
      "order": null,
      "overflow": null,
      "overflow_x": null,
      "overflow_y": null,
      "padding": null,
      "right": null,
      "top": null,
      "visibility": null,
      "width": null
     }
    },
    "19cce9235b4d47309c896b3d3df2a2ae": {
     "model_module": "@jupyter-widgets/base",
     "model_module_version": "1.2.0",
     "model_name": "LayoutModel",
     "state": {
      "_model_module": "@jupyter-widgets/base",
      "_model_module_version": "1.2.0",
      "_model_name": "LayoutModel",
      "_view_count": null,
      "_view_module": "@jupyter-widgets/base",
      "_view_module_version": "1.2.0",
      "_view_name": "LayoutView",
      "align_content": null,
      "align_items": null,
      "align_self": null,
      "border": null,
      "bottom": null,
      "display": null,
      "flex": null,
      "flex_flow": null,
      "grid_area": null,
      "grid_auto_columns": null,
      "grid_auto_flow": null,
      "grid_auto_rows": null,
      "grid_column": null,
      "grid_gap": null,
      "grid_row": null,
      "grid_template_areas": null,
      "grid_template_columns": null,
      "grid_template_rows": null,
      "height": null,
      "justify_content": null,
      "justify_items": null,
      "left": null,
      "margin": null,
      "max_height": null,
      "max_width": null,
      "min_height": null,
      "min_width": null,
      "object_fit": null,
      "object_position": null,
      "order": null,
      "overflow": null,
      "overflow_x": null,
      "overflow_y": null,
      "padding": null,
      "right": null,
      "top": null,
      "visibility": null,
      "width": null
     }
    },
    "1d52bada9dad4379a75493399127000b": {
     "model_module": "@jupyter-widgets/controls",
     "model_module_version": "1.5.0",
     "model_name": "ProgressStyleModel",
     "state": {
      "_model_module": "@jupyter-widgets/controls",
      "_model_module_version": "1.5.0",
      "_model_name": "ProgressStyleModel",
      "_view_count": null,
      "_view_module": "@jupyter-widgets/base",
      "_view_module_version": "1.2.0",
      "_view_name": "StyleView",
      "bar_color": null,
      "description_width": ""
     }
    },
    "22859348aaf34fea935fd852c05e38cb": {
     "model_module": "@jupyter-widgets/base",
     "model_module_version": "1.2.0",
     "model_name": "LayoutModel",
     "state": {
      "_model_module": "@jupyter-widgets/base",
      "_model_module_version": "1.2.0",
      "_model_name": "LayoutModel",
      "_view_count": null,
      "_view_module": "@jupyter-widgets/base",
      "_view_module_version": "1.2.0",
      "_view_name": "LayoutView",
      "align_content": null,
      "align_items": null,
      "align_self": null,
      "border": null,
      "bottom": null,
      "display": null,
      "flex": null,
      "flex_flow": null,
      "grid_area": null,
      "grid_auto_columns": null,
      "grid_auto_flow": null,
      "grid_auto_rows": null,
      "grid_column": null,
      "grid_gap": null,
      "grid_row": null,
      "grid_template_areas": null,
      "grid_template_columns": null,
      "grid_template_rows": null,
      "height": null,
      "justify_content": null,
      "justify_items": null,
      "left": null,
      "margin": null,
      "max_height": null,
      "max_width": null,
      "min_height": null,
      "min_width": null,
      "object_fit": null,
      "object_position": null,
      "order": null,
      "overflow": null,
      "overflow_x": null,
      "overflow_y": null,
      "padding": null,
      "right": null,
      "top": null,
      "visibility": null,
      "width": null
     }
    },
    "2610b2b8b21b4066a67ea484b624be88": {
     "model_module": "@jupyter-widgets/controls",
     "model_module_version": "1.5.0",
     "model_name": "DescriptionStyleModel",
     "state": {
      "_model_module": "@jupyter-widgets/controls",
      "_model_module_version": "1.5.0",
      "_model_name": "DescriptionStyleModel",
      "_view_count": null,
      "_view_module": "@jupyter-widgets/base",
      "_view_module_version": "1.2.0",
      "_view_name": "StyleView",
      "description_width": ""
     }
    },
    "268c0e42303f42dfbf60d4eb50886b8f": {
     "model_module": "@jupyter-widgets/controls",
     "model_module_version": "1.5.0",
     "model_name": "DescriptionStyleModel",
     "state": {
      "_model_module": "@jupyter-widgets/controls",
      "_model_module_version": "1.5.0",
      "_model_name": "DescriptionStyleModel",
      "_view_count": null,
      "_view_module": "@jupyter-widgets/base",
      "_view_module_version": "1.2.0",
      "_view_name": "StyleView",
      "description_width": ""
     }
    },
    "271c60cc570942d3b4248e8de65b873f": {
     "model_module": "@jupyter-widgets/controls",
     "model_module_version": "1.5.0",
     "model_name": "HTMLModel",
     "state": {
      "_dom_classes": [],
      "_model_module": "@jupyter-widgets/controls",
      "_model_module_version": "1.5.0",
      "_model_name": "HTMLModel",
      "_view_count": null,
      "_view_module": "@jupyter-widgets/controls",
      "_view_module_version": "1.5.0",
      "_view_name": "HTMLView",
      "description": "",
      "description_tooltip": null,
      "layout": "IPY_MODEL_028f29726a1843739ed920313ecffb91",
      "placeholder": "​",
      "style": "IPY_MODEL_d8e99c1b37b1434080334497912fed64",
      "value": " 1000/1000 [00:00&lt;00:00, 1520.44 examples/s]"
     }
    },
    "3158a6b4154a43d0b59c77628a81c605": {
     "model_module": "@jupyter-widgets/base",
     "model_module_version": "1.2.0",
     "model_name": "LayoutModel",
     "state": {
      "_model_module": "@jupyter-widgets/base",
      "_model_module_version": "1.2.0",
      "_model_name": "LayoutModel",
      "_view_count": null,
      "_view_module": "@jupyter-widgets/base",
      "_view_module_version": "1.2.0",
      "_view_name": "LayoutView",
      "align_content": null,
      "align_items": null,
      "align_self": null,
      "border": null,
      "bottom": null,
      "display": null,
      "flex": null,
      "flex_flow": null,
      "grid_area": null,
      "grid_auto_columns": null,
      "grid_auto_flow": null,
      "grid_auto_rows": null,
      "grid_column": null,
      "grid_gap": null,
      "grid_row": null,
      "grid_template_areas": null,
      "grid_template_columns": null,
      "grid_template_rows": null,
      "height": null,
      "justify_content": null,
      "justify_items": null,
      "left": null,
      "margin": null,
      "max_height": null,
      "max_width": null,
      "min_height": null,
      "min_width": null,
      "object_fit": null,
      "object_position": null,
      "order": null,
      "overflow": null,
      "overflow_x": null,
      "overflow_y": null,
      "padding": null,
      "right": null,
      "top": null,
      "visibility": null,
      "width": null
     }
    },
    "31a0d8d2ff1a4b5a8b74ff9d75b86320": {
     "model_module": "@jupyter-widgets/controls",
     "model_module_version": "1.5.0",
     "model_name": "DescriptionStyleModel",
     "state": {
      "_model_module": "@jupyter-widgets/controls",
      "_model_module_version": "1.5.0",
      "_model_name": "DescriptionStyleModel",
      "_view_count": null,
      "_view_module": "@jupyter-widgets/base",
      "_view_module_version": "1.2.0",
      "_view_name": "StyleView",
      "description_width": ""
     }
    },
    "326e5aa7fa79491e855c90c21b9899c0": {
     "model_module": "@jupyter-widgets/controls",
     "model_module_version": "1.5.0",
     "model_name": "HTMLModel",
     "state": {
      "_dom_classes": [],
      "_model_module": "@jupyter-widgets/controls",
      "_model_module_version": "1.5.0",
      "_model_name": "HTMLModel",
      "_view_count": null,
      "_view_module": "@jupyter-widgets/controls",
      "_view_module_version": "1.5.0",
      "_view_name": "HTMLView",
      "description": "",
      "description_tooltip": null,
      "layout": "IPY_MODEL_fafdc169075f4d3893f5f7c793ff5519",
      "placeholder": "​",
      "style": "IPY_MODEL_c1d50fcaa31e4ad4ae6036976e517c7f",
      "value": "config.json: 100%"
     }
    },
    "32ecc4b42f72410f9a7c17edc9392f76": {
     "model_module": "@jupyter-widgets/controls",
     "model_module_version": "1.5.0",
     "model_name": "HTMLModel",
     "state": {
      "_dom_classes": [],
      "_model_module": "@jupyter-widgets/controls",
      "_model_module_version": "1.5.0",
      "_model_name": "HTMLModel",
      "_view_count": null,
      "_view_module": "@jupyter-widgets/controls",
      "_view_module_version": "1.5.0",
      "_view_name": "HTMLView",
      "description": "",
      "description_tooltip": null,
      "layout": "IPY_MODEL_3158a6b4154a43d0b59c77628a81c605",
      "placeholder": "​",
      "style": "IPY_MODEL_f252c2ac939848c0a92222a5ccdd7f3a",
      "value": "Map: 100%"
     }
    },
    "36a1efd66de44c72b42ac3906f105163": {
     "model_module": "@jupyter-widgets/controls",
     "model_module_version": "1.5.0",
     "model_name": "DescriptionStyleModel",
     "state": {
      "_model_module": "@jupyter-widgets/controls",
      "_model_module_version": "1.5.0",
      "_model_name": "DescriptionStyleModel",
      "_view_count": null,
      "_view_module": "@jupyter-widgets/base",
      "_view_module_version": "1.2.0",
      "_view_name": "StyleView",
      "description_width": ""
     }
    },
    "374e31ca39e84120af34aa63597fb908": {
     "model_module": "@jupyter-widgets/controls",
     "model_module_version": "1.5.0",
     "model_name": "ProgressStyleModel",
     "state": {
      "_model_module": "@jupyter-widgets/controls",
      "_model_module_version": "1.5.0",
      "_model_name": "ProgressStyleModel",
      "_view_count": null,
      "_view_module": "@jupyter-widgets/base",
      "_view_module_version": "1.2.0",
      "_view_name": "StyleView",
      "bar_color": null,
      "description_width": ""
     }
    },
    "3783c5a3c1db476e8a788c51695579d5": {
     "model_module": "@jupyter-widgets/controls",
     "model_module_version": "1.5.0",
     "model_name": "HTMLModel",
     "state": {
      "_dom_classes": [],
      "_model_module": "@jupyter-widgets/controls",
      "_model_module_version": "1.5.0",
      "_model_name": "HTMLModel",
      "_view_count": null,
      "_view_module": "@jupyter-widgets/controls",
      "_view_module_version": "1.5.0",
      "_view_name": "HTMLView",
      "description": "",
      "description_tooltip": null,
      "layout": "IPY_MODEL_b90bbe098a1449ddb3673d0891b31217",
      "placeholder": "​",
      "style": "IPY_MODEL_46f0d37036a641589dd2b1da2dc7ae66",
      "value": "tokenizer_config.json: 100%"
     }
    },
    "37c91df88b6d4b1abd95e60851e4eb38": {
     "model_module": "@jupyter-widgets/controls",
     "model_module_version": "1.5.0",
     "model_name": "HTMLModel",
     "state": {
      "_dom_classes": [],
      "_model_module": "@jupyter-widgets/controls",
      "_model_module_version": "1.5.0",
      "_model_name": "HTMLModel",
      "_view_count": null,
      "_view_module": "@jupyter-widgets/controls",
      "_view_module_version": "1.5.0",
      "_view_name": "HTMLView",
      "description": "",
      "description_tooltip": null,
      "layout": "IPY_MODEL_72be6ca89f2f4c58be80d72a07a9f0ff",
      "placeholder": "​",
      "style": "IPY_MODEL_2610b2b8b21b4066a67ea484b624be88",
      "value": " 1.40k/1.40k [00:00&lt;00:00, 95.0kB/s]"
     }
    },
    "3d4d36edd5ce4021981a44c23deac409": {
     "model_module": "@jupyter-widgets/base",
     "model_module_version": "1.2.0",
     "model_name": "LayoutModel",
     "state": {
      "_model_module": "@jupyter-widgets/base",
      "_model_module_version": "1.2.0",
      "_model_name": "LayoutModel",
      "_view_count": null,
      "_view_module": "@jupyter-widgets/base",
      "_view_module_version": "1.2.0",
      "_view_name": "LayoutView",
      "align_content": null,
      "align_items": null,
      "align_self": null,
      "border": null,
      "bottom": null,
      "display": null,
      "flex": null,
      "flex_flow": null,
      "grid_area": null,
      "grid_auto_columns": null,
      "grid_auto_flow": null,
      "grid_auto_rows": null,
      "grid_column": null,
      "grid_gap": null,
      "grid_row": null,
      "grid_template_areas": null,
      "grid_template_columns": null,
      "grid_template_rows": null,
      "height": null,
      "justify_content": null,
      "justify_items": null,
      "left": null,
      "margin": null,
      "max_height": null,
      "max_width": null,
      "min_height": null,
      "min_width": null,
      "object_fit": null,
      "object_position": null,
      "order": null,
      "overflow": null,
      "overflow_x": null,
      "overflow_y": null,
      "padding": null,
      "right": null,
      "top": null,
      "visibility": null,
      "width": null
     }
    },
    "424df08b7583448cbc087622fd18f2cd": {
     "model_module": "@jupyter-widgets/controls",
     "model_module_version": "1.5.0",
     "model_name": "FloatProgressModel",
     "state": {
      "_dom_classes": [],
      "_model_module": "@jupyter-widgets/controls",
      "_model_module_version": "1.5.0",
      "_model_name": "FloatProgressModel",
      "_view_count": null,
      "_view_module": "@jupyter-widgets/controls",
      "_view_module_version": "1.5.0",
      "_view_name": "ProgressView",
      "bar_style": "success",
      "description": "",
      "description_tooltip": null,
      "layout": "IPY_MODEL_15664c5088b240c7ab322798640d142b",
      "max": 2539,
      "min": 0,
      "orientation": "horizontal",
      "style": "IPY_MODEL_1d52bada9dad4379a75493399127000b",
      "value": 2539
     }
    },
    "443ce329556c4c9dbadfc7cbb0296e06": {
     "model_module": "@jupyter-widgets/controls",
     "model_module_version": "1.5.0",
     "model_name": "HBoxModel",
     "state": {
      "_dom_classes": [],
      "_model_module": "@jupyter-widgets/controls",
      "_model_module_version": "1.5.0",
      "_model_name": "HBoxModel",
      "_view_count": null,
      "_view_module": "@jupyter-widgets/controls",
      "_view_module_version": "1.5.0",
      "_view_name": "HBoxView",
      "box_style": "",
      "children": [
       "IPY_MODEL_d18d5ad17d524951bb3e0c0e6a1bb148",
       "IPY_MODEL_5abb62978173426a883b1f227541dd29",
       "IPY_MODEL_f86db8fd00254838914cc15cf2d93ea1"
      ],
      "layout": "IPY_MODEL_65612a59700d4486aa023618ae3fc932"
     }
    },
    "45099e9be6bf4a70b14179e892fa7b0f": {
     "model_module": "@jupyter-widgets/controls",
     "model_module_version": "1.5.0",
     "model_name": "DescriptionStyleModel",
     "state": {
      "_model_module": "@jupyter-widgets/controls",
      "_model_module_version": "1.5.0",
      "_model_name": "DescriptionStyleModel",
      "_view_count": null,
      "_view_module": "@jupyter-widgets/base",
      "_view_module_version": "1.2.0",
      "_view_name": "StyleView",
      "description_width": ""
     }
    },
    "46450b79736a49e2baf61b38fc0915a3": {
     "model_module": "@jupyter-widgets/base",
     "model_module_version": "1.2.0",
     "model_name": "LayoutModel",
     "state": {
      "_model_module": "@jupyter-widgets/base",
      "_model_module_version": "1.2.0",
      "_model_name": "LayoutModel",
      "_view_count": null,
      "_view_module": "@jupyter-widgets/base",
      "_view_module_version": "1.2.0",
      "_view_name": "LayoutView",
      "align_content": null,
      "align_items": null,
      "align_self": null,
      "border": null,
      "bottom": null,
      "display": null,
      "flex": null,
      "flex_flow": null,
      "grid_area": null,
      "grid_auto_columns": null,
      "grid_auto_flow": null,
      "grid_auto_rows": null,
      "grid_column": null,
      "grid_gap": null,
      "grid_row": null,
      "grid_template_areas": null,
      "grid_template_columns": null,
      "grid_template_rows": null,
      "height": null,
      "justify_content": null,
      "justify_items": null,
      "left": null,
      "margin": null,
      "max_height": null,
      "max_width": null,
      "min_height": null,
      "min_width": null,
      "object_fit": null,
      "object_position": null,
      "order": null,
      "overflow": null,
      "overflow_x": null,
      "overflow_y": null,
      "padding": null,
      "right": null,
      "top": null,
      "visibility": null,
      "width": null
     }
    },
    "46f0d37036a641589dd2b1da2dc7ae66": {
     "model_module": "@jupyter-widgets/controls",
     "model_module_version": "1.5.0",
     "model_name": "DescriptionStyleModel",
     "state": {
      "_model_module": "@jupyter-widgets/controls",
      "_model_module_version": "1.5.0",
      "_model_name": "DescriptionStyleModel",
      "_view_count": null,
      "_view_module": "@jupyter-widgets/base",
      "_view_module_version": "1.2.0",
      "_view_name": "StyleView",
      "description_width": ""
     }
    },
    "4ca3d37261914eae8e0157961295a4e0": {
     "model_module": "@jupyter-widgets/base",
     "model_module_version": "1.2.0",
     "model_name": "LayoutModel",
     "state": {
      "_model_module": "@jupyter-widgets/base",
      "_model_module_version": "1.2.0",
      "_model_name": "LayoutModel",
      "_view_count": null,
      "_view_module": "@jupyter-widgets/base",
      "_view_module_version": "1.2.0",
      "_view_name": "LayoutView",
      "align_content": null,
      "align_items": null,
      "align_self": null,
      "border": null,
      "bottom": null,
      "display": null,
      "flex": null,
      "flex_flow": null,
      "grid_area": null,
      "grid_auto_columns": null,
      "grid_auto_flow": null,
      "grid_auto_rows": null,
      "grid_column": null,
      "grid_gap": null,
      "grid_row": null,
      "grid_template_areas": null,
      "grid_template_columns": null,
      "grid_template_rows": null,
      "height": null,
      "justify_content": null,
      "justify_items": null,
      "left": null,
      "margin": null,
      "max_height": null,
      "max_width": null,
      "min_height": null,
      "min_width": null,
      "object_fit": null,
      "object_position": null,
      "order": null,
      "overflow": null,
      "overflow_x": null,
      "overflow_y": null,
      "padding": null,
      "right": null,
      "top": null,
      "visibility": null,
      "width": null
     }
    },
    "4dbdf7225f98456ba015296689491471": {
     "model_module": "@jupyter-widgets/base",
     "model_module_version": "1.2.0",
     "model_name": "LayoutModel",
     "state": {
      "_model_module": "@jupyter-widgets/base",
      "_model_module_version": "1.2.0",
      "_model_name": "LayoutModel",
      "_view_count": null,
      "_view_module": "@jupyter-widgets/base",
      "_view_module_version": "1.2.0",
      "_view_name": "LayoutView",
      "align_content": null,
      "align_items": null,
      "align_self": null,
      "border": null,
      "bottom": null,
      "display": null,
      "flex": null,
      "flex_flow": null,
      "grid_area": null,
      "grid_auto_columns": null,
      "grid_auto_flow": null,
      "grid_auto_rows": null,
      "grid_column": null,
      "grid_gap": null,
      "grid_row": null,
      "grid_template_areas": null,
      "grid_template_columns": null,
      "grid_template_rows": null,
      "height": null,
      "justify_content": null,
      "justify_items": null,
      "left": null,
      "margin": null,
      "max_height": null,
      "max_width": null,
      "min_height": null,
      "min_width": null,
      "object_fit": null,
      "object_position": null,
      "order": null,
      "overflow": null,
      "overflow_x": null,
      "overflow_y": null,
      "padding": null,
      "right": null,
      "top": null,
      "visibility": null,
      "width": null
     }
    },
    "4f55d0898ffc46c7878dec802458d4c7": {
     "model_module": "@jupyter-widgets/base",
     "model_module_version": "1.2.0",
     "model_name": "LayoutModel",
     "state": {
      "_model_module": "@jupyter-widgets/base",
      "_model_module_version": "1.2.0",
      "_model_name": "LayoutModel",
      "_view_count": null,
      "_view_module": "@jupyter-widgets/base",
      "_view_module_version": "1.2.0",
      "_view_name": "LayoutView",
      "align_content": null,
      "align_items": null,
      "align_self": null,
      "border": null,
      "bottom": null,
      "display": null,
      "flex": null,
      "flex_flow": null,
      "grid_area": null,
      "grid_auto_columns": null,
      "grid_auto_flow": null,
      "grid_auto_rows": null,
      "grid_column": null,
      "grid_gap": null,
      "grid_row": null,
      "grid_template_areas": null,
      "grid_template_columns": null,
      "grid_template_rows": null,
      "height": null,
      "justify_content": null,
      "justify_items": null,
      "left": null,
      "margin": null,
      "max_height": null,
      "max_width": null,
      "min_height": null,
      "min_width": null,
      "object_fit": null,
      "object_position": null,
      "order": null,
      "overflow": null,
      "overflow_x": null,
      "overflow_y": null,
      "padding": null,
      "right": null,
      "top": null,
      "visibility": null,
      "width": null
     }
    },
    "4ffcb1ef942f40e8b8834b42a490f69f": {
     "model_module": "@jupyter-widgets/controls",
     "model_module_version": "1.5.0",
     "model_name": "FloatProgressModel",
     "state": {
      "_dom_classes": [],
      "_model_module": "@jupyter-widgets/controls",
      "_model_module_version": "1.5.0",
      "_model_name": "FloatProgressModel",
      "_view_count": null,
      "_view_module": "@jupyter-widgets/controls",
      "_view_module_version": "1.5.0",
      "_view_name": "ProgressView",
      "bar_style": "success",
      "description": "",
      "description_tooltip": null,
      "layout": "IPY_MODEL_c45c7c24ee44458eb40e85129549f631",
      "max": 1000,
      "min": 0,
      "orientation": "horizontal",
      "style": "IPY_MODEL_374e31ca39e84120af34aa63597fb908",
      "value": 1000
     }
    },
    "54296343cd8e45cf9cce120296b2d9a9": {
     "model_module": "@jupyter-widgets/controls",
     "model_module_version": "1.5.0",
     "model_name": "FloatProgressModel",
     "state": {
      "_dom_classes": [],
      "_model_module": "@jupyter-widgets/controls",
      "_model_module_version": "1.5.0",
      "_model_name": "FloatProgressModel",
      "_view_count": null,
      "_view_module": "@jupyter-widgets/controls",
      "_view_module_version": "1.5.0",
      "_view_name": "ProgressView",
      "bar_style": "success",
      "description": "",
      "description_tooltip": null,
      "layout": "IPY_MODEL_6c7385d48293460fbec109d9dc5c5aa5",
      "max": 791656,
      "min": 0,
      "orientation": "horizontal",
      "style": "IPY_MODEL_6ad28199d20146d78d96fbc84c9221db",
      "value": 791656
     }
    },
    "5469d22cd59c4bcbb8da71bfc1b82285": {
     "model_module": "@jupyter-widgets/base",
     "model_module_version": "1.2.0",
     "model_name": "LayoutModel",
     "state": {
      "_model_module": "@jupyter-widgets/base",
      "_model_module_version": "1.2.0",
      "_model_name": "LayoutModel",
      "_view_count": null,
      "_view_module": "@jupyter-widgets/base",
      "_view_module_version": "1.2.0",
      "_view_name": "LayoutView",
      "align_content": null,
      "align_items": null,
      "align_self": null,
      "border": null,
      "bottom": null,
      "display": null,
      "flex": null,
      "flex_flow": null,
      "grid_area": null,
      "grid_auto_columns": null,
      "grid_auto_flow": null,
      "grid_auto_rows": null,
      "grid_column": null,
      "grid_gap": null,
      "grid_row": null,
      "grid_template_areas": null,
      "grid_template_columns": null,
      "grid_template_rows": null,
      "height": null,
      "justify_content": null,
      "justify_items": null,
      "left": null,
      "margin": null,
      "max_height": null,
      "max_width": null,
      "min_height": null,
      "min_width": null,
      "object_fit": null,
      "object_position": null,
      "order": null,
      "overflow": null,
      "overflow_x": null,
      "overflow_y": null,
      "padding": null,
      "right": null,
      "top": null,
      "visibility": null,
      "width": null
     }
    },
    "5833c42a1ed44ba483d5903e42339939": {
     "model_module": "@jupyter-widgets/base",
     "model_module_version": "1.2.0",
     "model_name": "LayoutModel",
     "state": {
      "_model_module": "@jupyter-widgets/base",
      "_model_module_version": "1.2.0",
      "_model_name": "LayoutModel",
      "_view_count": null,
      "_view_module": "@jupyter-widgets/base",
      "_view_module_version": "1.2.0",
      "_view_name": "LayoutView",
      "align_content": null,
      "align_items": null,
      "align_self": null,
      "border": null,
      "bottom": null,
      "display": null,
      "flex": null,
      "flex_flow": null,
      "grid_area": null,
      "grid_auto_columns": null,
      "grid_auto_flow": null,
      "grid_auto_rows": null,
      "grid_column": null,
      "grid_gap": null,
      "grid_row": null,
      "grid_template_areas": null,
      "grid_template_columns": null,
      "grid_template_rows": null,
      "height": null,
      "justify_content": null,
      "justify_items": null,
      "left": null,
      "margin": null,
      "max_height": null,
      "max_width": null,
      "min_height": null,
      "min_width": null,
      "object_fit": null,
      "object_position": null,
      "order": null,
      "overflow": null,
      "overflow_x": null,
      "overflow_y": null,
      "padding": null,
      "right": null,
      "top": null,
      "visibility": null,
      "width": null
     }
    },
    "5843a4f025564adfa9955f2dfe13165a": {
     "model_module": "@jupyter-widgets/controls",
     "model_module_version": "1.5.0",
     "model_name": "DescriptionStyleModel",
     "state": {
      "_model_module": "@jupyter-widgets/controls",
      "_model_module_version": "1.5.0",
      "_model_name": "DescriptionStyleModel",
      "_view_count": null,
      "_view_module": "@jupyter-widgets/base",
      "_view_module_version": "1.2.0",
      "_view_name": "StyleView",
      "description_width": ""
     }
    },
    "5991c4a8608e402b89d7d5b83a788f4a": {
     "model_module": "@jupyter-widgets/controls",
     "model_module_version": "1.5.0",
     "model_name": "DescriptionStyleModel",
     "state": {
      "_model_module": "@jupyter-widgets/controls",
      "_model_module_version": "1.5.0",
      "_model_name": "DescriptionStyleModel",
      "_view_count": null,
      "_view_module": "@jupyter-widgets/base",
      "_view_module_version": "1.2.0",
      "_view_name": "StyleView",
      "description_width": ""
     }
    },
    "5abb62978173426a883b1f227541dd29": {
     "model_module": "@jupyter-widgets/controls",
     "model_module_version": "1.5.0",
     "model_name": "FloatProgressModel",
     "state": {
      "_dom_classes": [],
      "_model_module": "@jupyter-widgets/controls",
      "_model_module_version": "1.5.0",
      "_model_name": "FloatProgressModel",
      "_view_count": null,
      "_view_module": "@jupyter-widgets/controls",
      "_view_module_version": "1.5.0",
      "_view_name": "ProgressView",
      "bar_style": "success",
      "description": "",
      "description_tooltip": null,
      "layout": "IPY_MODEL_cb02d94a88544747abbeda222a858e3b",
      "max": 307867048,
      "min": 0,
      "orientation": "horizontal",
      "style": "IPY_MODEL_8877295a7ad84ac781a31e07cc8f3479",
      "value": 307867048
     }
    },
    "5cd2ed77e3f5488fa6548b236a97f0fe": {
     "model_module": "@jupyter-widgets/controls",
     "model_module_version": "1.5.0",
     "model_name": "DescriptionStyleModel",
     "state": {
      "_model_module": "@jupyter-widgets/controls",
      "_model_module_version": "1.5.0",
      "_model_name": "DescriptionStyleModel",
      "_view_count": null,
      "_view_module": "@jupyter-widgets/base",
      "_view_module_version": "1.2.0",
      "_view_name": "StyleView",
      "description_width": ""
     }
    },
    "5de2b55d55774dda8ca6e7084d40a908": {
     "model_module": "@jupyter-widgets/controls",
     "model_module_version": "1.5.0",
     "model_name": "ProgressStyleModel",
     "state": {
      "_model_module": "@jupyter-widgets/controls",
      "_model_module_version": "1.5.0",
      "_model_name": "ProgressStyleModel",
      "_view_count": null,
      "_view_module": "@jupyter-widgets/base",
      "_view_module_version": "1.2.0",
      "_view_name": "StyleView",
      "bar_color": null,
      "description_width": ""
     }
    },
    "607d1c4b698044af8d190da34f8b45cd": {
     "model_module": "@jupyter-widgets/controls",
     "model_module_version": "1.5.0",
     "model_name": "FloatProgressModel",
     "state": {
      "_dom_classes": [],
      "_model_module": "@jupyter-widgets/controls",
      "_model_module_version": "1.5.0",
      "_model_name": "FloatProgressModel",
      "_view_count": null,
      "_view_module": "@jupyter-widgets/controls",
      "_view_module_version": "1.5.0",
      "_view_name": "ProgressView",
      "bar_style": "success",
      "description": "",
      "description_tooltip": null,
      "layout": "IPY_MODEL_c35211e4609445368f4996155b68f082",
      "max": 1000,
      "min": 0,
      "orientation": "horizontal",
      "style": "IPY_MODEL_d0e0e2dfdc2e4b84a885b8b435791216",
      "value": 1000
     }
    },
    "6087b03959464f2c86a3f5a9f548de35": {
     "model_module": "@jupyter-widgets/controls",
     "model_module_version": "1.5.0",
     "model_name": "FloatProgressModel",
     "state": {
      "_dom_classes": [],
      "_model_module": "@jupyter-widgets/controls",
      "_model_module_version": "1.5.0",
      "_model_name": "FloatProgressModel",
      "_view_count": null,
      "_view_module": "@jupyter-widgets/controls",
      "_view_module_version": "1.5.0",
      "_view_name": "ProgressView",
      "bar_style": "success",
      "description": "",
      "description_tooltip": null,
      "layout": "IPY_MODEL_f927fbd38e4b44268cb0203cccdbe60c",
      "max": 147,
      "min": 0,
      "orientation": "horizontal",
      "style": "IPY_MODEL_bfcaab567483490399c5ab0c87892838",
      "value": 147
     }
    },
    "611e70fb266f4be58b10479eb42bc518": {
     "model_module": "@jupyter-widgets/controls",
     "model_module_version": "1.5.0",
     "model_name": "HTMLModel",
     "state": {
      "_dom_classes": [],
      "_model_module": "@jupyter-widgets/controls",
      "_model_module_version": "1.5.0",
      "_model_name": "HTMLModel",
      "_view_count": null,
      "_view_module": "@jupyter-widgets/controls",
      "_view_module_version": "1.5.0",
      "_view_name": "HTMLView",
      "description": "",
      "description_tooltip": null,
      "layout": "IPY_MODEL_008352874253473bb69efd6ef6489de3",
      "placeholder": "​",
      "style": "IPY_MODEL_45099e9be6bf4a70b14179e892fa7b0f",
      "value": "spiece.model: 100%"
     }
    },
    "639f16df786243bb9b096ceb4ef1c3d9": {
     "model_module": "@jupyter-widgets/controls",
     "model_module_version": "1.5.0",
     "model_name": "HTMLModel",
     "state": {
      "_dom_classes": [],
      "_model_module": "@jupyter-widgets/controls",
      "_model_module_version": "1.5.0",
      "_model_name": "HTMLModel",
      "_view_count": null,
      "_view_module": "@jupyter-widgets/controls",
      "_view_module_version": "1.5.0",
      "_view_name": "HTMLView",
      "description": "",
      "description_tooltip": null,
      "layout": "IPY_MODEL_fad9ecb355dc47a68dff731e7cf2a8b6",
      "placeholder": "​",
      "style": "IPY_MODEL_8e229ab1b2b24cb8b705aeab98122700",
      "value": "special_tokens_map.json: 100%"
     }
    },
    "641ffefb40d4481c94b9b35e2d7977e7": {
     "model_module": "@jupyter-widgets/controls",
     "model_module_version": "1.5.0",
     "model_name": "HBoxModel",
     "state": {
      "_dom_classes": [],
      "_model_module": "@jupyter-widgets/controls",
      "_model_module_version": "1.5.0",
      "_model_name": "HBoxModel",
      "_view_count": null,
      "_view_module": "@jupyter-widgets/controls",
      "_view_module_version": "1.5.0",
      "_view_name": "HBoxView",
      "box_style": "",
      "children": [
       "IPY_MODEL_639f16df786243bb9b096ceb4ef1c3d9",
       "IPY_MODEL_ff7f715ead53453ab4f344dff7a5ae7f",
       "IPY_MODEL_d5abdaedb0174ca38a71c68196308830"
      ],
      "layout": "IPY_MODEL_46450b79736a49e2baf61b38fc0915a3"
     }
    },
    "65612a59700d4486aa023618ae3fc932": {
     "model_module": "@jupyter-widgets/base",
     "model_module_version": "1.2.0",
     "model_name": "LayoutModel",
     "state": {
      "_model_module": "@jupyter-widgets/base",
      "_model_module_version": "1.2.0",
      "_model_name": "LayoutModel",
      "_view_count": null,
      "_view_module": "@jupyter-widgets/base",
      "_view_module_version": "1.2.0",
      "_view_name": "LayoutView",
      "align_content": null,
      "align_items": null,
      "align_self": null,
      "border": null,
      "bottom": null,
      "display": null,
      "flex": null,
      "flex_flow": null,
      "grid_area": null,
      "grid_auto_columns": null,
      "grid_auto_flow": null,
      "grid_auto_rows": null,
      "grid_column": null,
      "grid_gap": null,
      "grid_row": null,
      "grid_template_areas": null,
      "grid_template_columns": null,
      "grid_template_rows": null,
      "height": null,
      "justify_content": null,
      "justify_items": null,
      "left": null,
      "margin": null,
      "max_height": null,
      "max_width": null,
      "min_height": null,
      "min_width": null,
      "object_fit": null,
      "object_position": null,
      "order": null,
      "overflow": null,
      "overflow_x": null,
      "overflow_y": null,
      "padding": null,
      "right": null,
      "top": null,
      "visibility": null,
      "width": null
     }
    },
    "67f35f7275404de29e42e314328579a3": {
     "model_module": "@jupyter-widgets/controls",
     "model_module_version": "1.5.0",
     "model_name": "DescriptionStyleModel",
     "state": {
      "_model_module": "@jupyter-widgets/controls",
      "_model_module_version": "1.5.0",
      "_model_name": "DescriptionStyleModel",
      "_view_count": null,
      "_view_module": "@jupyter-widgets/base",
      "_view_module_version": "1.2.0",
      "_view_name": "StyleView",
      "description_width": ""
     }
    },
    "6ad28199d20146d78d96fbc84c9221db": {
     "model_module": "@jupyter-widgets/controls",
     "model_module_version": "1.5.0",
     "model_name": "ProgressStyleModel",
     "state": {
      "_model_module": "@jupyter-widgets/controls",
      "_model_module_version": "1.5.0",
      "_model_name": "ProgressStyleModel",
      "_view_count": null,
      "_view_module": "@jupyter-widgets/base",
      "_view_module_version": "1.2.0",
      "_view_name": "StyleView",
      "bar_color": null,
      "description_width": ""
     }
    },
    "6c7385d48293460fbec109d9dc5c5aa5": {
     "model_module": "@jupyter-widgets/base",
     "model_module_version": "1.2.0",
     "model_name": "LayoutModel",
     "state": {
      "_model_module": "@jupyter-widgets/base",
      "_model_module_version": "1.2.0",
      "_model_name": "LayoutModel",
      "_view_count": null,
      "_view_module": "@jupyter-widgets/base",
      "_view_module_version": "1.2.0",
      "_view_name": "LayoutView",
      "align_content": null,
      "align_items": null,
      "align_self": null,
      "border": null,
      "bottom": null,
      "display": null,
      "flex": null,
      "flex_flow": null,
      "grid_area": null,
      "grid_auto_columns": null,
      "grid_auto_flow": null,
      "grid_auto_rows": null,
      "grid_column": null,
      "grid_gap": null,
      "grid_row": null,
      "grid_template_areas": null,
      "grid_template_columns": null,
      "grid_template_rows": null,
      "height": null,
      "justify_content": null,
      "justify_items": null,
      "left": null,
      "margin": null,
      "max_height": null,
      "max_width": null,
      "min_height": null,
      "min_width": null,
      "object_fit": null,
      "object_position": null,
      "order": null,
      "overflow": null,
      "overflow_x": null,
      "overflow_y": null,
      "padding": null,
      "right": null,
      "top": null,
      "visibility": null,
      "width": null
     }
    },
    "6cf2bed545804942ad7b7f5aa3c6110d": {
     "model_module": "@jupyter-widgets/controls",
     "model_module_version": "1.5.0",
     "model_name": "HTMLModel",
     "state": {
      "_dom_classes": [],
      "_model_module": "@jupyter-widgets/controls",
      "_model_module_version": "1.5.0",
      "_model_name": "HTMLModel",
      "_view_count": null,
      "_view_module": "@jupyter-widgets/controls",
      "_view_module_version": "1.5.0",
      "_view_name": "HTMLView",
      "description": "",
      "description_tooltip": null,
      "layout": "IPY_MODEL_b853203c69ef423abd51184f1b67dc10",
      "placeholder": "​",
      "style": "IPY_MODEL_5991c4a8608e402b89d7d5b83a788f4a",
      "value": "generation_config.json: 100%"
     }
    },
    "6fc39a580dad4a3f97ccf8e19ebf9456": {
     "model_module": "@jupyter-widgets/base",
     "model_module_version": "1.2.0",
     "model_name": "LayoutModel",
     "state": {
      "_model_module": "@jupyter-widgets/base",
      "_model_module_version": "1.2.0",
      "_model_name": "LayoutModel",
      "_view_count": null,
      "_view_module": "@jupyter-widgets/base",
      "_view_module_version": "1.2.0",
      "_view_name": "LayoutView",
      "align_content": null,
      "align_items": null,
      "align_self": null,
      "border": null,
      "bottom": null,
      "display": null,
      "flex": null,
      "flex_flow": null,
      "grid_area": null,
      "grid_auto_columns": null,
      "grid_auto_flow": null,
      "grid_auto_rows": null,
      "grid_column": null,
      "grid_gap": null,
      "grid_row": null,
      "grid_template_areas": null,
      "grid_template_columns": null,
      "grid_template_rows": null,
      "height": null,
      "justify_content": null,
      "justify_items": null,
      "left": null,
      "margin": null,
      "max_height": null,
      "max_width": null,
      "min_height": null,
      "min_width": null,
      "object_fit": null,
      "object_position": null,
      "order": null,
      "overflow": null,
      "overflow_x": null,
      "overflow_y": null,
      "padding": null,
      "right": null,
      "top": null,
      "visibility": null,
      "width": null
     }
    },
    "7007996f56dd4635b05b019ad6ad6512": {
     "model_module": "@jupyter-widgets/controls",
     "model_module_version": "1.5.0",
     "model_name": "FloatProgressModel",
     "state": {
      "_dom_classes": [],
      "_model_module": "@jupyter-widgets/controls",
      "_model_module_version": "1.5.0",
      "_model_name": "FloatProgressModel",
      "_view_count": null,
      "_view_module": "@jupyter-widgets/controls",
      "_view_module_version": "1.5.0",
      "_view_name": "ProgressView",
      "bar_style": "success",
      "description": "",
      "description_tooltip": null,
      "layout": "IPY_MODEL_4f55d0898ffc46c7878dec802458d4c7",
      "max": 1401,
      "min": 0,
      "orientation": "horizontal",
      "style": "IPY_MODEL_ffe98ec1f0d9411583e1e3de3637d2b1",
      "value": 1401
     }
    },
    "71b9770f5ea84ed498c99550f1ca3b52": {
     "model_module": "@jupyter-widgets/base",
     "model_module_version": "1.2.0",
     "model_name": "LayoutModel",
     "state": {
      "_model_module": "@jupyter-widgets/base",
      "_model_module_version": "1.2.0",
      "_model_name": "LayoutModel",
      "_view_count": null,
      "_view_module": "@jupyter-widgets/base",
      "_view_module_version": "1.2.0",
      "_view_name": "LayoutView",
      "align_content": null,
      "align_items": null,
      "align_self": null,
      "border": null,
      "bottom": null,
      "display": null,
      "flex": null,
      "flex_flow": null,
      "grid_area": null,
      "grid_auto_columns": null,
      "grid_auto_flow": null,
      "grid_auto_rows": null,
      "grid_column": null,
      "grid_gap": null,
      "grid_row": null,
      "grid_template_areas": null,
      "grid_template_columns": null,
      "grid_template_rows": null,
      "height": null,
      "justify_content": null,
      "justify_items": null,
      "left": null,
      "margin": null,
      "max_height": null,
      "max_width": null,
      "min_height": null,
      "min_width": null,
      "object_fit": null,
      "object_position": null,
      "order": null,
      "overflow": null,
      "overflow_x": null,
      "overflow_y": null,
      "padding": null,
      "right": null,
      "top": null,
      "visibility": null,
      "width": null
     }
    },
    "72be6ca89f2f4c58be80d72a07a9f0ff": {
     "model_module": "@jupyter-widgets/base",
     "model_module_version": "1.2.0",
     "model_name": "LayoutModel",
     "state": {
      "_model_module": "@jupyter-widgets/base",
      "_model_module_version": "1.2.0",
      "_model_name": "LayoutModel",
      "_view_count": null,
      "_view_module": "@jupyter-widgets/base",
      "_view_module_version": "1.2.0",
      "_view_name": "LayoutView",
      "align_content": null,
      "align_items": null,
      "align_self": null,
      "border": null,
      "bottom": null,
      "display": null,
      "flex": null,
      "flex_flow": null,
      "grid_area": null,
      "grid_auto_columns": null,
      "grid_auto_flow": null,
      "grid_auto_rows": null,
      "grid_column": null,
      "grid_gap": null,
      "grid_row": null,
      "grid_template_areas": null,
      "grid_template_columns": null,
      "grid_template_rows": null,
      "height": null,
      "justify_content": null,
      "justify_items": null,
      "left": null,
      "margin": null,
      "max_height": null,
      "max_width": null,
      "min_height": null,
      "min_width": null,
      "object_fit": null,
      "object_position": null,
      "order": null,
      "overflow": null,
      "overflow_x": null,
      "overflow_y": null,
      "padding": null,
      "right": null,
      "top": null,
      "visibility": null,
      "width": null
     }
    },
    "74ec1820f112475486c8abb4f0344fbf": {
     "model_module": "@jupyter-widgets/controls",
     "model_module_version": "1.5.0",
     "model_name": "HBoxModel",
     "state": {
      "_dom_classes": [],
      "_model_module": "@jupyter-widgets/controls",
      "_model_module_version": "1.5.0",
      "_model_name": "HBoxModel",
      "_view_count": null,
      "_view_module": "@jupyter-widgets/controls",
      "_view_module_version": "1.5.0",
      "_view_name": "HBoxView",
      "box_style": "",
      "children": [
       "IPY_MODEL_32ecc4b42f72410f9a7c17edc9392f76",
       "IPY_MODEL_4ffcb1ef942f40e8b8834b42a490f69f",
       "IPY_MODEL_271c60cc570942d3b4248e8de65b873f"
      ],
      "layout": "IPY_MODEL_22859348aaf34fea935fd852c05e38cb"
     }
    },
    "7a743bf7607e415eaed43a39c9949c36": {
     "model_module": "@jupyter-widgets/base",
     "model_module_version": "1.2.0",
     "model_name": "LayoutModel",
     "state": {
      "_model_module": "@jupyter-widgets/base",
      "_model_module_version": "1.2.0",
      "_model_name": "LayoutModel",
      "_view_count": null,
      "_view_module": "@jupyter-widgets/base",
      "_view_module_version": "1.2.0",
      "_view_name": "LayoutView",
      "align_content": null,
      "align_items": null,
      "align_self": null,
      "border": null,
      "bottom": null,
      "display": null,
      "flex": null,
      "flex_flow": null,
      "grid_area": null,
      "grid_auto_columns": null,
      "grid_auto_flow": null,
      "grid_auto_rows": null,
      "grid_column": null,
      "grid_gap": null,
      "grid_row": null,
      "grid_template_areas": null,
      "grid_template_columns": null,
      "grid_template_rows": null,
      "height": null,
      "justify_content": null,
      "justify_items": null,
      "left": null,
      "margin": null,
      "max_height": null,
      "max_width": null,
      "min_height": null,
      "min_width": null,
      "object_fit": null,
      "object_position": null,
      "order": null,
      "overflow": null,
      "overflow_x": null,
      "overflow_y": null,
      "padding": null,
      "right": null,
      "top": null,
      "visibility": null,
      "width": null
     }
    },
    "7d41ce7c04484b808ec7ab512b03a7c1": {
     "model_module": "@jupyter-widgets/base",
     "model_module_version": "1.2.0",
     "model_name": "LayoutModel",
     "state": {
      "_model_module": "@jupyter-widgets/base",
      "_model_module_version": "1.2.0",
      "_model_name": "LayoutModel",
      "_view_count": null,
      "_view_module": "@jupyter-widgets/base",
      "_view_module_version": "1.2.0",
      "_view_name": "LayoutView",
      "align_content": null,
      "align_items": null,
      "align_self": null,
      "border": null,
      "bottom": null,
      "display": null,
      "flex": null,
      "flex_flow": null,
      "grid_area": null,
      "grid_auto_columns": null,
      "grid_auto_flow": null,
      "grid_auto_rows": null,
      "grid_column": null,
      "grid_gap": null,
      "grid_row": null,
      "grid_template_areas": null,
      "grid_template_columns": null,
      "grid_template_rows": null,
      "height": null,
      "justify_content": null,
      "justify_items": null,
      "left": null,
      "margin": null,
      "max_height": null,
      "max_width": null,
      "min_height": null,
      "min_width": null,
      "object_fit": null,
      "object_position": null,
      "order": null,
      "overflow": null,
      "overflow_x": null,
      "overflow_y": null,
      "padding": null,
      "right": null,
      "top": null,
      "visibility": null,
      "width": null
     }
    },
    "7f38c5379b9e40c6a7e2bd1a26a4ca00": {
     "model_module": "@jupyter-widgets/controls",
     "model_module_version": "1.5.0",
     "model_name": "FloatProgressModel",
     "state": {
      "_dom_classes": [],
      "_model_module": "@jupyter-widgets/controls",
      "_model_module_version": "1.5.0",
      "_model_name": "FloatProgressModel",
      "_view_count": null,
      "_view_module": "@jupyter-widgets/controls",
      "_view_module_version": "1.5.0",
      "_view_name": "ProgressView",
      "bar_style": "success",
      "description": "",
      "description_tooltip": null,
      "layout": "IPY_MODEL_5833c42a1ed44ba483d5903e42339939",
      "max": 11679,
      "min": 0,
      "orientation": "horizontal",
      "style": "IPY_MODEL_5de2b55d55774dda8ca6e7084d40a908",
      "value": 11679
     }
    },
    "801d89f1fc234146840802141feb227c": {
     "model_module": "@jupyter-widgets/controls",
     "model_module_version": "1.5.0",
     "model_name": "HBoxModel",
     "state": {
      "_dom_classes": [],
      "_model_module": "@jupyter-widgets/controls",
      "_model_module_version": "1.5.0",
      "_model_name": "HBoxModel",
      "_view_count": null,
      "_view_module": "@jupyter-widgets/controls",
      "_view_module_version": "1.5.0",
      "_view_name": "HBoxView",
      "box_style": "",
      "children": [
       "IPY_MODEL_326e5aa7fa79491e855c90c21b9899c0",
       "IPY_MODEL_7007996f56dd4635b05b019ad6ad6512",
       "IPY_MODEL_37c91df88b6d4b1abd95e60851e4eb38"
      ],
      "layout": "IPY_MODEL_b14d257b16804f899e9839971fd7737c"
     }
    },
    "85fca20402ce44bc84fb751f5e41b155": {
     "model_module": "@jupyter-widgets/controls",
     "model_module_version": "1.5.0",
     "model_name": "ProgressStyleModel",
     "state": {
      "_model_module": "@jupyter-widgets/controls",
      "_model_module_version": "1.5.0",
      "_model_name": "ProgressStyleModel",
      "_view_count": null,
      "_view_module": "@jupyter-widgets/base",
      "_view_module_version": "1.2.0",
      "_view_name": "StyleView",
      "bar_color": null,
      "description_width": ""
     }
    },
    "8877295a7ad84ac781a31e07cc8f3479": {
     "model_module": "@jupyter-widgets/controls",
     "model_module_version": "1.5.0",
     "model_name": "ProgressStyleModel",
     "state": {
      "_model_module": "@jupyter-widgets/controls",
      "_model_module_version": "1.5.0",
      "_model_name": "ProgressStyleModel",
      "_view_count": null,
      "_view_module": "@jupyter-widgets/base",
      "_view_module_version": "1.2.0",
      "_view_name": "StyleView",
      "bar_color": null,
      "description_width": ""
     }
    },
    "8e229ab1b2b24cb8b705aeab98122700": {
     "model_module": "@jupyter-widgets/controls",
     "model_module_version": "1.5.0",
     "model_name": "DescriptionStyleModel",
     "state": {
      "_model_module": "@jupyter-widgets/controls",
      "_model_module_version": "1.5.0",
      "_model_name": "DescriptionStyleModel",
      "_view_count": null,
      "_view_module": "@jupyter-widgets/base",
      "_view_module_version": "1.2.0",
      "_view_name": "StyleView",
      "description_width": ""
     }
    },
    "8ff5ddf15d824dd39f64c72f380371bd": {
     "model_module": "@jupyter-widgets/controls",
     "model_module_version": "1.5.0",
     "model_name": "HTMLModel",
     "state": {
      "_dom_classes": [],
      "_model_module": "@jupyter-widgets/controls",
      "_model_module_version": "1.5.0",
      "_model_name": "HTMLModel",
      "_view_count": null,
      "_view_module": "@jupyter-widgets/controls",
      "_view_module_version": "1.5.0",
      "_view_name": "HTMLView",
      "description": "",
      "description_tooltip": null,
      "layout": "IPY_MODEL_d1a310ef96e94ba2adf19f4bf2e5ded7",
      "placeholder": "​",
      "style": "IPY_MODEL_e6b6df1adf4b443cb46777e2f06e053c",
      "value": "tokenizer.json: 100%"
     }
    },
    "90e45ada50f74961a21762cf16944074": {
     "model_module": "@jupyter-widgets/controls",
     "model_module_version": "1.5.0",
     "model_name": "HTMLModel",
     "state": {
      "_dom_classes": [],
      "_model_module": "@jupyter-widgets/controls",
      "_model_module_version": "1.5.0",
      "_model_name": "HTMLModel",
      "_view_count": null,
      "_view_module": "@jupyter-widgets/controls",
      "_view_module_version": "1.5.0",
      "_view_name": "HTMLView",
      "description": "",
      "description_tooltip": null,
      "layout": "IPY_MODEL_efb22bf08a4340788c1b48ae811542de",
      "placeholder": "​",
      "style": "IPY_MODEL_dd299ddd078743328e4950c64beacefd",
      "value": " 1000/1000 [00:00&lt;00:00, 1054.76 examples/s]"
     }
    },
    "916e0ebeebbc493a888d6645cf784130": {
     "model_module": "@jupyter-widgets/controls",
     "model_module_version": "1.5.0",
     "model_name": "DescriptionStyleModel",
     "state": {
      "_model_module": "@jupyter-widgets/controls",
      "_model_module_version": "1.5.0",
      "_model_name": "DescriptionStyleModel",
      "_view_count": null,
      "_view_module": "@jupyter-widgets/base",
      "_view_module_version": "1.2.0",
      "_view_name": "StyleView",
      "description_width": ""
     }
    },
    "919e5aa4ee9a4b15a03ef8ca524beaaf": {
     "model_module": "@jupyter-widgets/base",
     "model_module_version": "1.2.0",
     "model_name": "LayoutModel",
     "state": {
      "_model_module": "@jupyter-widgets/base",
      "_model_module_version": "1.2.0",
      "_model_name": "LayoutModel",
      "_view_count": null,
      "_view_module": "@jupyter-widgets/base",
      "_view_module_version": "1.2.0",
      "_view_name": "LayoutView",
      "align_content": null,
      "align_items": null,
      "align_self": null,
      "border": null,
      "bottom": null,
      "display": null,
      "flex": null,
      "flex_flow": null,
      "grid_area": null,
      "grid_auto_columns": null,
      "grid_auto_flow": null,
      "grid_auto_rows": null,
      "grid_column": null,
      "grid_gap": null,
      "grid_row": null,
      "grid_template_areas": null,
      "grid_template_columns": null,
      "grid_template_rows": null,
      "height": null,
      "justify_content": null,
      "justify_items": null,
      "left": null,
      "margin": null,
      "max_height": null,
      "max_width": null,
      "min_height": null,
      "min_width": null,
      "object_fit": null,
      "object_position": null,
      "order": null,
      "overflow": null,
      "overflow_x": null,
      "overflow_y": null,
      "padding": null,
      "right": null,
      "top": null,
      "visibility": null,
      "width": null
     }
    },
    "9482e1c1c9574d849b43e4939c0fa54c": {
     "model_module": "@jupyter-widgets/controls",
     "model_module_version": "1.5.0",
     "model_name": "HTMLModel",
     "state": {
      "_dom_classes": [],
      "_model_module": "@jupyter-widgets/controls",
      "_model_module_version": "1.5.0",
      "_model_name": "HTMLModel",
      "_view_count": null,
      "_view_module": "@jupyter-widgets/controls",
      "_view_module_version": "1.5.0",
      "_view_name": "HTMLView",
      "description": "",
      "description_tooltip": null,
      "layout": "IPY_MODEL_19cce9235b4d47309c896b3d3df2a2ae",
      "placeholder": "​",
      "style": "IPY_MODEL_95a0a00832774689855a8373ccab75d4",
      "value": " 147/147 [00:00&lt;00:00, 14.7kB/s]"
     }
    },
    "95a0a00832774689855a8373ccab75d4": {
     "model_module": "@jupyter-widgets/controls",
     "model_module_version": "1.5.0",
     "model_name": "DescriptionStyleModel",
     "state": {
      "_model_module": "@jupyter-widgets/controls",
      "_model_module_version": "1.5.0",
      "_model_name": "DescriptionStyleModel",
      "_view_count": null,
      "_view_module": "@jupyter-widgets/base",
      "_view_module_version": "1.2.0",
      "_view_name": "StyleView",
      "description_width": ""
     }
    },
    "99dc208e4b564bfc81de614b57badb40": {
     "model_module": "@jupyter-widgets/controls",
     "model_module_version": "1.5.0",
     "model_name": "HBoxModel",
     "state": {
      "_dom_classes": [],
      "_model_module": "@jupyter-widgets/controls",
      "_model_module_version": "1.5.0",
      "_model_name": "HBoxModel",
      "_view_count": null,
      "_view_module": "@jupyter-widgets/controls",
      "_view_module_version": "1.5.0",
      "_view_name": "HBoxView",
      "box_style": "",
      "children": [
       "IPY_MODEL_dcb022d465e244f48c211a3345529e5f",
       "IPY_MODEL_7f38c5379b9e40c6a7e2bd1a26a4ca00",
       "IPY_MODEL_c1c248e4375a458da5e08fc847277b36"
      ],
      "layout": "IPY_MODEL_5469d22cd59c4bcbb8da71bfc1b82285"
     }
    },
    "9d6c7558c44149d4a19407e811d94383": {
     "model_module": "@jupyter-widgets/base",
     "model_module_version": "1.2.0",
     "model_name": "LayoutModel",
     "state": {
      "_model_module": "@jupyter-widgets/base",
      "_model_module_version": "1.2.0",
      "_model_name": "LayoutModel",
      "_view_count": null,
      "_view_module": "@jupyter-widgets/base",
      "_view_module_version": "1.2.0",
      "_view_name": "LayoutView",
      "align_content": null,
      "align_items": null,
      "align_self": null,
      "border": null,
      "bottom": null,
      "display": null,
      "flex": null,
      "flex_flow": null,
      "grid_area": null,
      "grid_auto_columns": null,
      "grid_auto_flow": null,
      "grid_auto_rows": null,
      "grid_column": null,
      "grid_gap": null,
      "grid_row": null,
      "grid_template_areas": null,
      "grid_template_columns": null,
      "grid_template_rows": null,
      "height": null,
      "justify_content": null,
      "justify_items": null,
      "left": null,
      "margin": null,
      "max_height": null,
      "max_width": null,
      "min_height": null,
      "min_width": null,
      "object_fit": null,
      "object_position": null,
      "order": null,
      "overflow": null,
      "overflow_x": null,
      "overflow_y": null,
      "padding": null,
      "right": null,
      "top": null,
      "visibility": null,
      "width": null
     }
    },
    "9ee57aa21a68415cad52ea86b97030bb": {
     "model_module": "@jupyter-widgets/base",
     "model_module_version": "1.2.0",
     "model_name": "LayoutModel",
     "state": {
      "_model_module": "@jupyter-widgets/base",
      "_model_module_version": "1.2.0",
      "_model_name": "LayoutModel",
      "_view_count": null,
      "_view_module": "@jupyter-widgets/base",
      "_view_module_version": "1.2.0",
      "_view_name": "LayoutView",
      "align_content": null,
      "align_items": null,
      "align_self": null,
      "border": null,
      "bottom": null,
      "display": null,
      "flex": null,
      "flex_flow": null,
      "grid_area": null,
      "grid_auto_columns": null,
      "grid_auto_flow": null,
      "grid_auto_rows": null,
      "grid_column": null,
      "grid_gap": null,
      "grid_row": null,
      "grid_template_areas": null,
      "grid_template_columns": null,
      "grid_template_rows": null,
      "height": null,
      "justify_content": null,
      "justify_items": null,
      "left": null,
      "margin": null,
      "max_height": null,
      "max_width": null,
      "min_height": null,
      "min_width": null,
      "object_fit": null,
      "object_position": null,
      "order": null,
      "overflow": null,
      "overflow_x": null,
      "overflow_y": null,
      "padding": null,
      "right": null,
      "top": null,
      "visibility": null,
      "width": null
     }
    },
    "a0ad568979944c5ca6de1503a61e19d3": {
     "model_module": "@jupyter-widgets/controls",
     "model_module_version": "1.5.0",
     "model_name": "HBoxModel",
     "state": {
      "_dom_classes": [],
      "_model_module": "@jupyter-widgets/controls",
      "_model_module_version": "1.5.0",
      "_model_name": "HBoxModel",
      "_view_count": null,
      "_view_module": "@jupyter-widgets/controls",
      "_view_module_version": "1.5.0",
      "_view_name": "HBoxView",
      "box_style": "",
      "children": [
       "IPY_MODEL_8ff5ddf15d824dd39f64c72f380371bd",
       "IPY_MODEL_04079a1b7b1e4ec99e56740ab42c981f",
       "IPY_MODEL_f7e2ce99e1c2478ea5b3899f2c689265"
      ],
      "layout": "IPY_MODEL_71b9770f5ea84ed498c99550f1ca3b52"
     }
    },
    "a2a1b09197ba4e9aaeeddf340295a354": {
     "model_module": "@jupyter-widgets/base",
     "model_module_version": "1.2.0",
     "model_name": "LayoutModel",
     "state": {
      "_model_module": "@jupyter-widgets/base",
      "_model_module_version": "1.2.0",
      "_model_name": "LayoutModel",
      "_view_count": null,
      "_view_module": "@jupyter-widgets/base",
      "_view_module_version": "1.2.0",
      "_view_name": "LayoutView",
      "align_content": null,
      "align_items": null,
      "align_self": null,
      "border": null,
      "bottom": null,
      "display": null,
      "flex": null,
      "flex_flow": null,
      "grid_area": null,
      "grid_auto_columns": null,
      "grid_auto_flow": null,
      "grid_auto_rows": null,
      "grid_column": null,
      "grid_gap": null,
      "grid_row": null,
      "grid_template_areas": null,
      "grid_template_columns": null,
      "grid_template_rows": null,
      "height": null,
      "justify_content": null,
      "justify_items": null,
      "left": null,
      "margin": null,
      "max_height": null,
      "max_width": null,
      "min_height": null,
      "min_width": null,
      "object_fit": null,
      "object_position": null,
      "order": null,
      "overflow": null,
      "overflow_x": null,
      "overflow_y": null,
      "padding": null,
      "right": null,
      "top": null,
      "visibility": null,
      "width": null
     }
    },
    "a55402c392bd43bc8888219ca33347a7": {
     "model_module": "@jupyter-widgets/controls",
     "model_module_version": "1.5.0",
     "model_name": "ProgressStyleModel",
     "state": {
      "_model_module": "@jupyter-widgets/controls",
      "_model_module_version": "1.5.0",
      "_model_name": "ProgressStyleModel",
      "_view_count": null,
      "_view_module": "@jupyter-widgets/base",
      "_view_module_version": "1.2.0",
      "_view_name": "StyleView",
      "bar_color": null,
      "description_width": ""
     }
    },
    "ad45e8fe2d494d5089440e87dc3a1355": {
     "model_module": "@jupyter-widgets/controls",
     "model_module_version": "1.5.0",
     "model_name": "HBoxModel",
     "state": {
      "_dom_classes": [],
      "_model_module": "@jupyter-widgets/controls",
      "_model_module_version": "1.5.0",
      "_model_name": "HBoxModel",
      "_view_count": null,
      "_view_module": "@jupyter-widgets/controls",
      "_view_module_version": "1.5.0",
      "_view_name": "HBoxView",
      "box_style": "",
      "children": [
       "IPY_MODEL_c488f5bc088b452b91e3e525da823d39",
       "IPY_MODEL_607d1c4b698044af8d190da34f8b45cd",
       "IPY_MODEL_90e45ada50f74961a21762cf16944074"
      ],
      "layout": "IPY_MODEL_a2a1b09197ba4e9aaeeddf340295a354"
     }
    },
    "b14d257b16804f899e9839971fd7737c": {
     "model_module": "@jupyter-widgets/base",
     "model_module_version": "1.2.0",
     "model_name": "LayoutModel",
     "state": {
      "_model_module": "@jupyter-widgets/base",
      "_model_module_version": "1.2.0",
      "_model_name": "LayoutModel",
      "_view_count": null,
      "_view_module": "@jupyter-widgets/base",
      "_view_module_version": "1.2.0",
      "_view_name": "LayoutView",
      "align_content": null,
      "align_items": null,
      "align_self": null,
      "border": null,
      "bottom": null,
      "display": null,
      "flex": null,
      "flex_flow": null,
      "grid_area": null,
      "grid_auto_columns": null,
      "grid_auto_flow": null,
      "grid_auto_rows": null,
      "grid_column": null,
      "grid_gap": null,
      "grid_row": null,
      "grid_template_areas": null,
      "grid_template_columns": null,
      "grid_template_rows": null,
      "height": null,
      "justify_content": null,
      "justify_items": null,
      "left": null,
      "margin": null,
      "max_height": null,
      "max_width": null,
      "min_height": null,
      "min_width": null,
      "object_fit": null,
      "object_position": null,
      "order": null,
      "overflow": null,
      "overflow_x": null,
      "overflow_y": null,
      "padding": null,
      "right": null,
      "top": null,
      "visibility": null,
      "width": null
     }
    },
    "b853203c69ef423abd51184f1b67dc10": {
     "model_module": "@jupyter-widgets/base",
     "model_module_version": "1.2.0",
     "model_name": "LayoutModel",
     "state": {
      "_model_module": "@jupyter-widgets/base",
      "_model_module_version": "1.2.0",
      "_model_name": "LayoutModel",
      "_view_count": null,
      "_view_module": "@jupyter-widgets/base",
      "_view_module_version": "1.2.0",
      "_view_name": "LayoutView",
      "align_content": null,
      "align_items": null,
      "align_self": null,
      "border": null,
      "bottom": null,
      "display": null,
      "flex": null,
      "flex_flow": null,
      "grid_area": null,
      "grid_auto_columns": null,
      "grid_auto_flow": null,
      "grid_auto_rows": null,
      "grid_column": null,
      "grid_gap": null,
      "grid_row": null,
      "grid_template_areas": null,
      "grid_template_columns": null,
      "grid_template_rows": null,
      "height": null,
      "justify_content": null,
      "justify_items": null,
      "left": null,
      "margin": null,
      "max_height": null,
      "max_width": null,
      "min_height": null,
      "min_width": null,
      "object_fit": null,
      "object_position": null,
      "order": null,
      "overflow": null,
      "overflow_x": null,
      "overflow_y": null,
      "padding": null,
      "right": null,
      "top": null,
      "visibility": null,
      "width": null
     }
    },
    "b90bbe098a1449ddb3673d0891b31217": {
     "model_module": "@jupyter-widgets/base",
     "model_module_version": "1.2.0",
     "model_name": "LayoutModel",
     "state": {
      "_model_module": "@jupyter-widgets/base",
      "_model_module_version": "1.2.0",
      "_model_name": "LayoutModel",
      "_view_count": null,
      "_view_module": "@jupyter-widgets/base",
      "_view_module_version": "1.2.0",
      "_view_name": "LayoutView",
      "align_content": null,
      "align_items": null,
      "align_self": null,
      "border": null,
      "bottom": null,
      "display": null,
      "flex": null,
      "flex_flow": null,
      "grid_area": null,
      "grid_auto_columns": null,
      "grid_auto_flow": null,
      "grid_auto_rows": null,
      "grid_column": null,
      "grid_gap": null,
      "grid_row": null,
      "grid_template_areas": null,
      "grid_template_columns": null,
      "grid_template_rows": null,
      "height": null,
      "justify_content": null,
      "justify_items": null,
      "left": null,
      "margin": null,
      "max_height": null,
      "max_width": null,
      "min_height": null,
      "min_width": null,
      "object_fit": null,
      "object_position": null,
      "order": null,
      "overflow": null,
      "overflow_x": null,
      "overflow_y": null,
      "padding": null,
      "right": null,
      "top": null,
      "visibility": null,
      "width": null
     }
    },
    "bc59e65de83241f3a1b91ee785b33dcd": {
     "model_module": "@jupyter-widgets/controls",
     "model_module_version": "1.5.0",
     "model_name": "HBoxModel",
     "state": {
      "_dom_classes": [],
      "_model_module": "@jupyter-widgets/controls",
      "_model_module_version": "1.5.0",
      "_model_name": "HBoxModel",
      "_view_count": null,
      "_view_module": "@jupyter-widgets/controls",
      "_view_module_version": "1.5.0",
      "_view_name": "HBoxView",
      "box_style": "",
      "children": [
       "IPY_MODEL_6cf2bed545804942ad7b7f5aa3c6110d",
       "IPY_MODEL_6087b03959464f2c86a3f5a9f548de35",
       "IPY_MODEL_9482e1c1c9574d849b43e4939c0fa54c"
      ],
      "layout": "IPY_MODEL_4dbdf7225f98456ba015296689491471"
     }
    },
    "bfcaab567483490399c5ab0c87892838": {
     "model_module": "@jupyter-widgets/controls",
     "model_module_version": "1.5.0",
     "model_name": "ProgressStyleModel",
     "state": {
      "_model_module": "@jupyter-widgets/controls",
      "_model_module_version": "1.5.0",
      "_model_name": "ProgressStyleModel",
      "_view_count": null,
      "_view_module": "@jupyter-widgets/base",
      "_view_module_version": "1.2.0",
      "_view_name": "StyleView",
      "bar_color": null,
      "description_width": ""
     }
    },
    "c1c248e4375a458da5e08fc847277b36": {
     "model_module": "@jupyter-widgets/controls",
     "model_module_version": "1.5.0",
     "model_name": "HTMLModel",
     "state": {
      "_dom_classes": [],
      "_model_module": "@jupyter-widgets/controls",
      "_model_module_version": "1.5.0",
      "_model_name": "HTMLModel",
      "_view_count": null,
      "_view_module": "@jupyter-widgets/controls",
      "_view_module_version": "1.5.0",
      "_view_name": "HTMLView",
      "description": "",
      "description_tooltip": null,
      "layout": "IPY_MODEL_dbddf31267cb4f008f69593963da771b",
      "placeholder": "​",
      "style": "IPY_MODEL_31a0d8d2ff1a4b5a8b74ff9d75b86320",
      "value": " 11679/11679 [00:07&lt;00:00, 1663.16 examples/s]"
     }
    },
    "c1d50fcaa31e4ad4ae6036976e517c7f": {
     "model_module": "@jupyter-widgets/controls",
     "model_module_version": "1.5.0",
     "model_name": "DescriptionStyleModel",
     "state": {
      "_model_module": "@jupyter-widgets/controls",
      "_model_module_version": "1.5.0",
      "_model_name": "DescriptionStyleModel",
      "_view_count": null,
      "_view_module": "@jupyter-widgets/base",
      "_view_module_version": "1.2.0",
      "_view_name": "StyleView",
      "description_width": ""
     }
    },
    "c35211e4609445368f4996155b68f082": {
     "model_module": "@jupyter-widgets/base",
     "model_module_version": "1.2.0",
     "model_name": "LayoutModel",
     "state": {
      "_model_module": "@jupyter-widgets/base",
      "_model_module_version": "1.2.0",
      "_model_name": "LayoutModel",
      "_view_count": null,
      "_view_module": "@jupyter-widgets/base",
      "_view_module_version": "1.2.0",
      "_view_name": "LayoutView",
      "align_content": null,
      "align_items": null,
      "align_self": null,
      "border": null,
      "bottom": null,
      "display": null,
      "flex": null,
      "flex_flow": null,
      "grid_area": null,
      "grid_auto_columns": null,
      "grid_auto_flow": null,
      "grid_auto_rows": null,
      "grid_column": null,
      "grid_gap": null,
      "grid_row": null,
      "grid_template_areas": null,
      "grid_template_columns": null,
      "grid_template_rows": null,
      "height": null,
      "justify_content": null,
      "justify_items": null,
      "left": null,
      "margin": null,
      "max_height": null,
      "max_width": null,
      "min_height": null,
      "min_width": null,
      "object_fit": null,
      "object_position": null,
      "order": null,
      "overflow": null,
      "overflow_x": null,
      "overflow_y": null,
      "padding": null,
      "right": null,
      "top": null,
      "visibility": null,
      "width": null
     }
    },
    "c45c7c24ee44458eb40e85129549f631": {
     "model_module": "@jupyter-widgets/base",
     "model_module_version": "1.2.0",
     "model_name": "LayoutModel",
     "state": {
      "_model_module": "@jupyter-widgets/base",
      "_model_module_version": "1.2.0",
      "_model_name": "LayoutModel",
      "_view_count": null,
      "_view_module": "@jupyter-widgets/base",
      "_view_module_version": "1.2.0",
      "_view_name": "LayoutView",
      "align_content": null,
      "align_items": null,
      "align_self": null,
      "border": null,
      "bottom": null,
      "display": null,
      "flex": null,
      "flex_flow": null,
      "grid_area": null,
      "grid_auto_columns": null,
      "grid_auto_flow": null,
      "grid_auto_rows": null,
      "grid_column": null,
      "grid_gap": null,
      "grid_row": null,
      "grid_template_areas": null,
      "grid_template_columns": null,
      "grid_template_rows": null,
      "height": null,
      "justify_content": null,
      "justify_items": null,
      "left": null,
      "margin": null,
      "max_height": null,
      "max_width": null,
      "min_height": null,
      "min_width": null,
      "object_fit": null,
      "object_position": null,
      "order": null,
      "overflow": null,
      "overflow_x": null,
      "overflow_y": null,
      "padding": null,
      "right": null,
      "top": null,
      "visibility": null,
      "width": null
     }
    },
    "c488f5bc088b452b91e3e525da823d39": {
     "model_module": "@jupyter-widgets/controls",
     "model_module_version": "1.5.0",
     "model_name": "HTMLModel",
     "state": {
      "_dom_classes": [],
      "_model_module": "@jupyter-widgets/controls",
      "_model_module_version": "1.5.0",
      "_model_name": "HTMLModel",
      "_view_count": null,
      "_view_module": "@jupyter-widgets/controls",
      "_view_module_version": "1.5.0",
      "_view_name": "HTMLView",
      "description": "",
      "description_tooltip": null,
      "layout": "IPY_MODEL_9ee57aa21a68415cad52ea86b97030bb",
      "placeholder": "​",
      "style": "IPY_MODEL_36a1efd66de44c72b42ac3906f105163",
      "value": "Map: 100%"
     }
    },
    "c6c1f095da6645e580072e4a44d94850": {
     "model_module": "@jupyter-widgets/base",
     "model_module_version": "1.2.0",
     "model_name": "LayoutModel",
     "state": {
      "_model_module": "@jupyter-widgets/base",
      "_model_module_version": "1.2.0",
      "_model_name": "LayoutModel",
      "_view_count": null,
      "_view_module": "@jupyter-widgets/base",
      "_view_module_version": "1.2.0",
      "_view_name": "LayoutView",
      "align_content": null,
      "align_items": null,
      "align_self": null,
      "border": null,
      "bottom": null,
      "display": null,
      "flex": null,
      "flex_flow": null,
      "grid_area": null,
      "grid_auto_columns": null,
      "grid_auto_flow": null,
      "grid_auto_rows": null,
      "grid_column": null,
      "grid_gap": null,
      "grid_row": null,
      "grid_template_areas": null,
      "grid_template_columns": null,
      "grid_template_rows": null,
      "height": null,
      "justify_content": null,
      "justify_items": null,
      "left": null,
      "margin": null,
      "max_height": null,
      "max_width": null,
      "min_height": null,
      "min_width": null,
      "object_fit": null,
      "object_position": null,
      "order": null,
      "overflow": null,
      "overflow_x": null,
      "overflow_y": null,
      "padding": null,
      "right": null,
      "top": null,
      "visibility": null,
      "width": null
     }
    },
    "c7735b6f8b6b46719bf18f0a5b82fb9a": {
     "model_module": "@jupyter-widgets/base",
     "model_module_version": "1.2.0",
     "model_name": "LayoutModel",
     "state": {
      "_model_module": "@jupyter-widgets/base",
      "_model_module_version": "1.2.0",
      "_model_name": "LayoutModel",
      "_view_count": null,
      "_view_module": "@jupyter-widgets/base",
      "_view_module_version": "1.2.0",
      "_view_name": "LayoutView",
      "align_content": null,
      "align_items": null,
      "align_self": null,
      "border": null,
      "bottom": null,
      "display": null,
      "flex": null,
      "flex_flow": null,
      "grid_area": null,
      "grid_auto_columns": null,
      "grid_auto_flow": null,
      "grid_auto_rows": null,
      "grid_column": null,
      "grid_gap": null,
      "grid_row": null,
      "grid_template_areas": null,
      "grid_template_columns": null,
      "grid_template_rows": null,
      "height": null,
      "justify_content": null,
      "justify_items": null,
      "left": null,
      "margin": null,
      "max_height": null,
      "max_width": null,
      "min_height": null,
      "min_width": null,
      "object_fit": null,
      "object_position": null,
      "order": null,
      "overflow": null,
      "overflow_x": null,
      "overflow_y": null,
      "padding": null,
      "right": null,
      "top": null,
      "visibility": null,
      "width": null
     }
    },
    "cb02d94a88544747abbeda222a858e3b": {
     "model_module": "@jupyter-widgets/base",
     "model_module_version": "1.2.0",
     "model_name": "LayoutModel",
     "state": {
      "_model_module": "@jupyter-widgets/base",
      "_model_module_version": "1.2.0",
      "_model_name": "LayoutModel",
      "_view_count": null,
      "_view_module": "@jupyter-widgets/base",
      "_view_module_version": "1.2.0",
      "_view_name": "LayoutView",
      "align_content": null,
      "align_items": null,
      "align_self": null,
      "border": null,
      "bottom": null,
      "display": null,
      "flex": null,
      "flex_flow": null,
      "grid_area": null,
      "grid_auto_columns": null,
      "grid_auto_flow": null,
      "grid_auto_rows": null,
      "grid_column": null,
      "grid_gap": null,
      "grid_row": null,
      "grid_template_areas": null,
      "grid_template_columns": null,
      "grid_template_rows": null,
      "height": null,
      "justify_content": null,
      "justify_items": null,
      "left": null,
      "margin": null,
      "max_height": null,
      "max_width": null,
      "min_height": null,
      "min_width": null,
      "object_fit": null,
      "object_position": null,
      "order": null,
      "overflow": null,
      "overflow_x": null,
      "overflow_y": null,
      "padding": null,
      "right": null,
      "top": null,
      "visibility": null,
      "width": null
     }
    },
    "ce9981c9e66c44fc8af8eb7ed4dcbf8c": {
     "model_module": "@jupyter-widgets/controls",
     "model_module_version": "1.5.0",
     "model_name": "DescriptionStyleModel",
     "state": {
      "_model_module": "@jupyter-widgets/controls",
      "_model_module_version": "1.5.0",
      "_model_name": "DescriptionStyleModel",
      "_view_count": null,
      "_view_module": "@jupyter-widgets/base",
      "_view_module_version": "1.2.0",
      "_view_name": "StyleView",
      "description_width": ""
     }
    },
    "d0e0e2dfdc2e4b84a885b8b435791216": {
     "model_module": "@jupyter-widgets/controls",
     "model_module_version": "1.5.0",
     "model_name": "ProgressStyleModel",
     "state": {
      "_model_module": "@jupyter-widgets/controls",
      "_model_module_version": "1.5.0",
      "_model_name": "ProgressStyleModel",
      "_view_count": null,
      "_view_module": "@jupyter-widgets/base",
      "_view_module_version": "1.2.0",
      "_view_name": "StyleView",
      "bar_color": null,
      "description_width": ""
     }
    },
    "d18d5ad17d524951bb3e0c0e6a1bb148": {
     "model_module": "@jupyter-widgets/controls",
     "model_module_version": "1.5.0",
     "model_name": "HTMLModel",
     "state": {
      "_dom_classes": [],
      "_model_module": "@jupyter-widgets/controls",
      "_model_module_version": "1.5.0",
      "_model_name": "HTMLModel",
      "_view_count": null,
      "_view_module": "@jupyter-widgets/controls",
      "_view_module_version": "1.5.0",
      "_view_name": "HTMLView",
      "description": "",
      "description_tooltip": null,
      "layout": "IPY_MODEL_6fc39a580dad4a3f97ccf8e19ebf9456",
      "placeholder": "​",
      "style": "IPY_MODEL_916e0ebeebbc493a888d6645cf784130",
      "value": "model.safetensors: 100%"
     }
    },
    "d1a310ef96e94ba2adf19f4bf2e5ded7": {
     "model_module": "@jupyter-widgets/base",
     "model_module_version": "1.2.0",
     "model_name": "LayoutModel",
     "state": {
      "_model_module": "@jupyter-widgets/base",
      "_model_module_version": "1.2.0",
      "_model_name": "LayoutModel",
      "_view_count": null,
      "_view_module": "@jupyter-widgets/base",
      "_view_module_version": "1.2.0",
      "_view_name": "LayoutView",
      "align_content": null,
      "align_items": null,
      "align_self": null,
      "border": null,
      "bottom": null,
      "display": null,
      "flex": null,
      "flex_flow": null,
      "grid_area": null,
      "grid_auto_columns": null,
      "grid_auto_flow": null,
      "grid_auto_rows": null,
      "grid_column": null,
      "grid_gap": null,
      "grid_row": null,
      "grid_template_areas": null,
      "grid_template_columns": null,
      "grid_template_rows": null,
      "height": null,
      "justify_content": null,
      "justify_items": null,
      "left": null,
      "margin": null,
      "max_height": null,
      "max_width": null,
      "min_height": null,
      "min_width": null,
      "object_fit": null,
      "object_position": null,
      "order": null,
      "overflow": null,
      "overflow_x": null,
      "overflow_y": null,
      "padding": null,
      "right": null,
      "top": null,
      "visibility": null,
      "width": null
     }
    },
    "d5abdaedb0174ca38a71c68196308830": {
     "model_module": "@jupyter-widgets/controls",
     "model_module_version": "1.5.0",
     "model_name": "HTMLModel",
     "state": {
      "_dom_classes": [],
      "_model_module": "@jupyter-widgets/controls",
      "_model_module_version": "1.5.0",
      "_model_name": "HTMLModel",
      "_view_count": null,
      "_view_module": "@jupyter-widgets/controls",
      "_view_module_version": "1.5.0",
      "_view_name": "HTMLView",
      "description": "",
      "description_tooltip": null,
      "layout": "IPY_MODEL_7d41ce7c04484b808ec7ab512b03a7c1",
      "placeholder": "​",
      "style": "IPY_MODEL_268c0e42303f42dfbf60d4eb50886b8f",
      "value": " 2.20k/2.20k [00:00&lt;00:00, 231kB/s]"
     }
    },
    "d8e99c1b37b1434080334497912fed64": {
     "model_module": "@jupyter-widgets/controls",
     "model_module_version": "1.5.0",
     "model_name": "DescriptionStyleModel",
     "state": {
      "_model_module": "@jupyter-widgets/controls",
      "_model_module_version": "1.5.0",
      "_model_name": "DescriptionStyleModel",
      "_view_count": null,
      "_view_module": "@jupyter-widgets/base",
      "_view_module_version": "1.2.0",
      "_view_name": "StyleView",
      "description_width": ""
     }
    },
    "dbddf31267cb4f008f69593963da771b": {
     "model_module": "@jupyter-widgets/base",
     "model_module_version": "1.2.0",
     "model_name": "LayoutModel",
     "state": {
      "_model_module": "@jupyter-widgets/base",
      "_model_module_version": "1.2.0",
      "_model_name": "LayoutModel",
      "_view_count": null,
      "_view_module": "@jupyter-widgets/base",
      "_view_module_version": "1.2.0",
      "_view_name": "LayoutView",
      "align_content": null,
      "align_items": null,
      "align_self": null,
      "border": null,
      "bottom": null,
      "display": null,
      "flex": null,
      "flex_flow": null,
      "grid_area": null,
      "grid_auto_columns": null,
      "grid_auto_flow": null,
      "grid_auto_rows": null,
      "grid_column": null,
      "grid_gap": null,
      "grid_row": null,
      "grid_template_areas": null,
      "grid_template_columns": null,
      "grid_template_rows": null,
      "height": null,
      "justify_content": null,
      "justify_items": null,
      "left": null,
      "margin": null,
      "max_height": null,
      "max_width": null,
      "min_height": null,
      "min_width": null,
      "object_fit": null,
      "object_position": null,
      "order": null,
      "overflow": null,
      "overflow_x": null,
      "overflow_y": null,
      "padding": null,
      "right": null,
      "top": null,
      "visibility": null,
      "width": null
     }
    },
    "dcb022d465e244f48c211a3345529e5f": {
     "model_module": "@jupyter-widgets/controls",
     "model_module_version": "1.5.0",
     "model_name": "HTMLModel",
     "state": {
      "_dom_classes": [],
      "_model_module": "@jupyter-widgets/controls",
      "_model_module_version": "1.5.0",
      "_model_name": "HTMLModel",
      "_view_count": null,
      "_view_module": "@jupyter-widgets/controls",
      "_view_module_version": "1.5.0",
      "_view_name": "HTMLView",
      "description": "",
      "description_tooltip": null,
      "layout": "IPY_MODEL_7a743bf7607e415eaed43a39c9949c36",
      "placeholder": "​",
      "style": "IPY_MODEL_ce9981c9e66c44fc8af8eb7ed4dcbf8c",
      "value": "Map: 100%"
     }
    },
    "dd299ddd078743328e4950c64beacefd": {
     "model_module": "@jupyter-widgets/controls",
     "model_module_version": "1.5.0",
     "model_name": "DescriptionStyleModel",
     "state": {
      "_model_module": "@jupyter-widgets/controls",
      "_model_module_version": "1.5.0",
      "_model_name": "DescriptionStyleModel",
      "_view_count": null,
      "_view_module": "@jupyter-widgets/base",
      "_view_module_version": "1.2.0",
      "_view_name": "StyleView",
      "description_width": ""
     }
    },
    "dd9b2b417dcf4a9f8d70e21f01a57e6a": {
     "model_module": "@jupyter-widgets/base",
     "model_module_version": "1.2.0",
     "model_name": "LayoutModel",
     "state": {
      "_model_module": "@jupyter-widgets/base",
      "_model_module_version": "1.2.0",
      "_model_name": "LayoutModel",
      "_view_count": null,
      "_view_module": "@jupyter-widgets/base",
      "_view_module_version": "1.2.0",
      "_view_name": "LayoutView",
      "align_content": null,
      "align_items": null,
      "align_self": null,
      "border": null,
      "bottom": null,
      "display": null,
      "flex": null,
      "flex_flow": null,
      "grid_area": null,
      "grid_auto_columns": null,
      "grid_auto_flow": null,
      "grid_auto_rows": null,
      "grid_column": null,
      "grid_gap": null,
      "grid_row": null,
      "grid_template_areas": null,
      "grid_template_columns": null,
      "grid_template_rows": null,
      "height": null,
      "justify_content": null,
      "justify_items": null,
      "left": null,
      "margin": null,
      "max_height": null,
      "max_width": null,
      "min_height": null,
      "min_width": null,
      "object_fit": null,
      "object_position": null,
      "order": null,
      "overflow": null,
      "overflow_x": null,
      "overflow_y": null,
      "padding": null,
      "right": null,
      "top": null,
      "visibility": null,
      "width": null
     }
    },
    "de41f025b080447b86729dc0e6d41e9d": {
     "model_module": "@jupyter-widgets/controls",
     "model_module_version": "1.5.0",
     "model_name": "HTMLModel",
     "state": {
      "_dom_classes": [],
      "_model_module": "@jupyter-widgets/controls",
      "_model_module_version": "1.5.0",
      "_model_name": "HTMLModel",
      "_view_count": null,
      "_view_module": "@jupyter-widgets/controls",
      "_view_module_version": "1.5.0",
      "_view_name": "HTMLView",
      "description": "",
      "description_tooltip": null,
      "layout": "IPY_MODEL_919e5aa4ee9a4b15a03ef8ca524beaaf",
      "placeholder": "​",
      "style": "IPY_MODEL_0933fbab3b72417481bee447c411d01d",
      "value": " 792k/792k [00:00&lt;00:00, 128kB/s]"
     }
    },
    "e6b6df1adf4b443cb46777e2f06e053c": {
     "model_module": "@jupyter-widgets/controls",
     "model_module_version": "1.5.0",
     "model_name": "DescriptionStyleModel",
     "state": {
      "_model_module": "@jupyter-widgets/controls",
      "_model_module_version": "1.5.0",
      "_model_name": "DescriptionStyleModel",
      "_view_count": null,
      "_view_module": "@jupyter-widgets/base",
      "_view_module_version": "1.2.0",
      "_view_name": "StyleView",
      "description_width": ""
     }
    },
    "efb22bf08a4340788c1b48ae811542de": {
     "model_module": "@jupyter-widgets/base",
     "model_module_version": "1.2.0",
     "model_name": "LayoutModel",
     "state": {
      "_model_module": "@jupyter-widgets/base",
      "_model_module_version": "1.2.0",
      "_model_name": "LayoutModel",
      "_view_count": null,
      "_view_module": "@jupyter-widgets/base",
      "_view_module_version": "1.2.0",
      "_view_name": "LayoutView",
      "align_content": null,
      "align_items": null,
      "align_self": null,
      "border": null,
      "bottom": null,
      "display": null,
      "flex": null,
      "flex_flow": null,
      "grid_area": null,
      "grid_auto_columns": null,
      "grid_auto_flow": null,
      "grid_auto_rows": null,
      "grid_column": null,
      "grid_gap": null,
      "grid_row": null,
      "grid_template_areas": null,
      "grid_template_columns": null,
      "grid_template_rows": null,
      "height": null,
      "justify_content": null,
      "justify_items": null,
      "left": null,
      "margin": null,
      "max_height": null,
      "max_width": null,
      "min_height": null,
      "min_width": null,
      "object_fit": null,
      "object_position": null,
      "order": null,
      "overflow": null,
      "overflow_x": null,
      "overflow_y": null,
      "padding": null,
      "right": null,
      "top": null,
      "visibility": null,
      "width": null
     }
    },
    "f252c2ac939848c0a92222a5ccdd7f3a": {
     "model_module": "@jupyter-widgets/controls",
     "model_module_version": "1.5.0",
     "model_name": "DescriptionStyleModel",
     "state": {
      "_model_module": "@jupyter-widgets/controls",
      "_model_module_version": "1.5.0",
      "_model_name": "DescriptionStyleModel",
      "_view_count": null,
      "_view_module": "@jupyter-widgets/base",
      "_view_module_version": "1.2.0",
      "_view_name": "StyleView",
      "description_width": ""
     }
    },
    "f7e2ce99e1c2478ea5b3899f2c689265": {
     "model_module": "@jupyter-widgets/controls",
     "model_module_version": "1.5.0",
     "model_name": "HTMLModel",
     "state": {
      "_dom_classes": [],
      "_model_module": "@jupyter-widgets/controls",
      "_model_module_version": "1.5.0",
      "_model_name": "HTMLModel",
      "_view_count": null,
      "_view_module": "@jupyter-widgets/controls",
      "_view_module_version": "1.5.0",
      "_view_name": "HTMLView",
      "description": "",
      "description_tooltip": null,
      "layout": "IPY_MODEL_dd9b2b417dcf4a9f8d70e21f01a57e6a",
      "placeholder": "​",
      "style": "IPY_MODEL_5cd2ed77e3f5488fa6548b236a97f0fe",
      "value": " 2.42M/2.42M [00:00&lt;00:00, 6.76MB/s]"
     }
    },
    "f86db8fd00254838914cc15cf2d93ea1": {
     "model_module": "@jupyter-widgets/controls",
     "model_module_version": "1.5.0",
     "model_name": "HTMLModel",
     "state": {
      "_dom_classes": [],
      "_model_module": "@jupyter-widgets/controls",
      "_model_module_version": "1.5.0",
      "_model_name": "HTMLModel",
      "_view_count": null,
      "_view_module": "@jupyter-widgets/controls",
      "_view_module_version": "1.5.0",
      "_view_name": "HTMLView",
      "description": "",
      "description_tooltip": null,
      "layout": "IPY_MODEL_128f8096dbaf45589f1aad81445ed902",
      "placeholder": "​",
      "style": "IPY_MODEL_5843a4f025564adfa9955f2dfe13165a",
      "value": " 308M/308M [00:02&lt;00:00, 129MB/s]"
     }
    },
    "f927fbd38e4b44268cb0203cccdbe60c": {
     "model_module": "@jupyter-widgets/base",
     "model_module_version": "1.2.0",
     "model_name": "LayoutModel",
     "state": {
      "_model_module": "@jupyter-widgets/base",
      "_model_module_version": "1.2.0",
      "_model_name": "LayoutModel",
      "_view_count": null,
      "_view_module": "@jupyter-widgets/base",
      "_view_module_version": "1.2.0",
      "_view_name": "LayoutView",
      "align_content": null,
      "align_items": null,
      "align_self": null,
      "border": null,
      "bottom": null,
      "display": null,
      "flex": null,
      "flex_flow": null,
      "grid_area": null,
      "grid_auto_columns": null,
      "grid_auto_flow": null,
      "grid_auto_rows": null,
      "grid_column": null,
      "grid_gap": null,
      "grid_row": null,
      "grid_template_areas": null,
      "grid_template_columns": null,
      "grid_template_rows": null,
      "height": null,
      "justify_content": null,
      "justify_items": null,
      "left": null,
      "margin": null,
      "max_height": null,
      "max_width": null,
      "min_height": null,
      "min_width": null,
      "object_fit": null,
      "object_position": null,
      "order": null,
      "overflow": null,
      "overflow_x": null,
      "overflow_y": null,
      "padding": null,
      "right": null,
      "top": null,
      "visibility": null,
      "width": null
     }
    },
    "fad9ecb355dc47a68dff731e7cf2a8b6": {
     "model_module": "@jupyter-widgets/base",
     "model_module_version": "1.2.0",
     "model_name": "LayoutModel",
     "state": {
      "_model_module": "@jupyter-widgets/base",
      "_model_module_version": "1.2.0",
      "_model_name": "LayoutModel",
      "_view_count": null,
      "_view_module": "@jupyter-widgets/base",
      "_view_module_version": "1.2.0",
      "_view_name": "LayoutView",
      "align_content": null,
      "align_items": null,
      "align_self": null,
      "border": null,
      "bottom": null,
      "display": null,
      "flex": null,
      "flex_flow": null,
      "grid_area": null,
      "grid_auto_columns": null,
      "grid_auto_flow": null,
      "grid_auto_rows": null,
      "grid_column": null,
      "grid_gap": null,
      "grid_row": null,
      "grid_template_areas": null,
      "grid_template_columns": null,
      "grid_template_rows": null,
      "height": null,
      "justify_content": null,
      "justify_items": null,
      "left": null,
      "margin": null,
      "max_height": null,
      "max_width": null,
      "min_height": null,
      "min_width": null,
      "object_fit": null,
      "object_position": null,
      "order": null,
      "overflow": null,
      "overflow_x": null,
      "overflow_y": null,
      "padding": null,
      "right": null,
      "top": null,
      "visibility": null,
      "width": null
     }
    },
    "fafdc169075f4d3893f5f7c793ff5519": {
     "model_module": "@jupyter-widgets/base",
     "model_module_version": "1.2.0",
     "model_name": "LayoutModel",
     "state": {
      "_model_module": "@jupyter-widgets/base",
      "_model_module_version": "1.2.0",
      "_model_name": "LayoutModel",
      "_view_count": null,
      "_view_module": "@jupyter-widgets/base",
      "_view_module_version": "1.2.0",
      "_view_name": "LayoutView",
      "align_content": null,
      "align_items": null,
      "align_self": null,
      "border": null,
      "bottom": null,
      "display": null,
      "flex": null,
      "flex_flow": null,
      "grid_area": null,
      "grid_auto_columns": null,
      "grid_auto_flow": null,
      "grid_auto_rows": null,
      "grid_column": null,
      "grid_gap": null,
      "grid_row": null,
      "grid_template_areas": null,
      "grid_template_columns": null,
      "grid_template_rows": null,
      "height": null,
      "justify_content": null,
      "justify_items": null,
      "left": null,
      "margin": null,
      "max_height": null,
      "max_width": null,
      "min_height": null,
      "min_width": null,
      "object_fit": null,
      "object_position": null,
      "order": null,
      "overflow": null,
      "overflow_x": null,
      "overflow_y": null,
      "padding": null,
      "right": null,
      "top": null,
      "visibility": null,
      "width": null
     }
    },
    "ff7f715ead53453ab4f344dff7a5ae7f": {
     "model_module": "@jupyter-widgets/controls",
     "model_module_version": "1.5.0",
     "model_name": "FloatProgressModel",
     "state": {
      "_dom_classes": [],
      "_model_module": "@jupyter-widgets/controls",
      "_model_module_version": "1.5.0",
      "_model_name": "FloatProgressModel",
      "_view_count": null,
      "_view_module": "@jupyter-widgets/controls",
      "_view_module_version": "1.5.0",
      "_view_name": "ProgressView",
      "bar_style": "success",
      "description": "",
      "description_tooltip": null,
      "layout": "IPY_MODEL_4ca3d37261914eae8e0157961295a4e0",
      "max": 2201,
      "min": 0,
      "orientation": "horizontal",
      "style": "IPY_MODEL_85fca20402ce44bc84fb751f5e41b155",
      "value": 2201
     }
    },
    "ffe98ec1f0d9411583e1e3de3637d2b1": {
     "model_module": "@jupyter-widgets/controls",
     "model_module_version": "1.5.0",
     "model_name": "ProgressStyleModel",
     "state": {
      "_model_module": "@jupyter-widgets/controls",
      "_model_module_version": "1.5.0",
      "_model_name": "ProgressStyleModel",
      "_view_count": null,
      "_view_module": "@jupyter-widgets/base",
      "_view_module_version": "1.2.0",
      "_view_name": "StyleView",
      "bar_color": null,
      "description_width": ""
     }
    }
   }
  }
 },
 "nbformat": 4,
 "nbformat_minor": 0
}
